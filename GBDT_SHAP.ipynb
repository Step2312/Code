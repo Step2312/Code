{
 "cells": [
  {
   "cell_type": "markdown",
   "source": [
    "\n",
    "# Catboost"
   ],
   "metadata": {
    "collapsed": false,
    "pycharm": {
     "name": "#%% md\n"
    }
   }
  },
  {
   "cell_type": "code",
   "execution_count": null,
   "outputs": [],
   "source": [
    "import datetime\n",
    "import re\n",
    "\n",
    "import numpy as np\n",
    "import pandas as pd\n",
    "import matplotlib.pyplot as plt\n",
    "import seaborn as sns\n",
    "\n",
    "\n",
    "from sklearn.model_selection import cross_val_score,cross_val_predict, train_test_split\n",
    "from sklearn.preprocessing import OneHotEncoder,StandardScaler,PowerTransformer,LabelEncoder\n",
    "\n",
    "from sklearn.metrics import accuracy_score,classification_report, recall_score,confusion_matrix, roc_auc_score, precision_score, f1_score, roc_curve, auc, plot_confusion_matrix,plot_roc_curve\n",
    "\n",
    "\n",
    "\n",
    "import lightgbm as lgb\n",
    "from xgboost import XGBClassifier\n",
    "#from lightgbm import LGBMClassifier, plot_importance\n",
    "from catboost import CatBoostClassifier\n",
    "\n",
    "\n",
    "\n",
    "\n",
    "#importing plotly and cufflinks in offline mode\n",
    "import cufflinks as cf\n",
    "import plotly.offline\n",
    "cf.go_offline()\n",
    "cf.set_config_file(offline=False, world_readable=True)\n",
    "\n",
    "import shap\n",
    "\n",
    "# import missingno as msno\n",
    "\n",
    "import warnings\n",
    "warnings.filterwarnings(\"ignore\")"
   ],
   "metadata": {
    "collapsed": false,
    "pycharm": {
     "name": "#%%\n"
    }
   }
  },
  {
   "cell_type": "code",
   "execution_count": null,
   "outputs": [],
   "source": [
    "input_path = './input/xiaoerxiaochuan/'\n",
    "output_path = './output/GBDT/'"
   ],
   "metadata": {
    "collapsed": false,
    "pycharm": {
     "name": "#%%\n"
    }
   }
  },
  {
   "cell_type": "code",
   "execution_count": null,
   "outputs": [],
   "source": [
    "# pd.set_option('max_columns',100)\n",
    "# pd.set_option('max_rows',900)\n",
    "\n",
    "pd.set_option('max_colwidth',200)\n",
    "\n",
    "df = pd.read_excel(input_path+'data.xlsx')\n",
    "df = df.dropna(axis=0,subset=['咳嗽分型']).reset_index()\n",
    "df.drop(index=[11,82],inplace=True)"
   ],
   "metadata": {
    "collapsed": false,
    "pycharm": {
     "name": "#%%\n"
    }
   }
  },
  {
   "cell_type": "code",
   "execution_count": null,
   "outputs": [],
   "source": [
    "medicines = []\n",
    "for i in df.columns:\n",
    "    if re.match('药\\d$',i):\n",
    "        medicines += df[i].tolist()\n",
    "medicines = list(set(medicines))\n",
    "for item in ['？', np.nan, '1.桑白皮', '（1）炙黄芪', '（1）桑叶', '葶苈子（包）', '地肤子（包）', '黛蛤散','葶苈子（包)','葶苈','白']:\n",
    "    if item in medicines:\n",
    "        medicines.remove(item)\n",
    "X = pd.DataFrame()\n",
    "for i,row in df.iterrows():\n",
    "    for j in row:\n",
    "        if j in medicines:\n",
    "            X.loc[i,j] = row[str(row[row==j].index.tolist()[0])+'剂量(g)']\n",
    "X.replace(np.nan,0,inplace=True)\n",
    "X['桑叶/桑白皮'].replace('各\\d',4,regex=True,inplace=True)\n",
    "X['煅龙牡'].replace('各\\d',4,regex=True,inplace=True)\n",
    "y = df['咳嗽分型']\n",
    "y.iplot(kind='hist', title= '咳嗽分型')\n",
    "X = pd.concat([X,y],axis=1)\n",
    "X = X.drop(X[(X['咳嗽分型']!='热性哮喘') & (X['咳嗽分型'] != '寒性哮喘')].index)\n",
    "X['咳嗽分型'].iplot(kind='hist', title= '咳嗽分型')"
   ],
   "metadata": {
    "collapsed": false,
    "pycharm": {
     "name": "#%%\n"
    }
   }
  },
  {
   "cell_type": "code",
   "execution_count": null,
   "outputs": [],
   "source": [
    "accuracy= []\n",
    "recall =[]\n",
    "roc_auc= []\n",
    "precision = []\n",
    "le = LabelEncoder()"
   ],
   "metadata": {
    "collapsed": false,
    "pycharm": {
     "name": "#%%\n"
    }
   }
  },
  {
   "cell_type": "code",
   "execution_count": null,
   "outputs": [],
   "source": [
    "X"
   ],
   "metadata": {
    "collapsed": false,
    "pycharm": {
     "name": "#%%\n"
    }
   }
  },
  {
   "cell_type": "code",
   "execution_count": null,
   "outputs": [],
   "source": [
    "y"
   ],
   "metadata": {
    "collapsed": false,
    "pycharm": {
     "name": "#%%\n"
    }
   }
  },
  {
   "cell_type": "code",
   "execution_count": null,
   "outputs": [],
   "source": [
    "y = X['咳嗽分型']\n",
    "y = le.fit_transform(y)\n",
    "X.drop(columns='咳嗽分型',inplace=True)\n",
    "cols = X.columns\n",
    "X"
   ],
   "metadata": {
    "collapsed": false,
    "pycharm": {
     "name": "#%%\n"
    }
   }
  },
  {
   "cell_type": "code",
   "execution_count": null,
   "outputs": [],
   "source": [
    "scale = StandardScaler()\n",
    "X =scale.fit_transform(X)"
   ],
   "metadata": {
    "collapsed": false,
    "pycharm": {
     "name": "#%%\n"
    }
   }
  },
  {
   "cell_type": "code",
   "execution_count": null,
   "outputs": [],
   "source": [
    "X"
   ],
   "metadata": {
    "collapsed": false,
    "pycharm": {
     "name": "#%%\n"
    }
   }
  },
  {
   "cell_type": "code",
   "execution_count": null,
   "outputs": [],
   "source": [
    "X_train, X_test, y_train, y_test = train_test_split(X, y, test_size=0.3, random_state=42)\n",
    "\n",
    "catboost_5 = CatBoostClassifier(verbose=False,random_state=0,scale_pos_weight=3,allow_writing_files=False)\n",
    "\n",
    "\n",
    "catboost_5.fit(X_train, y_train,eval_set=(X_test, y_test))\n",
    "\n",
    "y_pred = catboost_5.predict(X_test)\n",
    "\n",
    "accuracy.append(round(accuracy_score(y_test, y_pred),4))\n",
    "recall.append(round(recall_score(y_test, y_pred),4))\n",
    "roc_auc.append(round(roc_auc_score(y_test, y_pred),4))\n",
    "precision.append(round(precision_score(y_test, y_pred),4))\n",
    "\n",
    "model_names = ['Catboost_adjusted_weight_3']\n",
    "result_df3 = pd.DataFrame({'Accuracy':accuracy,'Recall':recall, 'Roc_Auc':roc_auc, 'Precision':precision}, index=model_names)\n",
    "result_df3"
   ],
   "metadata": {
    "collapsed": false,
    "pycharm": {
     "name": "#%%\n"
    }
   }
  },
  {
   "cell_type": "code",
   "execution_count": null,
   "outputs": [],
   "source": [
    "catboost_feature_importances=pd.DataFrame(data=[catboost_5.feature_importances_],columns=cols).sort_values(by=0,axis=1,ascending=False)\n",
    "# list(catboost_feature_importances.columns)\n",
    "plt.bar(catboost_feature_importances.columns[:10],catboost_feature_importances.values.squeeze()[:10])"
   ],
   "metadata": {
    "collapsed": false,
    "pycharm": {
     "name": "#%%\n"
    }
   }
  },
  {
   "cell_type": "code",
   "execution_count": null,
   "outputs": [],
   "source": [
    "catboost_feature_importances=pd.DataFrame(data=[catboost_5.get_feature_importance(type='PredictionValuesChange')],columns=cols).sort_values(by=0,axis=1,ascending=False)\n",
    "plt.bar(catboost_feature_importances.columns[:10],catboost_feature_importances.values.squeeze()[:10])"
   ],
   "metadata": {
    "collapsed": false,
    "pycharm": {
     "name": "#%%\n"
    }
   }
  },
  {
   "cell_type": "code",
   "execution_count": null,
   "outputs": [],
   "source": [
    "# catboost_feature_importances=pd.DataFrame(data=[catboost_5.get_feature_importance(type='ShapValues')],columns=cols).sort_values(by=0,axis=1,ascending=False)\n",
    "# plt.bar(catboost_feature_importances.columns[:10],catboost_feature_importances.values.squeeze()[:10])"
   ],
   "metadata": {
    "collapsed": false,
    "pycharm": {
     "name": "#%%\n"
    }
   }
  },
  {
   "cell_type": "code",
   "execution_count": null,
   "outputs": [],
   "source": [
    "# fig, ax = plt.subplots(figsize=(8, 8))\n",
    "# plot_confusion_matrix(catboost_5, X_test, y_test, cmap=plt.cm.Blues, ax=ax);"
   ],
   "metadata": {
    "collapsed": false,
    "pycharm": {
     "name": "#%%\n"
    }
   }
  },
  {
   "cell_type": "code",
   "execution_count": null,
   "outputs": [],
   "source": [
    "explainercat = shap.TreeExplainer(catboost_5)\n",
    "shap_values_cat_test = explainercat.shap_values(X_test)\n",
    "shap_values_cat_train = explainercat.shap_values(X_train)"
   ],
   "metadata": {
    "collapsed": false,
    "pycharm": {
     "name": "#%%\n"
    }
   }
  },
  {
   "cell_type": "code",
   "execution_count": null,
   "outputs": [],
   "source": [
    "SHAP_CatBoost=pd.DataFrame(data=shap_values_cat_train,columns=cols).sum(axis=0).sort_values(ascending=False)\n",
    "SHAP_CatBoost.drop(index=SHAP_CatBoost[SHAP_CatBoost==0].index,inplace=True)\n",
    "SHAP_CatBoost.round(3).to_csv(output_path+'Catboost_SHAP.csv')"
   ],
   "metadata": {
    "collapsed": false,
    "pycharm": {
     "name": "#%%\n"
    }
   }
  },
  {
   "cell_type": "code",
   "execution_count": null,
   "outputs": [],
   "source": [
    "plt.rcParams['font.sans-serif']=['SimHei'] #用来正常显示中文标签\n",
    "plt.rcParams['axes.unicode_minus'] = False #用来正常显示负号\n",
    "shap.summary_plot(shap_values_cat_train, cols, plot_type=\"bar\",plot_size=(8,8))"
   ],
   "metadata": {
    "collapsed": false,
    "pycharm": {
     "name": "#%%\n"
    }
   }
  },
  {
   "cell_type": "code",
   "execution_count": null,
   "outputs": [],
   "source": [
    "# fig = plt.subplots(figsize=(6,6),dpi=200)\n",
    "# ax = shap.summary_plot(shap_values_cat_train, cols,plot_type=\"dot\")"
   ],
   "metadata": {
    "collapsed": false,
    "pycharm": {
     "name": "#%%\n"
    }
   }
  },
  {
   "cell_type": "markdown",
   "source": [
    "# LightGBM"
   ],
   "metadata": {
    "collapsed": false,
    "pycharm": {
     "name": "#%% md\n"
    }
   }
  },
  {
   "cell_type": "markdown",
   "source": [
    "- split:分裂时，特征用到的次数\n",
    "- gain:信息增益"
   ],
   "metadata": {
    "collapsed": false,
    "pycharm": {
     "name": "#%% md\n"
    }
   }
  },
  {
   "cell_type": "code",
   "execution_count": null,
   "outputs": [],
   "source": [
    "import re\n",
    "from pprint import pprint\n",
    "import datetime\n",
    "import numpy as np\n",
    "import pandas as pd\n",
    "import matplotlib.pyplot as plt\n",
    "import seaborn as sns\n",
    "from sklearn.model_selection import cross_val_score,cross_val_predict, train_test_split\n",
    "from sklearn.preprocessing import OneHotEncoder,StandardScaler,PowerTransformer,LabelEncoder\n",
    "from sklearn.metrics import accuracy_score,classification_report, recall_score,confusion_matrix, roc_auc_score, precision_score, f1_score, roc_curve, auc, plot_confusion_matrix,plot_roc_curve\n",
    "import lightgbm as lgb\n",
    "from xgboost import XGBClassifier\n",
    "import xgboost as xgb\n",
    "#from lightgbm import LGBMClassifier, plot_importance\n",
    "from catboost import CatBoostClassifier\n",
    "#importing plotly and cufflinks in offline mode\n",
    "import cufflinks as cf\n",
    "import plotly.offline\n",
    "cf.go_offline()\n",
    "cf.set_config_file(offline=False, world_readable=True)\n",
    "import shap\n",
    "# import missingno as msno\n",
    "import warnings\n",
    "warnings.filterwarnings(\"ignore\")\n",
    "print(datetime.datetime.now(),'\\n依赖库加载完毕!')"
   ],
   "metadata": {
    "collapsed": false,
    "pycharm": {
     "name": "#%%\n"
    }
   }
  },
  {
   "cell_type": "code",
   "execution_count": null,
   "outputs": [],
   "source": [
    "df = pd.read_excel(input_path+'data.xlsx')\n",
    "df = df.dropna(axis=0,subset=['咳嗽分型']).reset_index()\n",
    "df.drop(index=[11,82],inplace=True)\n",
    "medicines = []\n",
    "for i in df.columns:\n",
    "    if re.match('药\\d$',i):\n",
    "        medicines += df[i].tolist()\n",
    "medicines = list(set(medicines))\n",
    "for item in ['？', np.nan, '1.桑白皮', '（1）炙黄芪', '（1）桑叶', '葶苈子（包）', '地肤子（包）', '黛蛤散','葶苈子（包)','葶苈','白']:\n",
    "    if item in medicines:\n",
    "        medicines.remove(item)\n",
    "X = pd.DataFrame()\n",
    "for i,row in df.iterrows():\n",
    "    for j in row:\n",
    "        if j in medicines:\n",
    "            X.loc[i,j] = row[str(row[row==j].index.tolist()[0])+'剂量(g)']\n",
    "X.replace(np.nan,0,inplace=True)\n",
    "X['桑叶/桑白皮'].replace('各\\d',4,regex=True,inplace=True)\n",
    "X['煅龙牡'].replace('各\\d',4,regex=True,inplace=True)\n",
    "y = df['咳嗽分型']\n",
    "# y.iplot(kind='hist', title= '咳嗽分型')\n",
    "X = pd.concat([X,y],axis=1)\n",
    "X = X.drop(X[(X['咳嗽分型']!='热性哮喘') & (X['咳嗽分型'] != '寒性哮喘')].index)\n",
    "# X['咳嗽分型'].iplot(kind='hist', title= '咳嗽分型')\n",
    "accuracy= []\n",
    "recall =[]\n",
    "roc_auc= []\n",
    "precision = []\n",
    "le = LabelEncoder()\n",
    "y = X['咳嗽分型']\n",
    "y = le.fit_transform(y)\n",
    "X.drop(columns='咳嗽分型',inplace=True)\n",
    "cols = X.columns\n",
    "X[:] = StandardScaler().fit_transform(X)\n",
    "print(datetime.datetime.now(),'\\n数据预处理完成!')"
   ],
   "metadata": {
    "collapsed": false,
    "pycharm": {
     "name": "#%%\n"
    }
   }
  },
  {
   "cell_type": "code",
   "execution_count": null,
   "outputs": [],
   "source": [
    "X_train, X_test, y_train, y_test = train_test_split(X, y, test_size=0.3, random_state=42)\n",
    "\n",
    "lgbmc_5=lgb.LGBMClassifier(random_state=0,scale_pos_weight=3)\n",
    "\n",
    "lgbmc_5.fit(X_train, y_train,categorical_feature = 'auto',eval_set=(X_test, y_test),feature_name='auto', verbose=0)\n",
    "\n",
    "y_pred = lgbmc_5.predict(X_test)\n",
    "\n",
    "accuracy.append(round(accuracy_score(y_test, y_pred),4))\n",
    "recall.append(round(recall_score(y_test, y_pred),4))\n",
    "roc_auc.append(round(roc_auc_score(y_test, y_pred),4))\n",
    "precision.append(round(precision_score(y_test, y_pred),4))\n",
    "\n",
    "model_names = ['LightGBM_adjusted_weight_5']\n",
    "result_df9 = pd.DataFrame({'Accuracy':accuracy,'Recall':recall, 'Roc_Auc':roc_auc, 'Precision':precision}, index=model_names)\n",
    "result_df9"
   ],
   "metadata": {
    "collapsed": false,
    "pycharm": {
     "name": "#%%\n"
    }
   }
  },
  {
   "cell_type": "code",
   "execution_count": null,
   "outputs": [],
   "source": [
    "lgb_feature_importances=pd.DataFrame(data=[lgbmc_5.feature_importances_],columns=cols).sort_values(by=0,axis=1,ascending=False)\n",
    "plt.bar(lgb_feature_importances.columns[:10],lgb_feature_importances.values.squeeze()[:10])"
   ],
   "metadata": {
    "collapsed": false,
    "pycharm": {
     "name": "#%%\n"
    }
   }
  },
  {
   "cell_type": "code",
   "execution_count": null,
   "outputs": [],
   "source": [
    "# fig, ax = plt.subplots(figsize=(8, 8))\n",
    "# plot_confusion_matrix(lgbmc_5, X_test, y_test, cmap=plt.cm.Blues, ax=ax);"
   ],
   "metadata": {
    "collapsed": false,
    "pycharm": {
     "name": "#%%\n"
    }
   }
  },
  {
   "cell_type": "code",
   "execution_count": null,
   "outputs": [],
   "source": [
    "from lightgbm import plot_importance\n",
    "_,ax = plt.subplots(figsize=(10,8))\n",
    "plot_importance(lgbmc_5,importance_type='split',grid=False,height=0.5,ax=ax,max_num_features=10)"
   ],
   "metadata": {
    "collapsed": false,
    "pycharm": {
     "name": "#%%\n"
    }
   }
  },
  {
   "cell_type": "code",
   "execution_count": null,
   "outputs": [],
   "source": [
    "_,ax = plt.subplots(figsize=(10,8))\n",
    "plot_importance(lgbmc_5,importance_type='gain',grid=False,height=0.5,ax=ax,max_num_features=10)"
   ],
   "metadata": {
    "collapsed": false,
    "pycharm": {
     "name": "#%%\n"
    }
   }
  },
  {
   "cell_type": "code",
   "execution_count": null,
   "outputs": [],
   "source": [
    "from sklearn.inspection import permutation_importance\n",
    "lgb_permutation_importance = permutation_importance(lgbmc_5,X_test,y_test,random_state=77)\n",
    "sorted_idx = lgb_permutation_importance.importances_mean.argsort()\n",
    "plt.barh(X.columns[sorted_idx][:10],lgb_permutation_importance.importances_mean[sorted_idx][:10])\n",
    "plt.xlabel(\"Permutation Importance\")\n",
    "# lgb_permutation_importance.importances_mean[sorted_idx][:10]"
   ],
   "metadata": {
    "collapsed": false,
    "pycharm": {
     "name": "#%%\n"
    }
   }
  },
  {
   "cell_type": "code",
   "execution_count": null,
   "outputs": [],
   "source": [
    "explainerlgbmc = shap.TreeExplainer(lgbmc_5)\n",
    "shap_values_LightGBM_test = explainerlgbmc.shap_values(X_test)\n",
    "shap_values_LightGBM_train = explainerlgbmc.shap_values(X_train)\n",
    "print(datetime.datetime.now(),'LightGBM SHAP value训练完成!')"
   ],
   "metadata": {
    "collapsed": false,
    "pycharm": {
     "name": "#%%\n"
    }
   }
  },
  {
   "cell_type": "code",
   "execution_count": null,
   "outputs": [],
   "source": [
    "SHAP_LightGBM=pd.DataFrame(data=shap_values_LightGBM_train[1],columns=cols).sum(axis=0).sort_values(ascending=False)\n",
    "SHAP_LightGBM.drop(index=SHAP_LightGBM[SHAP_LightGBM==0].index,inplace=True)\n",
    "SHAP_LightGBM.to_csv(output_path+'LightGBM_SHAP.csv')"
   ],
   "metadata": {
    "collapsed": false,
    "pycharm": {
     "name": "#%%\n"
    }
   }
  },
  {
   "cell_type": "code",
   "execution_count": null,
   "outputs": [],
   "source": [
    "shap.summary_plot(shap_values_LightGBM_train[1],cols,plot_type=\"bar\",plot_size=(12,12))"
   ],
   "metadata": {
    "collapsed": false,
    "pycharm": {
     "name": "#%%\n"
    }
   }
  },
  {
   "cell_type": "code",
   "execution_count": null,
   "outputs": [],
   "source": [
    "# fig = plt.subplots(figsize=(6,6),dpi=200)\n",
    "# ax = shap.summary_plot(shap_values_LightGBM_train[1], cols,plot_type=\"dot\")"
   ],
   "metadata": {
    "collapsed": false,
    "pycharm": {
     "name": "#%%\n"
    }
   }
  },
  {
   "cell_type": "markdown",
   "source": [
    "# XGBoost"
   ],
   "metadata": {
    "collapsed": false,
    "pycharm": {
     "name": "#%% md\n"
    }
   }
  },
  {
   "cell_type": "markdown",
   "source": [
    "- 信息增益gain：节点分裂时，该特征带来的信息增益优化的平均值\n",
    "- 权重weight: 子树模型分裂时，用到的特征次数\n",
    "- cover:特征下的叶子节点涵盖的样本数除以用来分裂的次数，分裂越靠近根部，cover越大\n",
    "- permutation:如果这个特征很重要，那么我们打散样本中该特征的值，最后优化目标将折损，这个折损程度就是这个特征的重要程度，对非线性模型更加友好\n",
    "- SHAP: 轮流去掉每一个特征，算出剩下的特征的贡献情况，以此来推导出特征的边际贡献\n"
   ],
   "metadata": {
    "collapsed": false,
    "pycharm": {
     "name": "#%% md\n"
    }
   }
  },
  {
   "cell_type": "code",
   "execution_count": null,
   "outputs": [],
   "source": [
    "import re\n",
    "from pprint import pprint\n",
    "import datetime\n",
    "import numpy as np\n",
    "import pandas as pd\n",
    "import matplotlib.pyplot as plt\n",
    "import seaborn as sns\n",
    "from sklearn.model_selection import cross_val_score,cross_val_predict, train_test_split\n",
    "from sklearn.preprocessing import OneHotEncoder,StandardScaler,PowerTransformer,LabelEncoder\n",
    "from sklearn.metrics import accuracy_score,classification_report, recall_score,confusion_matrix, roc_auc_score, precision_score, f1_score, roc_curve, auc, plot_confusion_matrix,plot_roc_curve\n",
    "import lightgbm as lgb\n",
    "from xgboost import XGBClassifier\n",
    "import xgboost as xgb\n",
    "#from lightgbm import LGBMClassifier, plot_importance\n",
    "from catboost import CatBoostClassifier\n",
    "#importing plotly and cufflinks in offline mode\n",
    "import cufflinks as cf\n",
    "import plotly.offline\n",
    "cf.go_offline()\n",
    "cf.set_config_file(offline=False, world_readable=True)\n",
    "import shap\n",
    "# import missingno as msno\n",
    "import warnings\n",
    "warnings.filterwarnings(\"ignore\")\n",
    "print(datetime.datetime.now(),'\\n依赖库加载完毕!')"
   ],
   "metadata": {
    "collapsed": false,
    "pycharm": {
     "name": "#%%\n"
    }
   }
  },
  {
   "cell_type": "code",
   "execution_count": null,
   "outputs": [],
   "source": [
    "plt.rcParams['font.sans-serif']=['SimHei'] #用来正常显示中文标签\n",
    "plt.rcParams['axes.unicode_minus'] = False #用来正常显示负号\n",
    "print(datetime.datetime.now(),'\\nmatplotlib中文设置完成!')"
   ],
   "metadata": {
    "collapsed": false,
    "pycharm": {
     "name": "#%%\n"
    }
   }
  },
  {
   "cell_type": "code",
   "execution_count": null,
   "outputs": [],
   "source": [
    "df = pd.read_excel('./input/xiaoerxiaochuan/data.xlsx')"
   ],
   "metadata": {
    "collapsed": false,
    "pycharm": {
     "name": "#%%\n"
    }
   }
  },
  {
   "cell_type": "markdown",
   "source": [
    " '制僵蚕', '天麦门冬', '姜半夏', '川桂枝', '川连', '干地龙', '广地龙',  '杏仁', '桑叶/桑白皮', '桑叶皮', '法半夏', '炙乌梅', '炙乌梢', '炙冬瓜', '炙冬花', '炙甘草', '炙百部', '炙百郭', '炙紫菀',  '炙麻黄', '炙黄芪', '炙黄花', '炙黄花 ', '焦山楂', '焦神曲', '煅牡蛎', '煅龙牡', '煅龙牡各', '煅龙骨', '生地', '生大黄', '生甘草', '生石膏', '白芎', '百合部', '碧桃干', '紫苑', '芎藭', '苍白术', '苏叶', '草河车', '葶苏子', '薄黄', '藿香', '蚤休', '黄苓',\n"
   ],
   "metadata": {
    "collapsed": false,
    "pycharm": {
     "name": "#%% md\n"
    }
   }
  },
  {
   "cell_type": "code",
   "execution_count": null,
   "outputs": [],
   "source": [
    "to_replace = ['全瓜蒌','戴蛤散','炙紫苑','炙麻花','紫苑','黄岑','黛蛤散','煅龙牡各','制僵蚕']\n",
    "to_place_value = ['瓜蒌','黛蛤散','炙紫菀','炙麻黄','紫菀','黄芩','黛蛤散','煅龙牡','僵蚕']\n",
    "df = pd.read_excel('./input/xiaoerxiaochuan/data.xlsx')\n",
    "df.replace(to_replace=to_replace,value=to_place_value,inplace=True)\n",
    "df = df.dropna(axis=0,subset=['咳嗽分型']).reset_index()\n",
    "df.drop(index=[11,82],inplace=True)\n",
    "medicine_split_list = ['天麦门冬','桑叶/桑白皮','煅龙牡','百合部','苍白术','葶苏子']"
   ],
   "metadata": {
    "collapsed": false,
    "pycharm": {
     "name": "#%%\n"
    }
   }
  },
  {
   "cell_type": "code",
   "execution_count": null,
   "outputs": [],
   "source": [
    "medicines = []\n",
    "for i in df.columns:\n",
    "    if re.match('药\\d$',i):\n",
    "        medicines += df[i].tolist()\n",
    "medicines = list(set(medicines))\n",
    "for item in ['？', np.nan, '1.桑白皮', '（1）炙黄芪', '（1）桑叶', '地肤子（包）', '黛蛤散','葶苈子（包)','葶苈','白']:\n",
    "    if item in medicines:\n",
    "        medicines.remove(item)\n",
    "X = pd.DataFrame()\n",
    "for i,row in df.iterrows():\n",
    "    for j in row:\n",
    "        if j in medicines:\n",
    "            X.loc[i,j] = row[str(row[row==j].index.tolist()[0])+'剂量(g)']\n",
    "X.replace(np.nan,0,inplace=True)\n",
    "X['桑叶/桑白皮'].replace('各\\d',4,regex=True,inplace=True)\n",
    "X['煅龙牡'].replace('各\\d',4,regex=True,inplace=True)\n",
    "y = df['咳嗽分型']\n",
    "# y.iplot(kind='hist', title= '咳嗽分型')\n",
    "X = pd.concat([X,y],axis=1)\n",
    "X = X.drop(X[(X['咳嗽分型']!='热性哮喘') & (X['咳嗽分型'] != '寒性哮喘')].index)\n",
    "# X['咳嗽分型'].iplot(kind='hist', title= '咳嗽分型')\n",
    "accuracy= []\n",
    "recall =[]\n",
    "roc_auc= []\n",
    "precision = []\n",
    "le = LabelEncoder()\n",
    "y = X['咳嗽分型']\n",
    "y = le.fit_transform(y)\n",
    "X.drop(columns='咳嗽分型',inplace=True)\n",
    "cols = X.columns\n",
    "X[:] = StandardScaler().fit_transform(X.values)\n",
    "print(datetime.datetime.now(),'\\n数据预处理完成!')"
   ],
   "metadata": {
    "collapsed": false,
    "pycharm": {
     "name": "#%%\n"
    }
   }
  },
  {
   "cell_type": "code",
   "execution_count": null,
   "outputs": [],
   "source": [
    "X_train, X_test, y_train, y_test = train_test_split(X, y, test_size=0.3, random_state=42)\n",
    "\n",
    "xgbc_3 = xgb.XGBClassifier(random_state=0,scale_pos_weight=3,booster='gbtree',eval_metric='error')\n",
    "\n",
    "xgbc_3.fit(X_train, y_train)\n",
    "y_pred = xgbc_3.predict(X_test)\n",
    "\n",
    "accuracy.append(round(accuracy_score(y_test, y_pred),4))\n",
    "recall.append(round(recall_score(y_test, y_pred),4))\n",
    "roc_auc.append(round(roc_auc_score(y_test, y_pred),4))\n",
    "precision.append(round(precision_score(y_test, y_pred),4))\n",
    "\n",
    "print(f\"accuracy:{sum(accuracy)/5:.3f}\\n\",f\"recall:{sum(recall)/5:.3f}\\n\",f\"roc_auc:{sum(roc_auc)/5:.3f}\\n\",f\"precision{sum(precision)/5:.3f}\\n\")"
   ],
   "metadata": {
    "collapsed": false,
    "pycharm": {
     "name": "#%%\n"
    }
   }
  },
  {
   "cell_type": "code",
   "execution_count": null,
   "outputs": [],
   "source": [
    "# 权重weight:在子树模型分裂时，用到的特征次数\n",
    "# from xgboost import plot_importance\n",
    "# _,ax = plt.subplots(figsize=(10,8))\n",
    "# plot_importance(xgbc_3,importance_type='weight',grid=False,height=0.5,ax=ax,max_num_features=10)"
   ],
   "metadata": {
    "collapsed": false,
    "pycharm": {
     "name": "#%%\n"
    }
   }
  },
  {
   "cell_type": "code",
   "execution_count": null,
   "outputs": [],
   "source": [
    "# _,ax = plt.subplots(figsize=(10,8))\n",
    "# plot_importance(xgbc_3,importance_type='gain',grid=False,height=0.5,ax=ax,max_num_features=10)"
   ],
   "metadata": {
    "collapsed": false,
    "pycharm": {
     "name": "#%%\n"
    }
   }
  },
  {
   "cell_type": "code",
   "execution_count": null,
   "outputs": [],
   "source": [
    "# _,ax = plt.subplots(figsize=(10,8))\n",
    "# plot_importance(xgbc_3,importance_type='cover',grid=False,height=0.5,ax=ax,max_num_features=10)"
   ],
   "metadata": {
    "collapsed": false,
    "pycharm": {
     "name": "#%%\n"
    }
   }
  },
  {
   "cell_type": "code",
   "execution_count": null,
   "outputs": [],
   "source": [
    "# fig, ax = plt.subplots(figsize=(8, 8))\n",
    "# plot_confusion_matrix(xgbc_3, X_test, y_test, cmap=plt.cm.Blues, ax=ax);"
   ],
   "metadata": {
    "collapsed": false,
    "pycharm": {
     "name": "#%%\n"
    }
   }
  },
  {
   "cell_type": "markdown",
   "source": [
    "## SHAP Feature Importance\n"
   ],
   "metadata": {
    "collapsed": false,
    "pycharm": {
     "name": "#%% md\n"
    }
   }
  },
  {
   "cell_type": "code",
   "execution_count": null,
   "outputs": [],
   "source": [
    "explainerxgbc = shap.TreeExplainer(xgbc_3)\n",
    "shap_values_XGBoost_test = explainerxgbc.shap_values(X_test)\n",
    "shap_values_XGBoost_train = explainerxgbc.shap_values(X_train)\n",
    "print(datetime.datetime.now(),\"\\nXGBoost SHAP value训练完成!\")"
   ],
   "metadata": {
    "collapsed": false,
    "pycharm": {
     "name": "#%%\n"
    }
   }
  },
  {
   "cell_type": "code",
   "execution_count": null,
   "outputs": [],
   "source": [
    "# shap_values_XGBoost_train"
   ],
   "metadata": {
    "collapsed": false,
    "pycharm": {
     "name": "#%%\n"
    }
   }
  },
  {
   "cell_type": "code",
   "execution_count": null,
   "outputs": [],
   "source": [
    "SHAP_XGBoost=pd.DataFrame(data=shap_values_XGBoost_train,columns=X_train.columns).mean(axis=0).sort_values(ascending=False)\n",
    "SHAP_XGBoost.drop(index=SHAP_XGBoost[SHAP_XGBoost==0].index,inplace=True)\n",
    "SHAP_XGBoost.round(3).to_csv(output_path+'XGBoost_SHAP.csv')\n",
    "print(datetime.datetime.now())"
   ],
   "metadata": {
    "collapsed": false,
    "pycharm": {
     "name": "#%%\n"
    }
   }
  },
  {
   "cell_type": "code",
   "execution_count": null,
   "outputs": [],
   "source": [
    "# shap.summary_plot(shap_values_XGBoost_train, cols,plot_type=\"bar\",plot_size=(12,12))"
   ],
   "metadata": {
    "collapsed": false,
    "pycharm": {
     "name": "#%%\n"
    }
   }
  },
  {
   "cell_type": "code",
   "execution_count": null,
   "outputs": [],
   "source": [
    "# from sklearn.inspection import permutation_importance\n",
    "# xgb_permutation_importance = permutation_importance(xgbc_3,X_test,y_test,random_state=77)\n",
    "# sorted_idx = xgb_permutation_importance.importances_mean.argsort()\n",
    "# plt.barh(X.columns[sorted_idx][:10],xgb_permutation_importance.importances_mean[sorted_idx][:10])\n",
    "# plt.xlabel(\"Permutation Importance\")"
   ],
   "metadata": {
    "collapsed": false,
    "pycharm": {
     "name": "#%%\n"
    }
   }
  },
  {
   "cell_type": "markdown",
   "source": [],
   "metadata": {
    "collapsed": false,
    "pycharm": {
     "name": "#%% md\n"
    }
   }
  },
  {
   "cell_type": "markdown",
   "source": [
    "## 中药"
   ],
   "metadata": {
    "collapsed": false,
    "pycharm": {
     "name": "#%% md\n"
    }
   }
  },
  {
   "cell_type": "code",
   "execution_count": null,
   "outputs": [],
   "source": [
    "# import pandas as pd\n",
    "# total = pd.DataFrame()\n",
    "# with pd.ExcelWriter('./input/xiaoerxiaochuan/汇总.xlsx') as writer:\n",
    "#     for i in pd.ExcelFile('./input/xiaoerxiaochuan/test.xlsx').sheet_names:\n",
    "#         data = pd.read_excel('./input/xiaoerxiaochuan/test.xlsx',sheet_name=i)\n",
    "#         total = pd.concat([total,data],axis=0)\n",
    "#         data.to_excel(writer,header=True,sheet_name=i)\n",
    "#     total.reset_index(inplace=True,drop=True)\n",
    "#     total.drop(index=[36,37,38],inplace=True)\n",
    "#     total.to_excel(writer,sheet_name='汇总',header=True,index=False)\n",
    "# pd.read_excel('./input/xiaoerxiaochuan/汇总.xlsx',sheet_name='汇总')"
   ],
   "metadata": {
    "collapsed": false,
    "pycharm": {
     "name": "#%%\n"
    }
   }
  },
  {
   "cell_type": "code",
   "execution_count": null,
   "outputs": [],
   "source": [
    "import pandas as pd\n",
    "zy_dict = pd.read_excel('./input/xiaoerxiaochuan/汇总.xlsx',sheet_name='汇总')\n",
    "\n",
    "zy_dict.tail(5)"
   ],
   "metadata": {
    "collapsed": false,
    "pycharm": {
     "name": "#%%\n"
    }
   }
  },
  {
   "cell_type": "code",
   "execution_count": null,
   "outputs": [],
   "source": [
    "# SHAP_XGBoost = pd.DataFrame(data=SHAP_XGBoost,columns=['SHAP_Value'])\n",
    "# SHAP_XGBoost\n",
    "SHAP_XGBoost"
   ],
   "metadata": {
    "collapsed": false,
    "pycharm": {
     "name": "#%%\n"
    }
   }
  },
  {
   "cell_type": "code",
   "execution_count": null,
   "outputs": [],
   "source": [
    "set(SHAP_XGBoost.index)-set(list(zy_dict['药名']))"
   ],
   "metadata": {
    "collapsed": false,
    "pycharm": {
     "name": "#%%\n"
    }
   }
  },
  {
   "cell_type": "markdown",
   "source": [
    "# 心总表"
   ],
   "metadata": {
    "collapsed": false,
    "pycharm": {
     "name": "#%% md\n"
    }
   }
  },
  {
   "cell_type": "code",
   "execution_count": 1,
   "outputs": [
    {
     "data": {
      "text/html": "        <script type=\"text/javascript\">\n        window.PlotlyConfig = {MathJaxConfig: 'local'};\n        if (window.MathJax && window.MathJax.Hub && window.MathJax.Hub.Config) {window.MathJax.Hub.Config({SVG: {font: \"STIX-Web\"}});}\n        if (typeof require !== 'undefined') {\n        require.undef(\"plotly\");\n        requirejs.config({\n            paths: {\n                'plotly': ['https://cdn.plot.ly/plotly-2.12.1.min']\n            }\n        });\n        require(['plotly'], function(Plotly) {\n            window._Plotly = Plotly;\n        });\n        }\n        </script>\n        "
     },
     "metadata": {},
     "output_type": "display_data"
    },
    {
     "name": "stdout",
     "output_type": "stream",
     "text": [
      "2022-06-15 15:52:52.848995\n"
     ]
    }
   ],
   "source": [
    "import pandas as pd\n",
    "import datetime\n",
    "import missingno as msno\n",
    "import cufflinks as cf\n",
    "import plotly.offline\n",
    "cf.go_offline()\n",
    "cf.set_config_file(offline=False, world_readable=True)\n",
    "print(datetime.datetime.now())\n",
    "import warnings\n",
    "warnings.filterwarnings('ignore')\n",
    "import numpy as np\n",
    "import optuna\n",
    "optuna.logging.set_verbosity(optuna.logging.CRITICAL)\n",
    "from sklearn.metrics import accuracy_score\n",
    "from sklearn.model_selection import train_test_split\n",
    "import xgboost as xgb\n",
    "import optuna\n",
    "optuna.logging.set_verbosity(optuna.logging.CRITICAL)\n",
    "from sklearn.metrics import accuracy_score,classification_report, recall_score,confusion_matrix, roc_auc_score, precision_score, f1_score, roc_curve, auc, plot_confusion_matrix,plot_roc_curve"
   ],
   "metadata": {
    "collapsed": false,
    "pycharm": {
     "name": "#%%\n"
    }
   }
  },
  {
   "cell_type": "code",
   "execution_count": 13,
   "outputs": [
    {
     "data": {
      "text/plain": "       证名       病案号   性别    年龄        S1        S2         S3        S4  \\\n1738  4.0  152769.0  1.0  71.0  0.000000  0.000000   0.000000  0.000000   \n1739  3.0  130013.0  2.0  70.0  0.000000  0.000000   0.000000  0.000000   \n1740  4.0  176082.0  1.0  73.0  0.000000  0.000000   0.000000  0.000000   \n1741  NaN       NaN  NaN   NaN  5.000000  9.000000  18.000000  8.000000   \n1742  NaN       NaN  NaN   NaN  0.002872  0.005169   0.010339  0.004595   \n\n            S5        S6  ...       S116        S117        S118        S119  \\\n1738  0.000000  0.000000  ...    0.00000    0.000000    0.000000    0.000000   \n1739  0.000000  0.000000  ...    0.00000    0.000000    0.000000    0.000000   \n1740  0.000000  0.000000  ...    1.00000    0.000000    0.000000    1.000000   \n1741  8.000000  4.000000  ...  696.00000  147.000000  140.000000  193.000000   \n1742  0.004595  0.002298  ...    0.39977    0.084434    0.080414    0.110856   \n\n           S120       S121       S122        S123        S124        S125  \n1738    0.00000   0.000000   0.000000    0.000000    1.000000    0.000000  \n1739    0.00000   0.000000   0.000000    1.000000    0.000000    0.000000  \n1740    0.00000   0.000000   0.000000    0.000000    1.000000    0.000000  \n1741  146.00000  15.000000  50.000000  260.000000  788.000000  100.000000  \n1742    0.08386   0.008616   0.028719    0.149339    0.452613    0.057438  \n\n[5 rows x 129 columns]",
      "text/html": "<div>\n<style scoped>\n    .dataframe tbody tr th:only-of-type {\n        vertical-align: middle;\n    }\n\n    .dataframe tbody tr th {\n        vertical-align: top;\n    }\n\n    .dataframe thead th {\n        text-align: right;\n    }\n</style>\n<table border=\"1\" class=\"dataframe\">\n  <thead>\n    <tr style=\"text-align: right;\">\n      <th></th>\n      <th>证名</th>\n      <th>病案号</th>\n      <th>性别</th>\n      <th>年龄</th>\n      <th>S1</th>\n      <th>S2</th>\n      <th>S3</th>\n      <th>S4</th>\n      <th>S5</th>\n      <th>S6</th>\n      <th>...</th>\n      <th>S116</th>\n      <th>S117</th>\n      <th>S118</th>\n      <th>S119</th>\n      <th>S120</th>\n      <th>S121</th>\n      <th>S122</th>\n      <th>S123</th>\n      <th>S124</th>\n      <th>S125</th>\n    </tr>\n  </thead>\n  <tbody>\n    <tr>\n      <th>1738</th>\n      <td>4.0</td>\n      <td>152769.0</td>\n      <td>1.0</td>\n      <td>71.0</td>\n      <td>0.000000</td>\n      <td>0.000000</td>\n      <td>0.000000</td>\n      <td>0.000000</td>\n      <td>0.000000</td>\n      <td>0.000000</td>\n      <td>...</td>\n      <td>0.00000</td>\n      <td>0.000000</td>\n      <td>0.000000</td>\n      <td>0.000000</td>\n      <td>0.00000</td>\n      <td>0.000000</td>\n      <td>0.000000</td>\n      <td>0.000000</td>\n      <td>1.000000</td>\n      <td>0.000000</td>\n    </tr>\n    <tr>\n      <th>1739</th>\n      <td>3.0</td>\n      <td>130013.0</td>\n      <td>2.0</td>\n      <td>70.0</td>\n      <td>0.000000</td>\n      <td>0.000000</td>\n      <td>0.000000</td>\n      <td>0.000000</td>\n      <td>0.000000</td>\n      <td>0.000000</td>\n      <td>...</td>\n      <td>0.00000</td>\n      <td>0.000000</td>\n      <td>0.000000</td>\n      <td>0.000000</td>\n      <td>0.00000</td>\n      <td>0.000000</td>\n      <td>0.000000</td>\n      <td>1.000000</td>\n      <td>0.000000</td>\n      <td>0.000000</td>\n    </tr>\n    <tr>\n      <th>1740</th>\n      <td>4.0</td>\n      <td>176082.0</td>\n      <td>1.0</td>\n      <td>73.0</td>\n      <td>0.000000</td>\n      <td>0.000000</td>\n      <td>0.000000</td>\n      <td>0.000000</td>\n      <td>0.000000</td>\n      <td>0.000000</td>\n      <td>...</td>\n      <td>1.00000</td>\n      <td>0.000000</td>\n      <td>0.000000</td>\n      <td>1.000000</td>\n      <td>0.00000</td>\n      <td>0.000000</td>\n      <td>0.000000</td>\n      <td>0.000000</td>\n      <td>1.000000</td>\n      <td>0.000000</td>\n    </tr>\n    <tr>\n      <th>1741</th>\n      <td>NaN</td>\n      <td>NaN</td>\n      <td>NaN</td>\n      <td>NaN</td>\n      <td>5.000000</td>\n      <td>9.000000</td>\n      <td>18.000000</td>\n      <td>8.000000</td>\n      <td>8.000000</td>\n      <td>4.000000</td>\n      <td>...</td>\n      <td>696.00000</td>\n      <td>147.000000</td>\n      <td>140.000000</td>\n      <td>193.000000</td>\n      <td>146.00000</td>\n      <td>15.000000</td>\n      <td>50.000000</td>\n      <td>260.000000</td>\n      <td>788.000000</td>\n      <td>100.000000</td>\n    </tr>\n    <tr>\n      <th>1742</th>\n      <td>NaN</td>\n      <td>NaN</td>\n      <td>NaN</td>\n      <td>NaN</td>\n      <td>0.002872</td>\n      <td>0.005169</td>\n      <td>0.010339</td>\n      <td>0.004595</td>\n      <td>0.004595</td>\n      <td>0.002298</td>\n      <td>...</td>\n      <td>0.39977</td>\n      <td>0.084434</td>\n      <td>0.080414</td>\n      <td>0.110856</td>\n      <td>0.08386</td>\n      <td>0.008616</td>\n      <td>0.028719</td>\n      <td>0.149339</td>\n      <td>0.452613</td>\n      <td>0.057438</td>\n    </tr>\n  </tbody>\n</table>\n<p>5 rows × 129 columns</p>\n</div>"
     },
     "execution_count": 13,
     "metadata": {},
     "output_type": "execute_result"
    }
   ],
   "source": [
    "xzb = pd.read_excel('./input/心总表.xlsx',sheet_name='总表')\n",
    "xzb.tail()"
   ],
   "metadata": {
    "collapsed": false,
    "pycharm": {
     "name": "#%%\n"
    }
   }
  },
  {
   "cell_type": "code",
   "execution_count": 3,
   "outputs": [
    {
     "data": {
      "text/plain": "<AxesSubplot:>"
     },
     "execution_count": 3,
     "metadata": {},
     "output_type": "execute_result"
    },
    {
     "data": {
      "text/plain": "<Figure size 1800x720 with 2 Axes>",
      "image/png": "[encoded data removed]"
     },
     "metadata": {},
     "output_type": "display_data"
    }
   ],
   "source": [
    "msno.matrix(xzb)"
   ],
   "metadata": {
    "collapsed": false,
    "pycharm": {
     "name": "#%%\n"
    }
   }
  },
  {
   "cell_type": "code",
   "execution_count": 14,
   "outputs": [
    {
     "data": {
      "text/plain": "      证名  性别  年龄  S1  S2  S3  S4  S5  S6  S7  ...  S116  S117  S118  S119  \\\n1736   1   1  66   0   0   0   0   0   0   0  ...     0     0     0     0   \n1737   1   1  71   0   0   0   0   0   0   0  ...     0     0     0     0   \n1738   4   1  71   0   0   0   0   0   0   0  ...     0     0     0     0   \n1739   3   2  70   0   0   0   0   0   0   0  ...     0     0     0     0   \n1740   4   1  73   0   0   0   0   0   0   0  ...     1     0     0     1   \n\n      S120  S121  S122  S123  S124  S125  \n1736     0     0     0     1     1     0  \n1737     0     0     0     0     1     0  \n1738     0     0     0     0     1     0  \n1739     0     0     0     1     0     0  \n1740     0     0     0     0     1     0  \n\n[5 rows x 128 columns]",
      "text/html": "<div>\n<style scoped>\n    .dataframe tbody tr th:only-of-type {\n        vertical-align: middle;\n    }\n\n    .dataframe tbody tr th {\n        vertical-align: top;\n    }\n\n    .dataframe thead th {\n        text-align: right;\n    }\n</style>\n<table border=\"1\" class=\"dataframe\">\n  <thead>\n    <tr style=\"text-align: right;\">\n      <th></th>\n      <th>证名</th>\n      <th>性别</th>\n      <th>年龄</th>\n      <th>S1</th>\n      <th>S2</th>\n      <th>S3</th>\n      <th>S4</th>\n      <th>S5</th>\n      <th>S6</th>\n      <th>S7</th>\n      <th>...</th>\n      <th>S116</th>\n      <th>S117</th>\n      <th>S118</th>\n      <th>S119</th>\n      <th>S120</th>\n      <th>S121</th>\n      <th>S122</th>\n      <th>S123</th>\n      <th>S124</th>\n      <th>S125</th>\n    </tr>\n  </thead>\n  <tbody>\n    <tr>\n      <th>1736</th>\n      <td>1</td>\n      <td>1</td>\n      <td>66</td>\n      <td>0</td>\n      <td>0</td>\n      <td>0</td>\n      <td>0</td>\n      <td>0</td>\n      <td>0</td>\n      <td>0</td>\n      <td>...</td>\n      <td>0</td>\n      <td>0</td>\n      <td>0</td>\n      <td>0</td>\n      <td>0</td>\n      <td>0</td>\n      <td>0</td>\n      <td>1</td>\n      <td>1</td>\n      <td>0</td>\n    </tr>\n    <tr>\n      <th>1737</th>\n      <td>1</td>\n      <td>1</td>\n      <td>71</td>\n      <td>0</td>\n      <td>0</td>\n      <td>0</td>\n      <td>0</td>\n      <td>0</td>\n      <td>0</td>\n      <td>0</td>\n      <td>...</td>\n      <td>0</td>\n      <td>0</td>\n      <td>0</td>\n      <td>0</td>\n      <td>0</td>\n      <td>0</td>\n      <td>0</td>\n      <td>0</td>\n      <td>1</td>\n      <td>0</td>\n    </tr>\n    <tr>\n      <th>1738</th>\n      <td>4</td>\n      <td>1</td>\n      <td>71</td>\n      <td>0</td>\n      <td>0</td>\n      <td>0</td>\n      <td>0</td>\n      <td>0</td>\n      <td>0</td>\n      <td>0</td>\n      <td>...</td>\n      <td>0</td>\n      <td>0</td>\n      <td>0</td>\n      <td>0</td>\n      <td>0</td>\n      <td>0</td>\n      <td>0</td>\n      <td>0</td>\n      <td>1</td>\n      <td>0</td>\n    </tr>\n    <tr>\n      <th>1739</th>\n      <td>3</td>\n      <td>2</td>\n      <td>70</td>\n      <td>0</td>\n      <td>0</td>\n      <td>0</td>\n      <td>0</td>\n      <td>0</td>\n      <td>0</td>\n      <td>0</td>\n      <td>...</td>\n      <td>0</td>\n      <td>0</td>\n      <td>0</td>\n      <td>0</td>\n      <td>0</td>\n      <td>0</td>\n      <td>0</td>\n      <td>1</td>\n      <td>0</td>\n      <td>0</td>\n    </tr>\n    <tr>\n      <th>1740</th>\n      <td>4</td>\n      <td>1</td>\n      <td>73</td>\n      <td>0</td>\n      <td>0</td>\n      <td>0</td>\n      <td>0</td>\n      <td>0</td>\n      <td>0</td>\n      <td>0</td>\n      <td>...</td>\n      <td>1</td>\n      <td>0</td>\n      <td>0</td>\n      <td>1</td>\n      <td>0</td>\n      <td>0</td>\n      <td>0</td>\n      <td>0</td>\n      <td>1</td>\n      <td>0</td>\n    </tr>\n  </tbody>\n</table>\n<p>5 rows × 128 columns</p>\n</div>"
     },
     "execution_count": 14,
     "metadata": {},
     "output_type": "execute_result"
    }
   ],
   "source": [
    "xzb.drop(columns=['病案号'],inplace=True)\n",
    "xzb.drop(labels=[1742,1741],axis=0,inplace=True)\n",
    "xzb.drop(labels=xzb[xzb['性别'].isna() ].index,inplace=True)\n",
    "xzb = xzb.astype(int)\n",
    "xzb.tail(5)"
   ],
   "metadata": {
    "collapsed": false,
    "pycharm": {
     "name": "#%%\n"
    }
   }
  },
  {
   "cell_type": "code",
   "execution_count": 15,
   "outputs": [
    {
     "data": {
      "application/vnd.plotly.v1+json": {
       "data": [
        {
         "marker": {
          "color": "rgba(255, 153, 51, 0.6)",
          "line": {
           "color": "rgba(255, 153, 51, 1.0)",
           "width": 1
          }
         },
         "name": "证名",
         "orientation": "v",
         "text": "",
         "x": [
          1,
          5,
          3,
          4,
          7,
          2,
          6,
          8
         ],
         "y": [
          621,
          547,
          184,
          121,
          112,
          70,
          53,
          32
         ],
         "type": "bar"
        }
       ],
       "layout": {
        "legend": {
         "bgcolor": "#F5F6F9",
         "font": {
          "color": "#4D5663"
         }
        },
        "paper_bgcolor": "#F5F6F9",
        "plot_bgcolor": "#F5F6F9",
        "template": {
         "data": {
          "barpolar": [
           {
            "marker": {
             "line": {
              "color": "rgb(17,17,17)",
              "width": 0.5
             },
             "pattern": {
              "fillmode": "overlay",
              "size": 10,
              "solidity": 0.2
             }
            },
            "type": "barpolar"
           }
          ],
          "bar": [
           {
            "error_x": {
             "color": "#f2f5fa"
            },
            "error_y": {
             "color": "#f2f5fa"
            },
            "marker": {
             "line": {
              "color": "rgb(17,17,17)",
              "width": 0.5
             },
             "pattern": {
              "fillmode": "overlay",
              "size": 10,
              "solidity": 0.2
             }
            },
            "type": "bar"
           }
          ],
          "carpet": [
           {
            "aaxis": {
             "endlinecolor": "#A2B1C6",
             "gridcolor": "#506784",
             "linecolor": "#506784",
             "minorgridcolor": "#506784",
             "startlinecolor": "#A2B1C6"
            },
            "baxis": {
             "endlinecolor": "#A2B1C6",
             "gridcolor": "#506784",
             "linecolor": "#506784",
             "minorgridcolor": "#506784",
             "startlinecolor": "#A2B1C6"
            },
            "type": "carpet"
           }
          ],
          "choropleth": [
           {
            "colorbar": {
             "outlinewidth": 0,
             "ticks": ""
            },
            "type": "choropleth"
           }
          ],
          "contourcarpet": [
           {
            "colorbar": {
             "outlinewidth": 0,
             "ticks": ""
            },
            "type": "contourcarpet"
           }
          ],
          "contour": [
           {
            "colorbar": {
             "outlinewidth": 0,
             "ticks": ""
            },
            "colorscale": [
             [
              0.0,
              "#0d0887"
             ],
             [
              0.1111111111111111,
              "#46039f"
             ],
             [
              0.2222222222222222,
              "#7201a8"
             ],
             [
              0.3333333333333333,
              "#9c179e"
             ],
             [
              0.4444444444444444,
              "#bd3786"
             ],
             [
              0.5555555555555556,
              "#d8576b"
             ],
             [
              0.6666666666666666,
              "#ed7953"
             ],
             [
              0.7777777777777778,
              "#fb9f3a"
             ],
             [
              0.8888888888888888,
              "#fdca26"
             ],
             [
              1.0,
              "#f0f921"
             ]
            ],
            "type": "contour"
           }
          ],
          "heatmapgl": [
           {
            "colorbar": {
             "outlinewidth": 0,
             "ticks": ""
            },
            "colorscale": [
             [
              0.0,
              "#0d0887"
             ],
             [
              0.1111111111111111,
              "#46039f"
             ],
             [
              0.2222222222222222,
              "#7201a8"
             ],
             [
              0.3333333333333333,
              "#9c179e"
             ],
             [
              0.4444444444444444,
              "#bd3786"
             ],
             [
              0.5555555555555556,
              "#d8576b"
             ],
             [
              0.6666666666666666,
              "#ed7953"
             ],
             [
              0.7777777777777778,
              "#fb9f3a"
             ],
             [
              0.8888888888888888,
              "#fdca26"
             ],
             [
              1.0,
              "#f0f921"
             ]
            ],
            "type": "heatmapgl"
           }
          ],
          "heatmap": [
           {
            "colorbar": {
             "outlinewidth": 0,
             "ticks": ""
            },
            "colorscale": [
             [
              0.0,
              "#0d0887"
             ],
             [
              0.1111111111111111,
              "#46039f"
             ],
             [
              0.2222222222222222,
              "#7201a8"
             ],
             [
              0.3333333333333333,
              "#9c179e"
             ],
             [
              0.4444444444444444,
              "#bd3786"
             ],
             [
              0.5555555555555556,
              "#d8576b"
             ],
             [
              0.6666666666666666,
              "#ed7953"
             ],
             [
              0.7777777777777778,
              "#fb9f3a"
             ],
             [
              0.8888888888888888,
              "#fdca26"
             ],
             [
              1.0,
              "#f0f921"
             ]
            ],
            "type": "heatmap"
           }
          ],
          "histogram2dcontour": [
           {
            "colorbar": {
             "outlinewidth": 0,
             "ticks": ""
            },
            "colorscale": [
             [
              0.0,
              "#0d0887"
             ],
             [
              0.1111111111111111,
              "#46039f"
             ],
             [
              0.2222222222222222,
              "#7201a8"
             ],
             [
              0.3333333333333333,
              "#9c179e"
             ],
             [
              0.4444444444444444,
              "#bd3786"
             ],
             [
              0.5555555555555556,
              "#d8576b"
             ],
             [
              0.6666666666666666,
              "#ed7953"
             ],
             [
              0.7777777777777778,
              "#fb9f3a"
             ],
             [
              0.8888888888888888,
              "#fdca26"
             ],
             [
              1.0,
              "#f0f921"
             ]
            ],
            "type": "histogram2dcontour"
           }
          ],
          "histogram2d": [
           {
            "colorbar": {
             "outlinewidth": 0,
             "ticks": ""
            },
            "colorscale": [
             [
              0.0,
              "#0d0887"
             ],
             [
              0.1111111111111111,
              "#46039f"
             ],
             [
              0.2222222222222222,
              "#7201a8"
             ],
             [
              0.3333333333333333,
              "#9c179e"
             ],
             [
              0.4444444444444444,
              "#bd3786"
             ],
             [
              0.5555555555555556,
              "#d8576b"
             ],
             [
              0.6666666666666666,
              "#ed7953"
             ],
             [
              0.7777777777777778,
              "#fb9f3a"
             ],
             [
              0.8888888888888888,
              "#fdca26"
             ],
             [
              1.0,
              "#f0f921"
             ]
            ],
            "type": "histogram2d"
           }
          ],
          "histogram": [
           {
            "marker": {
             "pattern": {
              "fillmode": "overlay",
              "size": 10,
              "solidity": 0.2
             }
            },
            "type": "histogram"
           }
          ],
          "mesh3d": [
           {
            "colorbar": {
             "outlinewidth": 0,
             "ticks": ""
            },
            "type": "mesh3d"
           }
          ],
          "parcoords": [
           {
            "line": {
             "colorbar": {
              "outlinewidth": 0,
              "ticks": ""
             }
            },
            "type": "parcoords"
           }
          ],
          "pie": [
           {
            "automargin": true,
            "type": "pie"
           }
          ],
          "scatter3d": [
           {
            "line": {
             "colorbar": {
              "outlinewidth": 0,
              "ticks": ""
             }
            },
            "marker": {
             "colorbar": {
              "outlinewidth": 0,
              "ticks": ""
             }
            },
            "type": "scatter3d"
           }
          ],
          "scattercarpet": [
           {
            "marker": {
             "colorbar": {
              "outlinewidth": 0,
              "ticks": ""
             }
            },
            "type": "scattercarpet"
           }
          ],
          "scattergeo": [
           {
            "marker": {
             "colorbar": {
              "outlinewidth": 0,
              "ticks": ""
             }
            },
            "type": "scattergeo"
           }
          ],
          "scattergl": [
           {
            "marker": {
             "line": {
              "color": "#283442"
             }
            },
            "type": "scattergl"
           }
          ],
          "scattermapbox": [
           {
            "marker": {
             "colorbar": {
              "outlinewidth": 0,
              "ticks": ""
             }
            },
            "type": "scattermapbox"
           }
          ],
          "scatterpolargl": [
           {
            "marker": {
             "colorbar": {
              "outlinewidth": 0,
              "ticks": ""
             }
            },
            "type": "scatterpolargl"
           }
          ],
          "scatterpolar": [
           {
            "marker": {
             "colorbar": {
              "outlinewidth": 0,
              "ticks": ""
             }
            },
            "type": "scatterpolar"
           }
          ],
          "scatter": [
           {
            "marker": {
             "line": {
              "color": "#283442"
             }
            },
            "type": "scatter"
           }
          ],
          "scatterternary": [
           {
            "marker": {
             "colorbar": {
              "outlinewidth": 0,
              "ticks": ""
             }
            },
            "type": "scatterternary"
           }
          ],
          "surface": [
           {
            "colorbar": {
             "outlinewidth": 0,
             "ticks": ""
            },
            "colorscale": [
             [
              0.0,
              "#0d0887"
             ],
             [
              0.1111111111111111,
              "#46039f"
             ],
             [
              0.2222222222222222,
              "#7201a8"
             ],
             [
              0.3333333333333333,
              "#9c179e"
             ],
             [
              0.4444444444444444,
              "#bd3786"
             ],
             [
              0.5555555555555556,
              "#d8576b"
             ],
             [
              0.6666666666666666,
              "#ed7953"
             ],
             [
              0.7777777777777778,
              "#fb9f3a"
             ],
             [
              0.8888888888888888,
              "#fdca26"
             ],
             [
              1.0,
              "#f0f921"
             ]
            ],
            "type": "surface"
           }
          ],
          "table": [
           {
            "cells": {
             "fill": {
              "color": "#506784"
             },
             "line": {
              "color": "rgb(17,17,17)"
             }
            },
            "header": {
             "fill": {
              "color": "#2a3f5f"
             },
             "line": {
              "color": "rgb(17,17,17)"
             }
            },
            "type": "table"
           }
          ]
         },
         "layout": {
          "annotationdefaults": {
           "arrowcolor": "#f2f5fa",
           "arrowhead": 0,
           "arrowwidth": 1
          },
          "autotypenumbers": "strict",
          "coloraxis": {
           "colorbar": {
            "outlinewidth": 0,
            "ticks": ""
           }
          },
          "colorscale": {
           "diverging": [
            [
             0,
             "#8e0152"
            ],
            [
             0.1,
             "#c51b7d"
            ],
            [
             0.2,
             "#de77ae"
            ],
            [
             0.3,
             "#f1b6da"
            ],
            [
             0.4,
             "#fde0ef"
            ],
            [
             0.5,
             "#f7f7f7"
            ],
            [
             0.6,
             "#e6f5d0"
            ],
            [
             0.7,
             "#b8e186"
            ],
            [
             0.8,
             "#7fbc41"
            ],
            [
             0.9,
             "#4d9221"
            ],
            [
             1,
             "#276419"
            ]
           ],
           "sequential": [
            [
             0.0,
             "#0d0887"
            ],
            [
             0.1111111111111111,
             "#46039f"
            ],
            [
             0.2222222222222222,
             "#7201a8"
            ],
            [
             0.3333333333333333,
             "#9c179e"
            ],
            [
             0.4444444444444444,
             "#bd3786"
            ],
            [
             0.5555555555555556,
             "#d8576b"
            ],
            [
             0.6666666666666666,
             "#ed7953"
            ],
            [
             0.7777777777777778,
             "#fb9f3a"
            ],
            [
             0.8888888888888888,
             "#fdca26"
            ],
            [
             1.0,
             "#f0f921"
            ]
           ],
           "sequentialminus": [
            [
             0.0,
             "#0d0887"
            ],
            [
             0.1111111111111111,
             "#46039f"
            ],
            [
             0.2222222222222222,
             "#7201a8"
            ],
            [
             0.3333333333333333,
             "#9c179e"
            ],
            [
             0.4444444444444444,
             "#bd3786"
            ],
            [
             0.5555555555555556,
             "#d8576b"
            ],
            [
             0.6666666666666666,
             "#ed7953"
            ],
            [
             0.7777777777777778,
             "#fb9f3a"
            ],
            [
             0.8888888888888888,
             "#fdca26"
            ],
            [
             1.0,
             "#f0f921"
            ]
           ]
          },
          "colorway": [
           "#636efa",
           "#EF553B",
           "#00cc96",
           "#ab63fa",
           "#FFA15A",
           "#19d3f3",
           "#FF6692",
           "#B6E880",
           "#FF97FF",
           "#FECB52"
          ],
          "font": {
           "color": "#f2f5fa"
          },
          "geo": {
           "bgcolor": "rgb(17,17,17)",
           "lakecolor": "rgb(17,17,17)",
           "landcolor": "rgb(17,17,17)",
           "showlakes": true,
           "showland": true,
           "subunitcolor": "#506784"
          },
          "hoverlabel": {
           "align": "left"
          },
          "hovermode": "closest",
          "mapbox": {
           "style": "dark"
          },
          "paper_bgcolor": "rgb(17,17,17)",
          "plot_bgcolor": "rgb(17,17,17)",
          "polar": {
           "angularaxis": {
            "gridcolor": "#506784",
            "linecolor": "#506784",
            "ticks": ""
           },
           "bgcolor": "rgb(17,17,17)",
           "radialaxis": {
            "gridcolor": "#506784",
            "linecolor": "#506784",
            "ticks": ""
           }
          },
          "scene": {
           "xaxis": {
            "backgroundcolor": "rgb(17,17,17)",
            "gridcolor": "#506784",
            "gridwidth": 2,
            "linecolor": "#506784",
            "showbackground": true,
            "ticks": "",
            "zerolinecolor": "#C8D4E3"
           },
           "yaxis": {
            "backgroundcolor": "rgb(17,17,17)",
            "gridcolor": "#506784",
            "gridwidth": 2,
            "linecolor": "#506784",
            "showbackground": true,
            "ticks": "",
            "zerolinecolor": "#C8D4E3"
           },
           "zaxis": {
            "backgroundcolor": "rgb(17,17,17)",
            "gridcolor": "#506784",
            "gridwidth": 2,
            "linecolor": "#506784",
            "showbackground": true,
            "ticks": "",
            "zerolinecolor": "#C8D4E3"
           }
          },
          "shapedefaults": {
           "line": {
            "color": "#f2f5fa"
           }
          },
          "sliderdefaults": {
           "bgcolor": "#C8D4E3",
           "bordercolor": "rgb(17,17,17)",
           "borderwidth": 1,
           "tickwidth": 0
          },
          "ternary": {
           "aaxis": {
            "gridcolor": "#506784",
            "linecolor": "#506784",
            "ticks": ""
           },
           "baxis": {
            "gridcolor": "#506784",
            "linecolor": "#506784",
            "ticks": ""
           },
           "bgcolor": "rgb(17,17,17)",
           "caxis": {
            "gridcolor": "#506784",
            "linecolor": "#506784",
            "ticks": ""
           }
          },
          "title": {
           "x": 0.05
          },
          "updatemenudefaults": {
           "bgcolor": "#506784",
           "borderwidth": 0
          },
          "xaxis": {
           "automargin": true,
           "gridcolor": "#283442",
           "linecolor": "#506784",
           "ticks": "",
           "title": {
            "standoff": 15
           },
           "zerolinecolor": "#283442",
           "zerolinewidth": 2
          },
          "yaxis": {
           "automargin": true,
           "gridcolor": "#283442",
           "linecolor": "#506784",
           "ticks": "",
           "title": {
            "standoff": 15
           },
           "zerolinecolor": "#283442",
           "zerolinewidth": 2
          }
         }
        },
        "title": {
         "font": {
          "color": "#4D5663"
         }
        },
        "xaxis": {
         "gridcolor": "#E1E5ED",
         "showgrid": true,
         "tickfont": {
          "color": "#4D5663"
         },
         "title": {
          "font": {
           "color": "#4D5663"
          },
          "text": ""
         },
         "zerolinecolor": "#E1E5ED"
        },
        "yaxis": {
         "gridcolor": "#E1E5ED",
         "showgrid": true,
         "tickfont": {
          "color": "#4D5663"
         },
         "title": {
          "font": {
           "color": "#4D5663"
          },
          "text": ""
         },
         "zerolinecolor": "#E1E5ED"
        }
       },
       "config": {
        "showLink": true,
        "linkText": "Export to plot.ly",
        "plotlyServerURL": "https://plot.ly"
       }
      },
      "text/html": "<div>                            <div id=\"81c308eb-7c64-4bad-ab71-80315f964287\" class=\"plotly-graph-div\" style=\"height:525px; width:100%;\"></div>            <script type=\"text/javascript\">                require([\"plotly\"], function(Plotly) {                    window.PLOTLYENV=window.PLOTLYENV || {};\n                    window.PLOTLYENV.BASE_URL='https://plot.ly';                                    if (document.getElementById(\"81c308eb-7c64-4bad-ab71-80315f964287\")) {                    Plotly.newPlot(                        \"81c308eb-7c64-4bad-ab71-80315f964287\",                        [{\"marker\":{\"color\":\"rgba(255, 153, 51, 0.6)\",\"line\":{\"color\":\"rgba(255, 153, 51, 1.0)\",\"width\":1}},\"name\":\"\\u8bc1\\u540d\",\"orientation\":\"v\",\"text\":\"\",\"x\":[1,5,3,4,7,2,6,8],\"y\":[621,547,184,121,112,70,53,32],\"type\":\"bar\"}],                        {\"legend\":{\"bgcolor\":\"#F5F6F9\",\"font\":{\"color\":\"#4D5663\"}},\"paper_bgcolor\":\"#F5F6F9\",\"plot_bgcolor\":\"#F5F6F9\",\"template\":{\"data\":{\"barpolar\":[{\"marker\":{\"line\":{\"color\":\"rgb(17,17,17)\",\"width\":0.5},\"pattern\":{\"fillmode\":\"overlay\",\"size\":10,\"solidity\":0.2}},\"type\":\"barpolar\"}],\"bar\":[{\"error_x\":{\"color\":\"#f2f5fa\"},\"error_y\":{\"color\":\"#f2f5fa\"},\"marker\":{\"line\":{\"color\":\"rgb(17,17,17)\",\"width\":0.5},\"pattern\":{\"fillmode\":\"overlay\",\"size\":10,\"solidity\":0.2}},\"type\":\"bar\"}],\"carpet\":[{\"aaxis\":{\"endlinecolor\":\"#A2B1C6\",\"gridcolor\":\"#506784\",\"linecolor\":\"#506784\",\"minorgridcolor\":\"#506784\",\"startlinecolor\":\"#A2B1C6\"},\"baxis\":{\"endlinecolor\":\"#A2B1C6\",\"gridcolor\":\"#506784\",\"linecolor\":\"#506784\",\"minorgridcolor\":\"#506784\",\"startlinecolor\":\"#A2B1C6\"},\"type\":\"carpet\"}],\"choropleth\":[{\"colorbar\":{\"outlinewidth\":0,\"ticks\":\"\"},\"type\":\"choropleth\"}],\"contourcarpet\":[{\"colorbar\":{\"outlinewidth\":0,\"ticks\":\"\"},\"type\":\"contourcarpet\"}],\"contour\":[{\"colorbar\":{\"outlinewidth\":0,\"ticks\":\"\"},\"colorscale\":[[0.0,\"#0d0887\"],[0.1111111111111111,\"#46039f\"],[0.2222222222222222,\"#7201a8\"],[0.3333333333333333,\"#9c179e\"],[0.4444444444444444,\"#bd3786\"],[0.5555555555555556,\"#d8576b\"],[0.6666666666666666,\"#ed7953\"],[0.7777777777777778,\"#fb9f3a\"],[0.8888888888888888,\"#fdca26\"],[1.0,\"#f0f921\"]],\"type\":\"contour\"}],\"heatmapgl\":[{\"colorbar\":{\"outlinewidth\":0,\"ticks\":\"\"},\"colorscale\":[[0.0,\"#0d0887\"],[0.1111111111111111,\"#46039f\"],[0.2222222222222222,\"#7201a8\"],[0.3333333333333333,\"#9c179e\"],[0.4444444444444444,\"#bd3786\"],[0.5555555555555556,\"#d8576b\"],[0.6666666666666666,\"#ed7953\"],[0.7777777777777778,\"#fb9f3a\"],[0.8888888888888888,\"#fdca26\"],[1.0,\"#f0f921\"]],\"type\":\"heatmapgl\"}],\"heatmap\":[{\"colorbar\":{\"outlinewidth\":0,\"ticks\":\"\"},\"colorscale\":[[0.0,\"#0d0887\"],[0.1111111111111111,\"#46039f\"],[0.2222222222222222,\"#7201a8\"],[0.3333333333333333,\"#9c179e\"],[0.4444444444444444,\"#bd3786\"],[0.5555555555555556,\"#d8576b\"],[0.6666666666666666,\"#ed7953\"],[0.7777777777777778,\"#fb9f3a\"],[0.8888888888888888,\"#fdca26\"],[1.0,\"#f0f921\"]],\"type\":\"heatmap\"}],\"histogram2dcontour\":[{\"colorbar\":{\"outlinewidth\":0,\"ticks\":\"\"},\"colorscale\":[[0.0,\"#0d0887\"],[0.1111111111111111,\"#46039f\"],[0.2222222222222222,\"#7201a8\"],[0.3333333333333333,\"#9c179e\"],[0.4444444444444444,\"#bd3786\"],[0.5555555555555556,\"#d8576b\"],[0.6666666666666666,\"#ed7953\"],[0.7777777777777778,\"#fb9f3a\"],[0.8888888888888888,\"#fdca26\"],[1.0,\"#f0f921\"]],\"type\":\"histogram2dcontour\"}],\"histogram2d\":[{\"colorbar\":{\"outlinewidth\":0,\"ticks\":\"\"},\"colorscale\":[[0.0,\"#0d0887\"],[0.1111111111111111,\"#46039f\"],[0.2222222222222222,\"#7201a8\"],[0.3333333333333333,\"#9c179e\"],[0.4444444444444444,\"#bd3786\"],[0.5555555555555556,\"#d8576b\"],[0.6666666666666666,\"#ed7953\"],[0.7777777777777778,\"#fb9f3a\"],[0.8888888888888888,\"#fdca26\"],[1.0,\"#f0f921\"]],\"type\":\"histogram2d\"}],\"histogram\":[{\"marker\":{\"pattern\":{\"fillmode\":\"overlay\",\"size\":10,\"solidity\":0.2}},\"type\":\"histogram\"}],\"mesh3d\":[{\"colorbar\":{\"outlinewidth\":0,\"ticks\":\"\"},\"type\":\"mesh3d\"}],\"parcoords\":[{\"line\":{\"colorbar\":{\"outlinewidth\":0,\"ticks\":\"\"}},\"type\":\"parcoords\"}],\"pie\":[{\"automargin\":true,\"type\":\"pie\"}],\"scatter3d\":[{\"line\":{\"colorbar\":{\"outlinewidth\":0,\"ticks\":\"\"}},\"marker\":{\"colorbar\":{\"outlinewidth\":0,\"ticks\":\"\"}},\"type\":\"scatter3d\"}],\"scattercarpet\":[{\"marker\":{\"colorbar\":{\"outlinewidth\":0,\"ticks\":\"\"}},\"type\":\"scattercarpet\"}],\"scattergeo\":[{\"marker\":{\"colorbar\":{\"outlinewidth\":0,\"ticks\":\"\"}},\"type\":\"scattergeo\"}],\"scattergl\":[{\"marker\":{\"line\":{\"color\":\"#283442\"}},\"type\":\"scattergl\"}],\"scattermapbox\":[{\"marker\":{\"colorbar\":{\"outlinewidth\":0,\"ticks\":\"\"}},\"type\":\"scattermapbox\"}],\"scatterpolargl\":[{\"marker\":{\"colorbar\":{\"outlinewidth\":0,\"ticks\":\"\"}},\"type\":\"scatterpolargl\"}],\"scatterpolar\":[{\"marker\":{\"colorbar\":{\"outlinewidth\":0,\"ticks\":\"\"}},\"type\":\"scatterpolar\"}],\"scatter\":[{\"marker\":{\"line\":{\"color\":\"#283442\"}},\"type\":\"scatter\"}],\"scatterternary\":[{\"marker\":{\"colorbar\":{\"outlinewidth\":0,\"ticks\":\"\"}},\"type\":\"scatterternary\"}],\"surface\":[{\"colorbar\":{\"outlinewidth\":0,\"ticks\":\"\"},\"colorscale\":[[0.0,\"#0d0887\"],[0.1111111111111111,\"#46039f\"],[0.2222222222222222,\"#7201a8\"],[0.3333333333333333,\"#9c179e\"],[0.4444444444444444,\"#bd3786\"],[0.5555555555555556,\"#d8576b\"],[0.6666666666666666,\"#ed7953\"],[0.7777777777777778,\"#fb9f3a\"],[0.8888888888888888,\"#fdca26\"],[1.0,\"#f0f921\"]],\"type\":\"surface\"}],\"table\":[{\"cells\":{\"fill\":{\"color\":\"#506784\"},\"line\":{\"color\":\"rgb(17,17,17)\"}},\"header\":{\"fill\":{\"color\":\"#2a3f5f\"},\"line\":{\"color\":\"rgb(17,17,17)\"}},\"type\":\"table\"}]},\"layout\":{\"annotationdefaults\":{\"arrowcolor\":\"#f2f5fa\",\"arrowhead\":0,\"arrowwidth\":1},\"autotypenumbers\":\"strict\",\"coloraxis\":{\"colorbar\":{\"outlinewidth\":0,\"ticks\":\"\"}},\"colorscale\":{\"diverging\":[[0,\"#8e0152\"],[0.1,\"#c51b7d\"],[0.2,\"#de77ae\"],[0.3,\"#f1b6da\"],[0.4,\"#fde0ef\"],[0.5,\"#f7f7f7\"],[0.6,\"#e6f5d0\"],[0.7,\"#b8e186\"],[0.8,\"#7fbc41\"],[0.9,\"#4d9221\"],[1,\"#276419\"]],\"sequential\":[[0.0,\"#0d0887\"],[0.1111111111111111,\"#46039f\"],[0.2222222222222222,\"#7201a8\"],[0.3333333333333333,\"#9c179e\"],[0.4444444444444444,\"#bd3786\"],[0.5555555555555556,\"#d8576b\"],[0.6666666666666666,\"#ed7953\"],[0.7777777777777778,\"#fb9f3a\"],[0.8888888888888888,\"#fdca26\"],[1.0,\"#f0f921\"]],\"sequentialminus\":[[0.0,\"#0d0887\"],[0.1111111111111111,\"#46039f\"],[0.2222222222222222,\"#7201a8\"],[0.3333333333333333,\"#9c179e\"],[0.4444444444444444,\"#bd3786\"],[0.5555555555555556,\"#d8576b\"],[0.6666666666666666,\"#ed7953\"],[0.7777777777777778,\"#fb9f3a\"],[0.8888888888888888,\"#fdca26\"],[1.0,\"#f0f921\"]]},\"colorway\":[\"#636efa\",\"#EF553B\",\"#00cc96\",\"#ab63fa\",\"#FFA15A\",\"#19d3f3\",\"#FF6692\",\"#B6E880\",\"#FF97FF\",\"#FECB52\"],\"font\":{\"color\":\"#f2f5fa\"},\"geo\":{\"bgcolor\":\"rgb(17,17,17)\",\"lakecolor\":\"rgb(17,17,17)\",\"landcolor\":\"rgb(17,17,17)\",\"showlakes\":true,\"showland\":true,\"subunitcolor\":\"#506784\"},\"hoverlabel\":{\"align\":\"left\"},\"hovermode\":\"closest\",\"mapbox\":{\"style\":\"dark\"},\"paper_bgcolor\":\"rgb(17,17,17)\",\"plot_bgcolor\":\"rgb(17,17,17)\",\"polar\":{\"angularaxis\":{\"gridcolor\":\"#506784\",\"linecolor\":\"#506784\",\"ticks\":\"\"},\"bgcolor\":\"rgb(17,17,17)\",\"radialaxis\":{\"gridcolor\":\"#506784\",\"linecolor\":\"#506784\",\"ticks\":\"\"}},\"scene\":{\"xaxis\":{\"backgroundcolor\":\"rgb(17,17,17)\",\"gridcolor\":\"#506784\",\"gridwidth\":2,\"linecolor\":\"#506784\",\"showbackground\":true,\"ticks\":\"\",\"zerolinecolor\":\"#C8D4E3\"},\"yaxis\":{\"backgroundcolor\":\"rgb(17,17,17)\",\"gridcolor\":\"#506784\",\"gridwidth\":2,\"linecolor\":\"#506784\",\"showbackground\":true,\"ticks\":\"\",\"zerolinecolor\":\"#C8D4E3\"},\"zaxis\":{\"backgroundcolor\":\"rgb(17,17,17)\",\"gridcolor\":\"#506784\",\"gridwidth\":2,\"linecolor\":\"#506784\",\"showbackground\":true,\"ticks\":\"\",\"zerolinecolor\":\"#C8D4E3\"}},\"shapedefaults\":{\"line\":{\"color\":\"#f2f5fa\"}},\"sliderdefaults\":{\"bgcolor\":\"#C8D4E3\",\"bordercolor\":\"rgb(17,17,17)\",\"borderwidth\":1,\"tickwidth\":0},\"ternary\":{\"aaxis\":{\"gridcolor\":\"#506784\",\"linecolor\":\"#506784\",\"ticks\":\"\"},\"baxis\":{\"gridcolor\":\"#506784\",\"linecolor\":\"#506784\",\"ticks\":\"\"},\"bgcolor\":\"rgb(17,17,17)\",\"caxis\":{\"gridcolor\":\"#506784\",\"linecolor\":\"#506784\",\"ticks\":\"\"}},\"title\":{\"x\":0.05},\"updatemenudefaults\":{\"bgcolor\":\"#506784\",\"borderwidth\":0},\"xaxis\":{\"automargin\":true,\"gridcolor\":\"#283442\",\"linecolor\":\"#506784\",\"ticks\":\"\",\"title\":{\"standoff\":15},\"zerolinecolor\":\"#283442\",\"zerolinewidth\":2},\"yaxis\":{\"automargin\":true,\"gridcolor\":\"#283442\",\"linecolor\":\"#506784\",\"ticks\":\"\",\"title\":{\"standoff\":15},\"zerolinecolor\":\"#283442\",\"zerolinewidth\":2}}},\"title\":{\"font\":{\"color\":\"#4D5663\"}},\"xaxis\":{\"gridcolor\":\"#E1E5ED\",\"showgrid\":true,\"tickfont\":{\"color\":\"#4D5663\"},\"title\":{\"font\":{\"color\":\"#4D5663\"},\"text\":\"\"},\"zerolinecolor\":\"#E1E5ED\"},\"yaxis\":{\"gridcolor\":\"#E1E5ED\",\"showgrid\":true,\"tickfont\":{\"color\":\"#4D5663\"},\"title\":{\"font\":{\"color\":\"#4D5663\"},\"text\":\"\"},\"zerolinecolor\":\"#E1E5ED\"}},                        {\"showLink\": true, \"linkText\": \"Export to plot.ly\", \"plotlyServerURL\": \"https://plot.ly\", \"responsive\": true}                    ).then(function(){\n                            \nvar gd = document.getElementById('81c308eb-7c64-4bad-ab71-80315f964287');\nvar x = new MutationObserver(function (mutations, observer) {{\n        var display = window.getComputedStyle(gd).display;\n        if (!display || display === 'none') {{\n            console.log([gd, 'removed!']);\n            Plotly.purge(gd);\n            observer.disconnect();\n        }}\n}});\n\n// Listen for the removal of the full notebook cells\nvar notebookContainer = gd.closest('#notebook-container');\nif (notebookContainer) {{\n    x.observe(notebookContainer, {childList: true});\n}}\n\n// Listen for the clearing of the current output cell\nvar outputEl = gd.closest('.output');\nif (outputEl) {{\n    x.observe(outputEl, {childList: true});\n}}\n\n                        })                };                });            </script>        </div>"
     },
     "metadata": {},
     "output_type": "display_data"
    }
   ],
   "source": [
    "xzb['证名'].astype(int).value_counts().iplot(kind='bar')\n",
    "# xzb['证名'].value_counts()"
   ],
   "metadata": {
    "collapsed": false,
    "pycharm": {
     "name": "#%%\n"
    }
   }
  },
  {
   "cell_type": "code",
   "execution_count": null,
   "outputs": [],
   "source": [
    "# xzb['性别'].astype(int).value_counts().iplot(kind='bar')"
   ],
   "metadata": {
    "collapsed": false,
    "pycharm": {
     "name": "#%%\n"
    }
   }
  },
  {
   "cell_type": "code",
   "execution_count": null,
   "outputs": [],
   "source": [
    "# xzb['年龄'].astype(int).value_counts().iplot(kind='bar')"
   ],
   "metadata": {
    "collapsed": false,
    "pycharm": {
     "name": "#%%\n"
    }
   }
  },
  {
   "cell_type": "code",
   "execution_count": 16,
   "outputs": [
    {
     "name": "stdout",
     "output_type": "stream",
     "text": [
      "2022-06-15 16:52:52.519999\n"
     ]
    }
   ],
   "source": [
    "y = xzb['证名']\n",
    "X = xzb.drop(labels=['证名','性别','年龄'],axis=1)\n",
    "print(datetime.datetime.now())"
   ],
   "metadata": {
    "collapsed": false,
    "pycharm": {
     "name": "#%%\n"
    }
   }
  },
  {
   "cell_type": "markdown",
   "source": [
    "## pearson相关系数\n",
    "### 适用范围\n",
    "- 线性数据、连续且符合正态分布\n",
    "- 观测值是成对的，每对观测值之间是相互独立的\n",
    "## Spearman等级相关系数\n",
    "### 适用范围\n",
    "- 对原变量的分布不做要求，适用那些不服从正态分布的数据，还有总体分布未知和原始数据用等级表示的数据\n",
    "## kendall Rank相关系数\n",
    "###\n"
   ],
   "metadata": {
    "collapsed": false,
    "pycharm": {
     "name": "#%% md\n"
    }
   }
  },
  {
   "cell_type": "code",
   "execution_count": null,
   "outputs": [],
   "source": [
    "# pearson相关系数\n",
    "import seaborn as sns\n",
    "import matplotlib as mpl\n",
    "import matplotlib.pyplot as plt\n",
    "# sns.heatmap(X.corr())"
   ],
   "metadata": {
    "collapsed": false,
    "pycharm": {
     "name": "#%%\n"
    }
   }
  },
  {
   "cell_type": "code",
   "execution_count": null,
   "outputs": [],
   "source": [
    "# sns.heatmap(X.corr('kendall'))"
   ],
   "metadata": {
    "collapsed": false,
    "pycharm": {
     "name": "#%%\n"
    }
   }
  },
  {
   "cell_type": "code",
   "execution_count": null,
   "outputs": [],
   "source": [
    "# sns.heatmap(X.corr('spearman'))"
   ],
   "metadata": {
    "collapsed": false,
    "pycharm": {
     "name": "#%%\n"
    }
   }
  },
  {
   "cell_type": "code",
   "execution_count": 17,
   "outputs": [
    {
     "data": {
      "text/plain": "[(0, 3), (1, 379), (2, 179), (3, 272), (4, 69), (5, 483), (6, 280), (7, 365)]"
     },
     "execution_count": 17,
     "metadata": {},
     "output_type": "execute_result"
    }
   ],
   "source": [
    "from collections import Counter\n",
    "from imblearn.combine import SMOTETomek,SMOTEENN\n",
    "from sklearn.preprocessing import LabelEncoder\n",
    "smote_tomek = SMOTETomek(random_state=0)\n",
    "sme = SMOTEENN(random_state=0)\n",
    "X_resampled,y_resampled= smote_tomek.fit_resample(X,y)\n",
    "# X_resampled,y_resampled= sme.fit_resample(X,y)\n",
    "le = LabelEncoder()\n",
    "y_resampled = le.fit_transform(y_resampled)\n",
    "sorted(Counter(y_resampled).items())"
   ],
   "metadata": {
    "collapsed": false,
    "pycharm": {
     "name": "#%%\n"
    }
   }
  },
  {
   "cell_type": "code",
   "execution_count": null,
   "outputs": [],
   "source": [
    "# X_train, X_test, y_train, y_test = train_test_split(X_resampled, y_resampled, test_size=0.3, random_state=77)"
   ],
   "metadata": {
    "collapsed": false,
    "pycharm": {
     "name": "#%%\n"
    }
   }
  },
  {
   "cell_type": "code",
   "execution_count": null,
   "outputs": [],
   "source": [
    "# xzb_xgb = xgb.XGBClassifier(n_estimators=500,learning_rate=0.05,random_state=0,objective='multi:softmax',booster='gbtree',eval_metric='merror',use_label_encoder=False)\n",
    "# xzb_xgb.fit(X_train, y_train)\n",
    "# y_pred = xzb_xgb.predict(X_test)\n",
    "# accuracy = []\n",
    "# accuracy.append(round(accuracy_score(y_test, y_pred),4))\n",
    "# accuracy\n",
    "# from sklearn.model_selection import KFold\n",
    "# from sklearn.model_selection import cross_val_score\n",
    "# kfold = KFold(n_splits=10,random_state=0,shuffle=True)\n",
    "# xzb_kflod_result = cross_val_score(xzb_xgb,X_resampled,y_resampled,cv=kfold)\n",
    "# xzb_kflod_result"
   ],
   "metadata": {
    "collapsed": false,
    "pycharm": {
     "name": "#%%\n"
    }
   }
  },
  {
   "cell_type": "code",
   "execution_count": null,
   "outputs": [],
   "source": [
    "# from sklearn.model_selection import GridSearchCV\n",
    "# xgb_param = {\n",
    "#     'learning_rate':[0.1,0.05],\n",
    "#     'n_estimators':[100,500],\n",
    "#     'gamma':[0,0.1],\n",
    "#     'max_depth':[6,8],\n",
    "# }\n",
    "# xzb_xgb = xgb.XGBClassifier(objective='multi:softmax',random_state=0,use_label_encoder=False,eval_metric='mlogloss',**xgb_param)\n",
    "# opt_xgb=GridSearchCV(xzb_xgb,xgb_param,cv=5)\n",
    "# opt_xgb.fit(X_train,y_train)\n",
    "# # print('每轮迭代运行结果'.format(opt_xgb.grid_scores_))\n",
    "# opt_xgb.best_params_,opt_xgb.best_score_"
   ],
   "metadata": {
    "collapsed": false,
    "pycharm": {
     "name": "#%%\n"
    }
   }
  },
  {
   "cell_type": "code",
   "execution_count": null,
   "outputs": [],
   "source": [
    "# def obj_xgb(trial):\n",
    "#     train_x,valid_x,train_y,valid_y = train_test_split(X_resampled,y_resampled,test_size=0.25)\n",
    "#     dtrain = xgb.DMatrix(train_x,label=train_y)\n",
    "#     dvalid = xgb.DMatrix(valid_x,label=valid_y)\n",
    "#     param = {\n",
    "#         'verbosity':0,\n",
    "#         'objective':'multi:softmax',\n",
    "#         'num_class':8,\n",
    "#         'tree_method':'exact',\n",
    "#         'booster':trial.suggest_categorical('booster',['gbtree','gblinear','dart']),\n",
    "#         'lambda':trial.suggest_float('lambda',1e-8,1.0,log=True),\n",
    "#         'alpha':trial.suggest_float('alpha',1e-8,1.0,log=True),\n",
    "#         'subsample':trial.suggest_float('subsample',0.2,1.0),\n",
    "#         'colsample_bytree':trial.suggest_float('colsample_bytree',0.2,1.0)\n",
    "#     }\n",
    "#     if param[\"booster\"] in [\"gbtree\", \"gblinear\"]:\n",
    "#         param[\"max_depth\"] = trial.suggest_int(\"max_depth\", 3, 9, step=2)\n",
    "#         param[\"min_child_weight\"] = trial.suggest_int(\"min_child_weight\", 2, 10)\n",
    "#         param[\"eta\"] = trial.suggest_float(\"eta\", 1e-8, 1.0, log=True)\n",
    "#         param[\"gamma\"] = trial.suggest_float(\"gamma\", 1e-8, 1.0, log=True)\n",
    "#         param[\"grow_policy\"] = trial.suggest_categorical(\"grow_policy\", [\"depthwise\", \"lossguide\"])\n",
    "#\n",
    "#     if param[\"booster\"] == \"dart\":\n",
    "#         param[\"sample_type\"] = trial.suggest_categorical(\"sample_type\", [\"uniform\", \"weighted\"])\n",
    "#         param[\"normalize_type\"] = trial.suggest_categorical(\"normalize_type\", [\"tree\", \"forest\"])\n",
    "#         param[\"rate_drop\"] = trial.suggest_float(\"rate_drop\", 1e-8, 1.0, log=True)\n",
    "#         param[\"skip_drop\"] = trial.suggest_float(\"skip_drop\", 1e-8, 1.0, log=True)\n",
    "#     bst = xgb.train(param, dtrain)\n",
    "#     preds = bst.predict(dvalid)\n",
    "#     pred_labels = np.rint(preds)\n",
    "#     accuracy = accuracy_score(valid_y, pred_labels)\n",
    "#     return accuracy\n"
   ],
   "metadata": {
    "collapsed": false,
    "pycharm": {
     "name": "#%%\n"
    }
   }
  },
  {
   "cell_type": "code",
   "execution_count": null,
   "outputs": [],
   "source": [
    "# study = optuna.create_study(direction=\"maximize\",study_name='xgb_optuna')\n",
    "# study.optimize(obj_xgb, n_trials=100, timeout=600)\n",
    "#\n",
    "# print(\"Number of finished trials: \", len(study.trials))\n",
    "# print(\"Best trial:\")\n",
    "# trial = study.best_trial\n",
    "#\n",
    "# print(\"  Value: {}\".format(trial.value))\n",
    "# print(\"  Params: \")\n",
    "# for key, value in trial.params.items():\n",
    "#     print(\"    {}: {}\".format(key, value))\n"
   ],
   "metadata": {
    "collapsed": false,
    "pycharm": {
     "name": "#%%\n"
    }
   }
  },
  {
   "cell_type": "code",
   "execution_count": null,
   "outputs": [],
   "source": [
    "# train_x,valid_x,train_y,valid_y = train_test_split(X_resampled,y_resampled,test_size=0.25)\n",
    "# dtrain = xgb.DMatrix(train_x,label=train_y)\n",
    "# dvalid = xgb.DMatrix(valid_x,label=valid_y)\n",
    "# bst = xgb.train(dtrain=dtrain,params=study.best_params)\n",
    "# bst.predict(dvalid)\n",
    "# bst.get_score(importance_type='gain')"
   ],
   "metadata": {
    "collapsed": false,
    "pycharm": {
     "name": "#%%\n"
    }
   }
  },
  {
   "cell_type": "code",
   "execution_count": 38,
   "outputs": [
    {
     "data": {
      "text/plain": "Counter({0: 621, 1: 70, 2: 184, 3: 121, 4: 547, 5: 53, 6: 112, 7: 32})"
     },
     "execution_count": 38,
     "metadata": {},
     "output_type": "execute_result"
    }
   ],
   "source": [
    "Counter(sorted(y))"
   ],
   "metadata": {
    "collapsed": false,
    "pycharm": {
     "name": "#%%\n"
    }
   }
  },
  {
   "cell_type": "code",
   "execution_count": 8,
   "outputs": [
    {
     "name": "stdout",
     "output_type": "stream",
     "text": [
      "125\n"
     ]
    }
   ],
   "source": [
    "from imblearn.combine import SMOTETomek,SMOTEENN\n",
    "import shap\n",
    "import matplotlib.pyplot as plt\n",
    "from sklearn.preprocessing import LabelEncoder\n",
    "xzb = pd.read_excel('./input/心总表.xlsx',sheet_name='总表')\n",
    "xzb.drop(columns=['病案号'],inplace=True)\n",
    "xzb.drop(labels=[1742,1741],axis=0,inplace=True)\n",
    "xzb.drop(labels=xzb[xzb['性别'].isna() ].index,inplace=True)\n",
    "xzb = xzb.astype(int)\n",
    "y = xzb['证名']\n",
    "X = xzb.drop(labels=['证名','性别','年龄'],axis=1)\n",
    "le = LabelEncoder()\n",
    "y = le.fit_transform(y)\n",
    "shap_values = []\n",
    "for i in range(8):\n",
    "    target = np.where(y==i,1,0)\n",
    "    smote_tomek = SMOTETomek(random_state=0)\n",
    "    sme = SMOTEENN(random_state=0)\n",
    "    print(set(list(X)))\n",
    "    break\n",
    "    X_resampled,y_resampled= smote_tomek.fit_resample(X,target)\n",
    "    def obj_xgb(trial):\n",
    "        train_x,valid_x,train_y,valid_y = train_test_split(X_resampled,y_resampled,test_size=0.25)\n",
    "        dtrain = xgb.DMatrix(train_x,label=train_y)\n",
    "        dvalid = xgb.DMatrix(valid_x,label=valid_y)\n",
    "        param = {\n",
    "            'verbosity':0,\n",
    "            'objective':'binary:logistic',\n",
    "            'tree_method':'exact',\n",
    "            'booster':'gbtree',\n",
    "            # 'booster':trial.suggest_categorical('booster',['gbtree','gblinear','dart']),\n",
    "            'lambda':trial.suggest_float('lambda',1e-8,1.0,log=True),\n",
    "            'alpha':trial.suggest_float('alpha',1e-8,1.0,log=True),\n",
    "            'subsample':trial.suggest_float('subsample',0.2,1.0),\n",
    "            'colsample_bytree':trial.suggest_float('colsample_bytree',0.2,1.0)\n",
    "        }\n",
    "        if param[\"booster\"] in [\"gbtree\", \"gblinear\"]:\n",
    "            param[\"max_depth\"] = trial.suggest_int(\"max_depth\", 3, 9, step=2)\n",
    "            param[\"min_child_weight\"] = trial.suggest_int(\"min_child_weight\", 2, 10)\n",
    "            param[\"eta\"] = trial.suggest_float(\"eta\", 1e-8, 1.0, log=True)\n",
    "            param[\"gamma\"] = trial.suggest_float(\"gamma\", 1e-8, 1.0, log=True)\n",
    "            param[\"grow_policy\"] = trial.suggest_categorical(\"grow_policy\", [\"depthwise\", \"lossguide\"])\n",
    "        if param[\"booster\"] == \"dart\":\n",
    "            param[\"sample_type\"] = trial.suggest_categorical(\"sample_type\", [\"uniform\", \"weighted\"])\n",
    "            param[\"normalize_type\"] = trial.suggest_categorical(\"normalize_type\", [\"tree\", \"forest\"])\n",
    "            param[\"rate_drop\"] = trial.suggest_float(\"rate_drop\", 1e-8, 1.0, log=True)\n",
    "            param[\"skip_drop\"] = trial.suggest_float(\"skip_drop\", 1e-8, 1.0, log=True)\n",
    "        bst = xgb.train(param, dtrain)\n",
    "        preds = bst.predict(dvalid)\n",
    "        pred_labels = np.rint(preds)\n",
    "        acc = accuracy_score(valid_y, pred_labels)\n",
    "        return acc\n",
    "    study = optuna.create_study(direction=\"maximize\",study_name='xgb_optuna')\n",
    "    study.optimize(obj_xgb, n_trials=100, timeout=600)\n",
    "    print(study.best_trial.value)\n",
    "    # print(optuna.importance.get_param_importances(study))\n",
    "    train_x, test_x, train_y, test_y = train_test_split(X_resampled, y_resampled, test_size=0.25)\n",
    "    dtrain = xgb.DMatrix(train_x, label=train_y)\n",
    "    dvalid = xgb.DMatrix(test_x, label=test_y)\n",
    "    model = xgb.train(study.best_trial.params, dtrain)\n",
    "    preds = model.predict(dvalid)\n",
    "    pred_labels = np.rint(preds)\n",
    "    accuracy = accuracy_score(test_y, pred_labels)\n",
    "    print(accuracy)\n",
    "    print(i + 1, sorted(model.get_score().items(), key=lambda item: item[1], reverse=True)[:5])\n",
    "    model = xgb.train(study.best_trial.params,dtrain)\n",
    "    # print(i,sorted(model.get_score().items(),key=lambda item:item[1],reverse=True)[:5])\n",
    "    explainerxgbc = shap.TreeExplainer(model)\n",
    "    shap_values_XGBoost_train = explainerxgbc.shap_values(train_x)\n",
    "\n",
    "    SHAP_XGBoost=pd.DataFrame(data=shap_values_XGBoost_train,columns=train_x.columns).mean(axis=0).sort_values(ascending=False)\n",
    "    shap_values.append(SHAP_XGBoost)"
   ],
   "metadata": {
    "collapsed": false,
    "pycharm": {
     "name": "#%%\n"
    }
   }
  },
  {
   "cell_type": "code",
   "execution_count": 9,
   "outputs": [
    {
     "name": "stdout",
     "output_type": "stream",
     "text": [
      "Number of finished trials:  100\n",
      "Best trial:\n",
      "  Value: 0.9177631578947368\n",
      "  Params: \n",
      "    booster: dart\n",
      "    lambda: 1.277542856692128e-05\n",
      "    alpha: 0.008714461765165896\n",
      "    subsample: 0.8750319742989269\n",
      "    colsample_bytree: 0.4133790298536409\n",
      "    sample_type: uniform\n",
      "    normalize_type: forest\n",
      "    rate_drop: 1.071097783200843e-08\n",
      "    skip_drop: 0.046131479355308376\n",
      "Number of finished trials:  100\n",
      "Best trial:\n",
      "  Value: 0.7821782178217822\n",
      "  Params: \n",
      "    booster: gbtree\n",
      "    lambda: 0.0009418519741090138\n",
      "    alpha: 0.011426773027776468\n",
      "    subsample: 0.8368118093244804\n",
      "    colsample_bytree: 0.4099783871463738\n",
      "    max_depth: 5\n",
      "    min_child_weight: 3\n",
      "    eta: 0.01615022861767344\n",
      "    gamma: 3.586794906323603e-08\n",
      "    grow_policy: lossguide\n",
      "Number of finished trials:  100\n",
      "Best trial:\n",
      "  Value: 0.8562091503267973\n",
      "  Params: \n",
      "    booster: dart\n",
      "    lambda: 0.2647530750828355\n",
      "    alpha: 0.0009845606544221987\n",
      "    subsample: 0.7094859015528543\n",
      "    colsample_bytree: 0.964803412354947\n",
      "    sample_type: uniform\n",
      "    normalize_type: forest\n",
      "    rate_drop: 5.723715076772229e-08\n",
      "    skip_drop: 2.1602234714148965e-08\n",
      "Number of finished trials:  100\n",
      "Best trial:\n",
      "  Value: 0.6567656765676567\n",
      "  Params: \n",
      "    booster: gblinear\n",
      "    lambda: 2.543233347285352e-08\n",
      "    alpha: 0.01510869460940372\n",
      "    subsample: 0.9554912284170417\n",
      "    colsample_bytree: 0.3979057587453367\n",
      "    max_depth: 5\n",
      "    min_child_weight: 10\n",
      "    eta: 0.049170088054401456\n",
      "    gamma: 1.9352027925373794e-06\n",
      "    grow_policy: lossguide\n",
      "Number of finished trials:  100\n",
      "Best trial:\n",
      "  Value: 0.9836601307189542\n",
      "  Params: \n",
      "    booster: dart\n",
      "    lambda: 0.007998069283352383\n",
      "    alpha: 0.0004854456847570533\n",
      "    subsample: 0.5903284841705682\n",
      "    colsample_bytree: 0.8146361421886663\n",
      "    sample_type: uniform\n",
      "    normalize_type: forest\n",
      "    rate_drop: 0.0032489716772169416\n",
      "    skip_drop: 0.0013365109453556583\n",
      "Number of finished trials:  100\n",
      "Best trial:\n",
      "  Value: 0.9278688524590164\n",
      "  Params: \n",
      "    booster: dart\n",
      "    lambda: 0.020605074001844043\n",
      "    alpha: 3.239371870584895e-06\n",
      "    subsample: 0.9174723456364657\n",
      "    colsample_bytree: 0.49036790840801225\n",
      "    sample_type: weighted\n",
      "    normalize_type: forest\n",
      "    rate_drop: 0.13750876162717876\n",
      "    skip_drop: 1.454252279399064e-07\n",
      "Number of finished trials:  100\n",
      "Best trial:\n",
      "  Value: 0.9967320261437909\n",
      "  Params: \n",
      "    booster: dart\n",
      "    lambda: 3.184143971747039e-08\n",
      "    alpha: 0.0072361921376452015\n",
      "    subsample: 0.7331365256527603\n",
      "    colsample_bytree: 0.45843546639671345\n",
      "    sample_type: uniform\n",
      "    normalize_type: tree\n",
      "    rate_drop: 0.0007750405723301266\n",
      "    skip_drop: 8.295030503907694e-06\n",
      "Number of finished trials:  100\n",
      "Best trial:\n",
      "  Value: 0.9379084967320261\n",
      "  Params: \n",
      "    booster: dart\n",
      "    lambda: 0.041597313708957195\n",
      "    alpha: 0.04092890710515538\n",
      "    subsample: 0.8936142937910038\n",
      "    colsample_bytree: 0.7291639635894118\n",
      "    sample_type: weighted\n",
      "    normalize_type: forest\n",
      "    rate_drop: 1.4625536002450572e-05\n",
      "    skip_drop: 1.0709888800985604e-08\n",
      "Number of finished trials:  100\n",
      "Best trial:\n",
      "  Value: 0.9546925566343042\n",
      "  Params: \n",
      "    booster: dart\n",
      "    lambda: 1.3657989117576315e-08\n",
      "    alpha: 0.0005801311146302847\n",
      "    subsample: 0.8937380804415018\n",
      "    colsample_bytree: 0.9371301071164988\n",
      "    sample_type: uniform\n",
      "    normalize_type: forest\n",
      "    rate_drop: 1.1958793540484482e-05\n",
      "    skip_drop: 0.00011128233746981306\n",
      "Number of finished trials:  100\n",
      "Best trial:\n",
      "  Value: 0.9215686274509803\n",
      "  Params: \n",
      "    booster: dart\n",
      "    lambda: 1.7401330151774848e-08\n",
      "    alpha: 8.52553736892312e-08\n",
      "    subsample: 0.9637232917190153\n",
      "    colsample_bytree: 0.6632499678699423\n",
      "    sample_type: weighted\n",
      "    normalize_type: forest\n",
      "    rate_drop: 6.2580951216870215e-06\n",
      "    skip_drop: 0.9794782161019021\n",
      "Number of finished trials:  100\n",
      "Best trial:\n",
      "  Value: 0.9838187702265372\n",
      "  Params: \n",
      "    booster: dart\n",
      "    lambda: 1.4741760545629298e-05\n",
      "    alpha: 2.0924306541952285e-05\n",
      "    subsample: 0.8471625442509114\n",
      "    colsample_bytree: 0.6982671683935677\n",
      "    sample_type: uniform\n",
      "    normalize_type: forest\n",
      "    rate_drop: 1.3459210206686809e-05\n",
      "    skip_drop: 0.0006360853311045136\n",
      "Number of finished trials:  100\n",
      "Best trial:\n",
      "  Value: 0.9545454545454546\n",
      "  Params: \n",
      "    booster: dart\n",
      "    lambda: 0.012430133797138072\n",
      "    alpha: 9.750505479171284e-07\n",
      "    subsample: 0.6530162175336252\n",
      "    colsample_bytree: 0.8947030198663146\n",
      "    sample_type: weighted\n",
      "    normalize_type: tree\n",
      "    rate_drop: 0.011994402240181263\n",
      "    skip_drop: 2.3709172014802416e-08\n",
      "Number of finished trials:  100\n",
      "Best trial:\n",
      "  Value: 0.9870550161812298\n",
      "  Params: \n",
      "    booster: dart\n",
      "    lambda: 5.8296351727501e-06\n",
      "    alpha: 2.2673861877354944e-07\n",
      "    subsample: 0.8722138597218002\n",
      "    colsample_bytree: 0.940877868177142\n",
      "    sample_type: uniform\n",
      "    normalize_type: forest\n",
      "    rate_drop: 0.00018848676642394723\n",
      "    skip_drop: 4.1619339426546095e-08\n",
      "Number of finished trials:  100\n",
      "Best trial:\n",
      "  Value: 0.8733766233766234\n",
      "  Params: \n",
      "    booster: dart\n",
      "    lambda: 6.392921509694526e-05\n",
      "    alpha: 0.0035587133361599994\n",
      "    subsample: 0.8910361749922738\n",
      "    colsample_bytree: 0.45148447921193596\n",
      "    sample_type: uniform\n",
      "    normalize_type: tree\n",
      "    rate_drop: 0.014407172308864735\n",
      "    skip_drop: 9.309459642738761e-05\n",
      "Number of finished trials:  100\n",
      "Best trial:\n",
      "  Value: 0.8\n",
      "  Params: \n",
      "    booster: dart\n",
      "    lambda: 0.00027170693587912114\n",
      "    alpha: 4.154758289796287e-05\n",
      "    subsample: 0.8196072466637542\n",
      "    colsample_bytree: 0.4237806449530389\n",
      "    sample_type: weighted\n",
      "    normalize_type: tree\n",
      "    rate_drop: 0.1688344973973679\n",
      "    skip_drop: 0.028926859747192984\n",
      "Number of finished trials:  100\n",
      "Best trial:\n",
      "  Value: 0.9837662337662337\n",
      "  Params: \n",
      "    booster: dart\n",
      "    lambda: 0.03167443040413811\n",
      "    alpha: 7.682946442058599e-07\n",
      "    subsample: 0.821877131712563\n",
      "    colsample_bytree: 0.6268289391668314\n",
      "    sample_type: uniform\n",
      "    normalize_type: forest\n",
      "    rate_drop: 0.04187434699610575\n",
      "    skip_drop: 2.1932589606025366e-05\n",
      "Number of finished trials:  100\n",
      "Best trial:\n",
      "  Value: 0.9250814332247557\n",
      "  Params: \n",
      "    booster: dart\n",
      "    lambda: 5.741740406114104e-08\n",
      "    alpha: 7.419529707238658e-07\n",
      "    subsample: 0.8832403345914037\n",
      "    colsample_bytree: 0.6547898826837284\n",
      "    sample_type: uniform\n",
      "    normalize_type: forest\n",
      "    rate_drop: 0.06011165064725566\n",
      "    skip_drop: 3.586079314403247e-08\n",
      "Number of finished trials:  100\n",
      "Best trial:\n",
      "  Value: 0.9902597402597403\n",
      "  Params: \n",
      "    booster: dart\n",
      "    lambda: 3.2257926037207313e-07\n",
      "    alpha: 2.923949778331051e-05\n",
      "    subsample: 0.9132089686134364\n",
      "    colsample_bytree: 0.532506521395393\n",
      "    sample_type: uniform\n",
      "    normalize_type: forest\n",
      "    rate_drop: 0.0001541738653233865\n",
      "    skip_drop: 0.00011900563212851315\n",
      "Number of finished trials:  100\n",
      "Best trial:\n",
      "  Value: 0.8409090909090909\n",
      "  Params: \n",
      "    booster: dart\n",
      "    lambda: 4.731600941376386e-06\n",
      "    alpha: 9.30399463809446e-05\n",
      "    subsample: 0.7392657671541311\n",
      "    colsample_bytree: 0.5999877003668656\n",
      "    sample_type: uniform\n",
      "    normalize_type: tree\n",
      "    rate_drop: 8.595326191384797e-05\n",
      "    skip_drop: 0.0006901229397971793\n",
      "Number of finished trials:  100\n",
      "Best trial:\n",
      "  Value: 0.9870967741935484\n",
      "  Params: \n",
      "    booster: dart\n",
      "    lambda: 0.08323761748310918\n",
      "    alpha: 0.00018778484241178408\n",
      "    subsample: 0.9054202310627446\n",
      "    colsample_bytree: 0.8708267186923089\n",
      "    sample_type: uniform\n",
      "    normalize_type: forest\n",
      "    rate_drop: 0.006962305520726642\n",
      "    skip_drop: 1.7234869522012823e-07\n",
      "Number of finished trials:  100\n",
      "Best trial:\n",
      "  Value: 0.9514563106796117\n",
      "  Params: \n",
      "    booster: dart\n",
      "    lambda: 2.809527604732661e-06\n",
      "    alpha: 0.00011208879366933392\n",
      "    subsample: 0.6973851097795267\n",
      "    colsample_bytree: 0.3861851789379689\n",
      "    sample_type: weighted\n",
      "    normalize_type: tree\n",
      "    rate_drop: 0.0009099195981538223\n",
      "    skip_drop: 1.6335954704533332e-08\n",
      "Number of finished trials:  100\n",
      "Best trial:\n",
      "  Value: 0.9903225806451613\n",
      "  Params: \n",
      "    booster: dart\n",
      "    lambda: 0.0004826306691750185\n",
      "    alpha: 4.039127788191299e-05\n",
      "    subsample: 0.7850156667050878\n",
      "    colsample_bytree: 0.9215991894217512\n",
      "    sample_type: weighted\n",
      "    normalize_type: forest\n",
      "    rate_drop: 0.2912581805033665\n",
      "    skip_drop: 6.461003236707191e-08\n",
      "Number of finished trials:  100\n",
      "Best trial:\n",
      "  Value: 0.9805194805194806\n",
      "  Params: \n",
      "    booster: dart\n",
      "    lambda: 8.527406514336646e-07\n",
      "    alpha: 3.554131993012999e-08\n",
      "    subsample: 0.9569471191803214\n",
      "    colsample_bytree: 0.693256426320412\n",
      "    sample_type: weighted\n",
      "    normalize_type: forest\n",
      "    rate_drop: 0.001185053600427401\n",
      "    skip_drop: 0.0004859105327300635\n",
      "Number of finished trials:  100\n",
      "Best trial:\n",
      "  Value: 0.9087947882736156\n",
      "  Params: \n",
      "    booster: dart\n",
      "    lambda: 0.0007999586663564538\n",
      "    alpha: 5.386403038053369e-07\n",
      "    subsample: 0.5141537145467733\n",
      "    colsample_bytree: 0.6211260484512965\n",
      "    sample_type: uniform\n",
      "    normalize_type: forest\n",
      "    rate_drop: 2.1091632337047892e-08\n",
      "    skip_drop: 0.040512434282994156\n",
      "Number of finished trials:  100\n",
      "Best trial:\n",
      "  Value: 0.9772727272727273\n",
      "  Params: \n",
      "    booster: dart\n",
      "    lambda: 9.62908243274236e-06\n",
      "    alpha: 0.009379585514770115\n",
      "    subsample: 0.6823711153368798\n",
      "    colsample_bytree: 0.500265604384624\n",
      "    sample_type: uniform\n",
      "    normalize_type: tree\n",
      "    rate_drop: 2.8825136861292985e-06\n",
      "    skip_drop: 5.9932652571904054e-05\n",
      "Number of finished trials:  100\n",
      "Best trial:\n",
      "  Value: 0.9419354838709677\n",
      "  Params: \n",
      "    booster: dart\n",
      "    lambda: 0.0045332936060531355\n",
      "    alpha: 8.831297410408331e-07\n",
      "    subsample: 0.8624939201760482\n",
      "    colsample_bytree: 0.6671698220925141\n",
      "    sample_type: weighted\n",
      "    normalize_type: forest\n",
      "    rate_drop: 1.565385458636474e-07\n",
      "    skip_drop: 0.4416471607649578\n",
      "Number of finished trials:  100\n",
      "Best trial:\n",
      "  Value: 0.9870967741935484\n",
      "  Params: \n",
      "    booster: dart\n",
      "    lambda: 0.8515232571263633\n",
      "    alpha: 1.1496360487200976e-05\n",
      "    subsample: 0.7822490670155893\n",
      "    colsample_bytree: 0.7526900177550422\n",
      "    sample_type: uniform\n",
      "    normalize_type: tree\n",
      "    rate_drop: 0.00010335560247755006\n",
      "    skip_drop: 8.324535897160403e-06\n",
      "Number of finished trials:  100\n",
      "Best trial:\n",
      "  Value: 0.9385113268608414\n",
      "  Params: \n",
      "    booster: dart\n",
      "    lambda: 0.015479892500725527\n",
      "    alpha: 3.673610415387345e-07\n",
      "    subsample: 0.5389422845821813\n",
      "    colsample_bytree: 0.38964061237445236\n",
      "    sample_type: weighted\n",
      "    normalize_type: tree\n",
      "    rate_drop: 0.010775059697155705\n",
      "    skip_drop: 4.486445847192289e-06\n"
     ]
    }
   ],
   "source": [
    "b_resampled = pd.concat([pd.DataFrame(X_resampled),pd.DataFrame(y_resampled,columns=['证名'])],axis=1)\n",
    "for i in  range(8):\n",
    "    for j in range(i+1,8):\n",
    "        i_resampled = b_resampled.drop(b_resampled[b_resampled['证名']!=i].index)\n",
    "        j_resampled = b_resampled.drop(b_resampled[b_resampled['证名']!=j].index)\n",
    "        i_resampled['证名'] = 0\n",
    "        j_resampled['证名'] = 1\n",
    "        data_resampled = pd.concat([i_resampled,j_resampled],axis=0)\n",
    "        # X_train,y_train,X_test,y_test = train_test_split(data_resampled.drop(labels='证名',axis=1),data_resampled['证名'])\n",
    "        def obj_xgb(trial):\n",
    "            train_x,valid_x,train_y,valid_y = train_test_split(data_resampled.drop(labels='证名',axis=1),data_resampled['证名'],test_size=0.25)\n",
    "            # train_x,valid_x,train_y,valid_y = train_test_split(X_resampled,y_resampled,test_size=0.25)\n",
    "            dtrain = xgb.DMatrix(train_x,label=train_y)\n",
    "            dvalid = xgb.DMatrix(valid_x,label=valid_y)\n",
    "            param = {\n",
    "                'verbosity':0,\n",
    "                'objective':'binary:logistic',\n",
    "                'tree_method':'exact',\n",
    "                'booster':trial.suggest_categorical('booster',['gbtree','gblinear','dart']),\n",
    "                'lambda':trial.suggest_float('lambda',1e-8,1.0,log=True),\n",
    "                'alpha':trial.suggest_float('alpha',1e-8,1.0,log=True),\n",
    "                'subsample':trial.suggest_float('subsample',0.2,1.0),\n",
    "                'colsample_bytree':trial.suggest_float('colsample_bytree',0.2,1.0)\n",
    "            }\n",
    "            if param[\"booster\"] in [\"gbtree\", \"gblinear\"]:\n",
    "                param[\"max_depth\"] = trial.suggest_int(\"max_depth\", 3, 9, step=2)\n",
    "                param[\"min_child_weight\"] = trial.suggest_int(\"min_child_weight\", 2, 10)\n",
    "                param[\"eta\"] = trial.suggest_float(\"eta\", 1e-8, 1.0, log=True)\n",
    "                param[\"gamma\"] = trial.suggest_float(\"gamma\", 1e-8, 1.0, log=True)\n",
    "                param[\"grow_policy\"] = trial.suggest_categorical(\"grow_policy\", [\"depthwise\", \"lossguide\"])\n",
    "            if param[\"booster\"] == \"dart\":\n",
    "                param[\"sample_type\"] = trial.suggest_categorical(\"sample_type\", [\"uniform\", \"weighted\"])\n",
    "                param[\"normalize_type\"] = trial.suggest_categorical(\"normalize_type\", [\"tree\", \"forest\"])\n",
    "                param[\"rate_drop\"] = trial.suggest_float(\"rate_drop\", 1e-8, 1.0, log=True)\n",
    "                param[\"skip_drop\"] = trial.suggest_float(\"skip_drop\", 1e-8, 1.0, log=True)\n",
    "            bst = xgb.train(param, dtrain)\n",
    "            preds = bst.predict(dvalid)\n",
    "            pred_labels = np.rint(preds)\n",
    "            accuracy = accuracy_score(valid_y, pred_labels)\n",
    "            return accuracy\n",
    "        study = optuna.create_study(direction=\"maximize\",study_name='xgb_optuna')\n",
    "        study.optimize(obj_xgb, n_trials=100, timeout=600)\n",
    "        print(\"Number of finished trials: \", len(study.trials))\n",
    "        print(\"Best trial:\")\n",
    "        trial = study.best_trial\n",
    "        print(\"  Value: {}\".format(trial.value))\n",
    "        print(\"  Params: \")\n",
    "        for key, value in trial.params.items():\n",
    "            print(\"    {}: {}\".format(key, value))"
   ],
   "metadata": {
    "collapsed": false,
    "pycharm": {
     "name": "#%%\n"
    }
   }
  },
  {
   "cell_type": "code",
   "execution_count": null,
   "outputs": [],
   "source": [
    "# X_train, X_test, y_train, y_test = train_test_split(X_resampled, y_resampled, test_size=0.3, random_state=77)"
   ],
   "metadata": {
    "collapsed": false,
    "pycharm": {
     "name": "#%%\n"
    }
   }
  },
  {
   "cell_type": "code",
   "execution_count": null,
   "outputs": [],
   "source": [
    "# xzb_xgb = xgb.XGBClassifier(n_estimators=500,learning_rate=0.05,random_state=0,objective='multi:softmax',booster='gbtree',eval_metric='merror',use_label_encoder=False)\n",
    "# xzb_xgb.fit(X_train, y_train)\n",
    "# y_pred = xzb_xgb.predict(X_test)\n",
    "# accuracy = []\n",
    "# accuracy.append(round(accuracy_score(y_test, y_pred),4))\n",
    "# accuracy\n",
    "# from sklearn.model_selection import KFold\n",
    "# from sklearn.model_selection import cross_val_score\n",
    "# kfold = KFold(n_splits=10,random_state=0,shuffle=True)\n",
    "# xzb_kflod_result = cross_val_score(xzb_xgb,X_resampled,y_resampled,cv=kfold)\n",
    "# xzb_kflod_result"
   ],
   "metadata": {
    "collapsed": false,
    "pycharm": {
     "name": "#%%\n"
    }
   }
  },
  {
   "cell_type": "code",
   "execution_count": null,
   "outputs": [],
   "source": [
    "# from sklearn.model_selection import GridSearchCV\n",
    "# xgb_param = {\n",
    "#     'learning_rate':[0.1,0.05],\n",
    "#     'n_estimators':[100,500],\n",
    "#     'gamma':[0,0.1],\n",
    "#     'max_depth':[6,8],\n",
    "# }\n",
    "# xzb_xgb = xgb.XGBClassifier(objective='multi:softmax',random_state=0,use_label_encoder=False,eval_metric='mlogloss',**xgb_param)\n",
    "# opt_xgb=GridSearchCV(xzb_xgb,xgb_param,cv=5)\n",
    "# opt_xgb.fit(X_train,y_train)\n",
    "# # print('每轮迭代运行结果'.format(opt_xgb.grid_scores_))\n",
    "# opt_xgb.best_params_,opt_xgb.best_score_"
   ],
   "metadata": {
    "collapsed": false,
    "pycharm": {
     "name": "#%%\n"
    }
   }
  },
  {
   "cell_type": "code",
   "execution_count": null,
   "outputs": [],
   "source": [
    "# def obj_xgb(trial):\n",
    "#     train_x,valid_x,train_y,valid_y = train_test_split(X_resampled,y_resampled,test_size=0.25)\n",
    "#     dtrain = xgb.DMatrix(train_x,label=train_y)\n",
    "#     dvalid = xgb.DMatrix(valid_x,label=valid_y)\n",
    "#     param = {\n",
    "#         'verbosity':0,\n",
    "#         'objective':'multi:softmax',\n",
    "#         'num_class':8,\n",
    "#         'tree_method':'exact',\n",
    "#         'booster':trial.suggest_categorical('booster',['gbtree','gblinear','dart']),\n",
    "#         'lambda':trial.suggest_float('lambda',1e-8,1.0,log=True),\n",
    "#         'alpha':trial.suggest_float('alpha',1e-8,1.0,log=True),\n",
    "#         'subsample':trial.suggest_float('subsample',0.2,1.0),\n",
    "#         'colsample_bytree':trial.suggest_float('colsample_bytree',0.2,1.0)\n",
    "#     }\n",
    "#     if param[\"booster\"] in [\"gbtree\", \"gblinear\"]:\n",
    "#         param[\"max_depth\"] = trial.suggest_int(\"max_depth\", 3, 9, step=2)\n",
    "#         param[\"min_child_weight\"] = trial.suggest_int(\"min_child_weight\", 2, 10)\n",
    "#         param[\"eta\"] = trial.suggest_float(\"eta\", 1e-8, 1.0, log=True)\n",
    "#         param[\"gamma\"] = trial.suggest_float(\"gamma\", 1e-8, 1.0, log=True)\n",
    "#         param[\"grow_policy\"] = trial.suggest_categorical(\"grow_policy\", [\"depthwise\", \"lossguide\"])\n",
    "#\n",
    "#     if param[\"booster\"] == \"dart\":\n",
    "#         param[\"sample_type\"] = trial.suggest_categorical(\"sample_type\", [\"uniform\", \"weighted\"])\n",
    "#         param[\"normalize_type\"] = trial.suggest_categorical(\"normalize_type\", [\"tree\", \"forest\"])\n",
    "#         param[\"rate_drop\"] = trial.suggest_float(\"rate_drop\", 1e-8, 1.0, log=True)\n",
    "#         param[\"skip_drop\"] = trial.suggest_float(\"skip_drop\", 1e-8, 1.0, log=True)\n",
    "#     bst = xgb.train(param, dtrain)\n",
    "#     preds = bst.predict(dvalid)\n",
    "#     pred_labels = np.rint(preds)\n",
    "#     accuracy = accuracy_score(valid_y, pred_labels)\n",
    "#     return accuracy\n"
   ],
   "metadata": {
    "collapsed": false,
    "pycharm": {
     "name": "#%%\n"
    }
   }
  },
  {
   "cell_type": "code",
   "execution_count": null,
   "outputs": [],
   "source": [
    "# study = optuna.create_study(direction=\"maximize\",study_name='xgb_optuna')\n",
    "# study.optimize(obj_xgb, n_trials=100, timeout=600)\n",
    "#\n",
    "# print(\"Number of finished trials: \", len(study.trials))\n",
    "# print(\"Best trial:\")\n",
    "# trial = study.best_trial\n",
    "#\n",
    "# print(\"  Value: {}\".format(trial.value))\n",
    "# print(\"  Params: \")\n",
    "# for key, value in trial.params.items():\n",
    "#     print(\"    {}: {}\".format(key, value))\n"
   ],
   "metadata": {
    "collapsed": false,
    "pycharm": {
     "name": "#%%\n"
    }
   }
  },
  {
   "cell_type": "code",
   "execution_count": null,
   "outputs": [],
   "source": [
    "# train_x,valid_x,train_y,valid_y = train_test_split(X_resampled,y_resampled,test_size=0.25)\n",
    "# dtrain = xgb.DMatrix(train_x,label=train_y)\n",
    "# dvalid = xgb.DMatrix(valid_x,label=valid_y)\n",
    "# bst = xgb.train(dtrain=dtrain,params=study.best_params)\n",
    "# bst.predict(dvalid)\n",
    "# bst.get_score(importance_type='gain')"
   ],
   "metadata": {
    "collapsed": false,
    "pycharm": {
     "name": "#%%\n"
    }
   }
  },
  {
   "cell_type": "code",
   "execution_count": 23,
   "outputs": [],
   "source": [
    "# pearson相关系数\n",
    "import seaborn as sns\n",
    "import matplotlib as mpl\n",
    "import matplotlib.pyplot as plt\n",
    "# sns.heatmap(X.corr())"
   ],
   "metadata": {
    "collapsed": false,
    "pycharm": {
     "name": "#%%\n"
    }
   }
  },
  {
   "cell_type": "code",
   "execution_count": 21,
   "outputs": [],
   "source": [
    "# sns.heatmap(X.corr('kendall'))"
   ],
   "metadata": {
    "collapsed": false,
    "pycharm": {
     "name": "#%%\n"
    }
   }
  },
  {
   "cell_type": "code",
   "execution_count": 22,
   "outputs": [],
   "source": [
    "# sns.heatmap(X.corr('spearman'))"
   ],
   "metadata": {
    "collapsed": false,
    "pycharm": {
     "name": "#%%\n"
    }
   }
  },
  {
   "cell_type": "code",
   "execution_count": 12,
   "outputs": [
    {
     "data": {
      "text/plain": "[(0, 4344), (1, 4373), (2, 4334)]"
     },
     "execution_count": 12,
     "metadata": {},
     "output_type": "execute_result"
    }
   ],
   "source": [
    "from collections import Counter\n",
    "from imblearn.combine import SMOTETomek,SMOTEENN\n",
    "from sklearn.preprocessing import LabelEncoder\n",
    "smote_tomek = SMOTETomek(random_state=0)\n",
    "sme = SMOTEENN(random_state=0)\n",
    "# X_resampled,y_resampled= smote_tomek.fit_resample(X,y)\n",
    "X_resampled,y_resampled= sme.fit_resample(X,y)\n",
    "le = LabelEncoder()\n",
    "y_resampled = le.fit_transform(y_resampled)\n",
    "sorted(Counter(y_resampled).items())"
   ],
   "metadata": {
    "collapsed": false,
    "pycharm": {
     "name": "#%%\n"
    }
   }
  },
  {
   "cell_type": "code",
   "execution_count": 21,
   "outputs": [],
   "source": [
    "# X_train, X_test, y_train, y_test = train_test_split(X_resampled, y_resampled, test_size=0.3, random_state=77)"
   ],
   "metadata": {
    "collapsed": false,
    "pycharm": {
     "name": "#%%\n"
    }
   }
  },
  {
   "cell_type": "code",
   "execution_count": 22,
   "outputs": [],
   "source": [
    "# xzb_xgb = xgb.XGBClassifier(n_estimators=500,learning_rate=0.05,random_state=0,objective='multi:softmax',booster='gbtree',eval_metric='merror',use_label_encoder=False)\n",
    "# xzb_xgb.fit(X_train, y_train)\n",
    "# y_pred = xzb_xgb.predict(X_test)\n",
    "# accuracy = []\n",
    "# accuracy.append(round(accuracy_score(y_test, y_pred),4))\n",
    "# accuracy\n",
    "# from sklearn.model_selection import KFold\n",
    "# from sklearn.model_selection import cross_val_score\n",
    "# kfold = KFold(n_splits=10,random_state=0,shuffle=True)\n",
    "# xzb_kflod_result = cross_val_score(xzb_xgb,X_resampled,y_resampled,cv=kfold)\n",
    "# xzb_kflod_result"
   ],
   "metadata": {
    "collapsed": false,
    "pycharm": {
     "name": "#%%\n"
    }
   }
  },
  {
   "cell_type": "code",
   "execution_count": 23,
   "outputs": [
    {
     "data": {
      "text/plain": "({'gamma': 0.1, 'learning_rate': 0.1, 'max_depth': 8, 'n_estimators': 500},\n 0.6512592667817609)"
     },
     "execution_count": 23,
     "metadata": {},
     "output_type": "execute_result"
    }
   ],
   "source": [
    "# from sklearn.model_selection import GridSearchCV\n",
    "# xgb_param = {\n",
    "#     'learning_rate':[0.1,0.05],\n",
    "#     'n_estimators':[100,500],\n",
    "#     'gamma':[0,0.1],\n",
    "#     'max_depth':[6,8],\n",
    "# }\n",
    "# xzb_xgb = xgb.XGBClassifier(objective='multi:softmax',random_state=0,use_label_encoder=False,eval_metric='mlogloss',**xgb_param)\n",
    "# opt_xgb=GridSearchCV(xzb_xgb,xgb_param,cv=5)\n",
    "# opt_xgb.fit(X_train,y_train)\n",
    "# # print('每轮迭代运行结果'.format(opt_xgb.grid_scores_))\n",
    "# opt_xgb.best_params_,opt_xgb.best_score_"
   ],
   "metadata": {
    "collapsed": false,
    "pycharm": {
     "name": "#%%\n"
    }
   }
  },
  {
   "cell_type": "code",
   "execution_count": 151,
   "outputs": [],
   "source": [
    "# def obj_xgb(trial):\n",
    "#     train_x,valid_x,train_y,valid_y = train_test_split(X_resampled,y_resampled,test_size=0.25)\n",
    "#     dtrain = xgb.DMatrix(train_x,label=train_y)\n",
    "#     dvalid = xgb.DMatrix(valid_x,label=valid_y)\n",
    "#     param = {\n",
    "#         'verbosity':0,\n",
    "#         'objective':'multi:softmax',\n",
    "#         'num_class':8,\n",
    "#         'tree_method':'exact',\n",
    "#         'booster':trial.suggest_categorical('booster',['gbtree','gblinear','dart']),\n",
    "#         'lambda':trial.suggest_float('lambda',1e-8,1.0,log=True),\n",
    "#         'alpha':trial.suggest_float('alpha',1e-8,1.0,log=True),\n",
    "#         'subsample':trial.suggest_float('subsample',0.2,1.0),\n",
    "#         'colsample_bytree':trial.suggest_float('colsample_bytree',0.2,1.0)\n",
    "#     }\n",
    "#     if param[\"booster\"] in [\"gbtree\", \"gblinear\"]:\n",
    "#         param[\"max_depth\"] = trial.suggest_int(\"max_depth\", 3, 9, step=2)\n",
    "#         param[\"min_child_weight\"] = trial.suggest_int(\"min_child_weight\", 2, 10)\n",
    "#         param[\"eta\"] = trial.suggest_float(\"eta\", 1e-8, 1.0, log=True)\n",
    "#         param[\"gamma\"] = trial.suggest_float(\"gamma\", 1e-8, 1.0, log=True)\n",
    "#         param[\"grow_policy\"] = trial.suggest_categorical(\"grow_policy\", [\"depthwise\", \"lossguide\"])\n",
    "#\n",
    "#     if param[\"booster\"] == \"dart\":\n",
    "#         param[\"sample_type\"] = trial.suggest_categorical(\"sample_type\", [\"uniform\", \"weighted\"])\n",
    "#         param[\"normalize_type\"] = trial.suggest_categorical(\"normalize_type\", [\"tree\", \"forest\"])\n",
    "#         param[\"rate_drop\"] = trial.suggest_float(\"rate_drop\", 1e-8, 1.0, log=True)\n",
    "#         param[\"skip_drop\"] = trial.suggest_float(\"skip_drop\", 1e-8, 1.0, log=True)\n",
    "#     bst = xgb.train(param, dtrain)\n",
    "#     preds = bst.predict(dvalid)\n",
    "#     pred_labels = np.rint(preds)\n",
    "#     accuracy = accuracy_score(valid_y, pred_labels)\n",
    "#     return accuracy\n"
   ],
   "metadata": {
    "collapsed": false,
    "pycharm": {
     "name": "#%%\n"
    }
   }
  },
  {
   "cell_type": "code",
   "execution_count": 152,
   "outputs": [
    {
     "name": "stderr",
     "output_type": "stream",
     "text": [
      "\u001B[32m[I 2022-06-08 20:45:46,363]\u001B[0m A new study created in memory with name: xgb_optuna\u001B[0m\n",
      "\u001B[32m[I 2022-06-08 20:45:46,441]\u001B[0m Trial 0 finished with value: 0.4543973941368078 and parameters: {'booster': 'gbtree', 'lambda': 0.24711417965772772, 'alpha': 0.0007130922985746557, 'subsample': 0.43621523317753064, 'colsample_bytree': 0.8024583208411575, 'max_depth': 3, 'min_child_weight': 4, 'eta': 4.094957852674652e-05, 'gamma': 0.0001173588747412332, 'grow_policy': 'depthwise'}. Best is trial 0 with value: 0.4543973941368078.\u001B[0m\n",
      "\u001B[32m[I 2022-06-08 20:45:46,472]\u001B[0m Trial 1 finished with value: 0.11889250814332247 and parameters: {'booster': 'gblinear', 'lambda': 2.9838441367706117e-06, 'alpha': 0.9078142005124274, 'subsample': 0.32668875357112476, 'colsample_bytree': 0.3040622974910351, 'max_depth': 7, 'min_child_weight': 4, 'eta': 0.30950399551344054, 'gamma': 9.508278009113356e-05, 'grow_policy': 'depthwise'}. Best is trial 0 with value: 0.4543973941368078.\u001B[0m\n",
      "\u001B[32m[I 2022-06-08 20:45:46,550]\u001B[0m Trial 2 finished with value: 0.3493485342019544 and parameters: {'booster': 'gblinear', 'lambda': 1.826906705386795e-05, 'alpha': 6.595310765736654e-07, 'subsample': 0.5044684070793792, 'colsample_bytree': 0.9159080541203029, 'max_depth': 7, 'min_child_weight': 10, 'eta': 1.9848860101059296e-06, 'gamma': 0.05095796323507136, 'grow_policy': 'depthwise'}. Best is trial 0 with value: 0.4543973941368078.\u001B[0m\n",
      "\u001B[32m[I 2022-06-08 20:45:46,628]\u001B[0m Trial 3 finished with value: 0.34446254071661236 and parameters: {'booster': 'gblinear', 'lambda': 0.9557154089141614, 'alpha': 4.791697519616328e-05, 'subsample': 0.9999814969594873, 'colsample_bytree': 0.9787812420604975, 'max_depth': 5, 'min_child_weight': 4, 'eta': 0.0024201537408199336, 'gamma': 1.2342978553351335e-08, 'grow_policy': 'lossguide'}. Best is trial 0 with value: 0.4543973941368078.\u001B[0m\n",
      "\u001B[32m[I 2022-06-08 20:45:46,706]\u001B[0m Trial 4 finished with value: 0.500814332247557 and parameters: {'booster': 'gblinear', 'lambda': 1.3045320386073916e-07, 'alpha': 4.304133288147968e-06, 'subsample': 0.6117387302929466, 'colsample_bytree': 0.5204214689959699, 'max_depth': 9, 'min_child_weight': 6, 'eta': 0.08617197741675305, 'gamma': 1.5477030201555466e-07, 'grow_policy': 'lossguide'}. Best is trial 4 with value: 0.500814332247557.\u001B[0m\n",
      "\u001B[32m[I 2022-06-08 20:45:46,847]\u001B[0m Trial 5 finished with value: 0.5244299674267101 and parameters: {'booster': 'gbtree', 'lambda': 5.839933907186413e-07, 'alpha': 8.406424929847081e-06, 'subsample': 0.8904202727576478, 'colsample_bytree': 0.9680302255470625, 'max_depth': 7, 'min_child_weight': 8, 'eta': 1.7340360930303548e-05, 'gamma': 0.3976559623484495, 'grow_policy': 'depthwise'}. Best is trial 5 with value: 0.5244299674267101.\u001B[0m\n",
      "\u001B[32m[I 2022-06-08 20:45:46,941]\u001B[0m Trial 6 finished with value: 0.5276872964169381 and parameters: {'booster': 'gbtree', 'lambda': 1.5004707234058973e-08, 'alpha': 0.6464319610960878, 'subsample': 0.37156395613549265, 'colsample_bytree': 0.41416057569754794, 'max_depth': 7, 'min_child_weight': 2, 'eta': 2.6352904587379985e-05, 'gamma': 0.001503272270779288, 'grow_policy': 'depthwise'}. Best is trial 6 with value: 0.5276872964169381.\u001B[0m\n",
      "\u001B[32m[I 2022-06-08 20:45:47,050]\u001B[0m Trial 7 finished with value: 0.49348534201954397 and parameters: {'booster': 'gbtree', 'lambda': 0.00606573222713829, 'alpha': 1.1896702040345915e-07, 'subsample': 0.48121701108552195, 'colsample_bytree': 0.8053668335349471, 'max_depth': 5, 'min_child_weight': 8, 'eta': 2.1247862209105667e-06, 'gamma': 0.0032260223295065924, 'grow_policy': 'lossguide'}. Best is trial 6 with value: 0.5276872964169381.\u001B[0m\n",
      "\u001B[32m[I 2022-06-08 20:45:47,206]\u001B[0m Trial 8 finished with value: 0.6164495114006515 and parameters: {'booster': 'gbtree', 'lambda': 3.247401411922072e-08, 'alpha': 2.015022564853067e-06, 'subsample': 0.8998363249912931, 'colsample_bytree': 0.4082386101462927, 'max_depth': 9, 'min_child_weight': 2, 'eta': 0.5205421518665353, 'gamma': 2.2100039202303895e-08, 'grow_policy': 'lossguide'}. Best is trial 8 with value: 0.6164495114006515.\u001B[0m\n",
      "\u001B[32m[I 2022-06-08 20:45:47,269]\u001B[0m Trial 9 finished with value: 0.3477198697068404 and parameters: {'booster': 'gblinear', 'lambda': 0.000412131659071206, 'alpha': 0.0014504742942237365, 'subsample': 0.37644601909857944, 'colsample_bytree': 0.6397855155912209, 'max_depth': 3, 'min_child_weight': 9, 'eta': 1.1537430632234978e-08, 'gamma': 2.163035209137167e-05, 'grow_policy': 'depthwise'}. Best is trial 8 with value: 0.6164495114006515.\u001B[0m\n",
      "\u001B[32m[I 2022-06-08 20:45:47,441]\u001B[0m Trial 10 finished with value: 0.5260586319218241 and parameters: {'booster': 'dart', 'lambda': 1.5597016054538763e-08, 'alpha': 2.383752227118482e-08, 'subsample': 0.7366881745357976, 'colsample_bytree': 0.2348639041867341, 'sample_type': 'uniform', 'normalize_type': 'forest', 'rate_drop': 4.2176623965029034e-07, 'skip_drop': 7.969987381803943e-08}. Best is trial 8 with value: 0.6164495114006515.\u001B[0m\n",
      "\u001B[32m[I 2022-06-08 20:45:47,534]\u001B[0m Trial 11 finished with value: 0.497557003257329 and parameters: {'booster': 'gbtree', 'lambda': 1.1106656372010027e-08, 'alpha': 0.6570159288029722, 'subsample': 0.23941268114244346, 'colsample_bytree': 0.3863568363505388, 'max_depth': 9, 'min_child_weight': 2, 'eta': 0.0022927698055795584, 'gamma': 1.4122206611169387e-06, 'grow_policy': 'lossguide'}. Best is trial 8 with value: 0.6164495114006515.\u001B[0m\n",
      "\u001B[32m[I 2022-06-08 20:45:47,691]\u001B[0m Trial 12 finished with value: 0.6074918566775245 and parameters: {'booster': 'gbtree', 'lambda': 1.4294019799101445e-07, 'alpha': 0.006067822476026019, 'subsample': 0.6881886693071038, 'colsample_bytree': 0.4656877908022835, 'max_depth': 9, 'min_child_weight': 2, 'eta': 0.0024694665796471367, 'gamma': 0.003159574547879833, 'grow_policy': 'lossguide'}. Best is trial 8 with value: 0.6164495114006515.\u001B[0m\n",
      "\u001B[32m[I 2022-06-08 20:45:47,878]\u001B[0m Trial 13 finished with value: 0.5822475570032574 and parameters: {'booster': 'dart', 'lambda': 6.992860795906274e-07, 'alpha': 0.016659188591652902, 'subsample': 0.7642306032265765, 'colsample_bytree': 0.5558193959429489, 'sample_type': 'weighted', 'normalize_type': 'tree', 'rate_drop': 0.14552089965210585, 'skip_drop': 0.8475520814363487}. Best is trial 8 with value: 0.6164495114006515.\u001B[0m\n",
      "\u001B[32m[I 2022-06-08 20:45:48,024]\u001B[0m Trial 14 finished with value: 0.5830618892508144 and parameters: {'booster': 'gbtree', 'lambda': 8.712093898566485e-05, 'alpha': 0.015413468279613037, 'subsample': 0.7580513508496409, 'colsample_bytree': 0.451629625411363, 'max_depth': 9, 'min_child_weight': 2, 'eta': 0.00864205003731325, 'gamma': 0.0040363581117166284, 'grow_policy': 'lossguide'}. Best is trial 8 with value: 0.6164495114006515.\u001B[0m\n",
      "\u001B[32m[I 2022-06-08 20:45:48,180]\u001B[0m Trial 15 finished with value: 0.6156351791530945 and parameters: {'booster': 'gbtree', 'lambda': 1.7502247083750917e-07, 'alpha': 0.0001700233384585767, 'subsample': 0.6191490710800731, 'colsample_bytree': 0.6675977945335216, 'max_depth': 9, 'min_child_weight': 5, 'eta': 0.9184897991484293, 'gamma': 5.473025763189615e-06, 'grow_policy': 'lossguide'}. Best is trial 8 with value: 0.6164495114006515.\u001B[0m\n",
      "\u001B[32m[I 2022-06-08 20:45:48,337]\u001B[0m Trial 16 finished with value: 0.6237785016286646 and parameters: {'booster': 'gbtree', 'lambda': 1.4778437047277437e-05, 'alpha': 0.00010641902990141859, 'subsample': 0.8782765379290726, 'colsample_bytree': 0.6583177618337983, 'max_depth': 9, 'min_child_weight': 6, 'eta': 0.8715643780179798, 'gamma': 1.0320042869082256e-08, 'grow_policy': 'lossguide'}. Best is trial 16 with value: 0.6237785016286646.\u001B[0m\n",
      "\u001B[32m[I 2022-06-08 20:45:48,540]\u001B[0m Trial 17 finished with value: 0.5863192182410424 and parameters: {'booster': 'dart', 'lambda': 0.0022431673770432446, 'alpha': 9.287568859819152e-07, 'subsample': 0.8690524382657393, 'colsample_bytree': 0.6985703803033008, 'sample_type': 'weighted', 'normalize_type': 'forest', 'rate_drop': 1.1909133906558509e-08, 'skip_drop': 0.004720679144980087}. Best is trial 16 with value: 0.6237785016286646.\u001B[0m\n",
      "\u001B[32m[I 2022-06-08 20:45:48,649]\u001B[0m Trial 18 finished with value: 0.5374592833876222 and parameters: {'booster': 'gbtree', 'lambda': 9.772244238020495e-06, 'alpha': 2.856926410207004e-05, 'subsample': 0.953543872622262, 'colsample_bytree': 0.3308549085534409, 'max_depth': 9, 'min_child_weight': 7, 'eta': 0.05136557150990148, 'gamma': 1.1121201822920775e-08, 'grow_policy': 'lossguide'}. Best is trial 16 with value: 0.6237785016286646.\u001B[0m\n",
      "\u001B[32m[I 2022-06-08 20:45:48,774]\u001B[0m Trial 19 finished with value: 0.5195439739413681 and parameters: {'booster': 'gbtree', 'lambda': 0.017229482388869333, 'alpha': 1.1290179441573126e-06, 'subsample': 0.8419766114785433, 'colsample_bytree': 0.7520907221242115, 'max_depth': 5, 'min_child_weight': 6, 'eta': 0.03141271211986767, 'gamma': 2.2548466150337199e-07, 'grow_policy': 'lossguide'}. Best is trial 16 with value: 0.6237785016286646.\u001B[0m\n",
      "\u001B[32m[I 2022-06-08 20:45:48,930]\u001B[0m Trial 20 finished with value: 0.49267100977198697 and parameters: {'booster': 'dart', 'lambda': 0.00022445149766020948, 'alpha': 1.0185948125544776e-08, 'subsample': 0.8200507164094357, 'colsample_bytree': 0.5531804352769258, 'sample_type': 'uniform', 'normalize_type': 'tree', 'rate_drop': 0.4005141277434263, 'skip_drop': 1.4795708088661028e-08}. Best is trial 16 with value: 0.6237785016286646.\u001B[0m\n",
      "\u001B[32m[I 2022-06-08 20:45:49,102]\u001B[0m Trial 21 finished with value: 0.5952768729641694 and parameters: {'booster': 'gbtree', 'lambda': 1.3081195492370516e-07, 'alpha': 0.0002079102063606628, 'subsample': 0.6354821250705885, 'colsample_bytree': 0.6553825200889952, 'max_depth': 9, 'min_child_weight': 5, 'eta': 0.9265849272364022, 'gamma': 1.3834008175714623e-06, 'grow_policy': 'lossguide'}. Best is trial 16 with value: 0.6237785016286646.\u001B[0m\n",
      "\u001B[32m[I 2022-06-08 20:45:49,259]\u001B[0m Trial 22 finished with value: 0.6408794788273615 and parameters: {'booster': 'gbtree', 'lambda': 1.4488794484263665e-06, 'alpha': 0.00028332395522538396, 'subsample': 0.9313400584680422, 'colsample_bytree': 0.7285446524786752, 'max_depth': 9, 'min_child_weight': 5, 'eta': 0.9889369222397429, 'gamma': 9.808360997672521e-08, 'grow_policy': 'lossguide'}. Best is trial 22 with value: 0.6408794788273615.\u001B[0m\n",
      "\u001B[32m[I 2022-06-08 20:45:49,399]\u001B[0m Trial 23 finished with value: 0.5895765472312704 and parameters: {'booster': 'gbtree', 'lambda': 4.566076838145147e-06, 'alpha': 1.177725743606681e-05, 'subsample': 0.9303276011074986, 'colsample_bytree': 0.8694898975256784, 'max_depth': 7, 'min_child_weight': 3, 'eta': 0.1691040194184805, 'gamma': 1.0081931245785433e-07, 'grow_policy': 'lossguide'}. Best is trial 22 with value: 0.6408794788273615.\u001B[0m\n",
      "\u001B[32m[I 2022-06-08 20:45:49,571]\u001B[0m Trial 24 finished with value: 0.5757328990228013 and parameters: {'booster': 'gbtree', 'lambda': 2.7526515348738046e-05, 'alpha': 0.0007447371302179848, 'subsample': 0.993914543718005, 'colsample_bytree': 0.7455402782049456, 'max_depth': 9, 'min_child_weight': 6, 'eta': 0.025418711890629112, 'gamma': 2.561500682816017e-08, 'grow_policy': 'lossguide'}. Best is trial 22 with value: 0.6408794788273615.\u001B[0m\n",
      "\u001B[32m[I 2022-06-08 20:45:49,696]\u001B[0m Trial 25 finished with value: 0.5521172638436482 and parameters: {'booster': 'gbtree', 'lambda': 1.3855842482032792e-06, 'alpha': 0.00010504136119441234, 'subsample': 0.8177076420387983, 'colsample_bytree': 0.5855904266340686, 'max_depth': 7, 'min_child_weight': 7, 'eta': 0.0004457884636352291, 'gamma': 6.231632730872502e-08, 'grow_policy': 'lossguide'}. Best is trial 22 with value: 0.6408794788273615.\u001B[0m\n",
      "\u001B[32m[I 2022-06-08 20:45:49,852]\u001B[0m Trial 26 finished with value: 0.6164495114006515 and parameters: {'booster': 'gbtree', 'lambda': 5.14586522128809e-05, 'alpha': 1.1663936791957852e-07, 'subsample': 0.919724733586142, 'colsample_bytree': 0.7400876202679925, 'max_depth': 9, 'min_child_weight': 5, 'eta': 0.9237601727301712, 'gamma': 7.749271780985687e-07, 'grow_policy': 'lossguide'}. Best is trial 22 with value: 0.6408794788273615.\u001B[0m\n",
      "\u001B[32m[I 2022-06-08 20:45:50,040]\u001B[0m Trial 27 finished with value: 0.6237785016286646 and parameters: {'booster': 'gbtree', 'lambda': 5.205272559041972e-05, 'alpha': 1.9483530881314953e-07, 'subsample': 0.9356869613582864, 'colsample_bytree': 0.8199324655806742, 'max_depth': 9, 'min_child_weight': 5, 'eta': 0.16487232231631965, 'gamma': 7.534846907124701e-07, 'grow_policy': 'lossguide'}. Best is trial 22 with value: 0.6408794788273615.\u001B[0m\n",
      "\u001B[32m[I 2022-06-08 20:45:50,243]\u001B[0m Trial 28 finished with value: 0.6042345276872965 and parameters: {'booster': 'dart', 'lambda': 0.0008016747832692903, 'alpha': 0.07917050120890774, 'subsample': 0.698962269469383, 'colsample_bytree': 0.8395696918785173, 'sample_type': 'weighted', 'normalize_type': 'tree', 'rate_drop': 0.000146907192387496, 'skip_drop': 3.4448426678498976e-05}. Best is trial 22 with value: 0.6408794788273615.\u001B[0m\n",
      "\u001B[32m[I 2022-06-08 20:45:50,384]\u001B[0m Trial 29 finished with value: 0.5627035830618893 and parameters: {'booster': 'gbtree', 'lambda': 0.04626078192113012, 'alpha': 0.0025135503308046847, 'subsample': 0.7968598974745932, 'colsample_bytree': 0.8987320848255949, 'max_depth': 7, 'min_child_weight': 7, 'eta': 0.1143355673663876, 'gamma': 4.2022175114613964e-07, 'grow_policy': 'lossguide'}. Best is trial 22 with value: 0.6408794788273615.\u001B[0m\n",
      "\u001B[32m[I 2022-06-08 20:45:50,555]\u001B[0m Trial 30 finished with value: 0.5716612377850163 and parameters: {'booster': 'gbtree', 'lambda': 6.39596112250962e-06, 'alpha': 0.00047743156932962305, 'subsample': 0.9470754363753827, 'colsample_bytree': 0.8114150634664316, 'max_depth': 9, 'min_child_weight': 5, 'eta': 0.011744464694215865, 'gamma': 9.402981302892183e-06, 'grow_policy': 'lossguide'}. Best is trial 22 with value: 0.6408794788273615.\u001B[0m\n",
      "\u001B[32m[I 2022-06-08 20:45:50,712]\u001B[0m Trial 31 finished with value: 0.6050488599348535 and parameters: {'booster': 'gbtree', 'lambda': 0.00017774594695196244, 'alpha': 8.780044243949559e-08, 'subsample': 0.9041179116153404, 'colsample_bytree': 0.7264342473130769, 'max_depth': 9, 'min_child_weight': 5, 'eta': 0.29602876573321096, 'gamma': 8.934360406874192e-07, 'grow_policy': 'lossguide'}. Best is trial 22 with value: 0.6408794788273615.\u001B[0m\n",
      "\u001B[32m[I 2022-06-08 20:45:50,884]\u001B[0m Trial 32 finished with value: 0.6107491856677525 and parameters: {'booster': 'gbtree', 'lambda': 2.6872069609577853e-05, 'alpha': 1.2452186424072202e-07, 'subsample': 0.9673756305733209, 'colsample_bytree': 0.7669488239751364, 'max_depth': 9, 'min_child_weight': 6, 'eta': 0.7457778059829072, 'gamma': 5.9468624483504195e-08, 'grow_policy': 'lossguide'}. Best is trial 22 with value: 0.6408794788273615.\u001B[0m\n",
      "\u001B[32m[I 2022-06-08 20:45:51,055]\u001B[0m Trial 33 finished with value: 0.6026058631921825 and parameters: {'booster': 'gbtree', 'lambda': 6.29450014642624e-05, 'alpha': 2.0297936099573254e-07, 'subsample': 0.8689799009016531, 'colsample_bytree': 0.6304134715557937, 'max_depth': 9, 'min_child_weight': 4, 'eta': 0.1063437700606483, 'gamma': 4.6175296011757464e-07, 'grow_policy': 'lossguide'}. Best is trial 22 with value: 0.6408794788273615.\u001B[0m\n",
      "\u001B[32m[I 2022-06-08 20:45:51,149]\u001B[0m Trial 34 finished with value: 0.5171009771986971 and parameters: {'booster': 'gblinear', 'lambda': 1.314200644722146e-06, 'alpha': 4.2254730829683154e-05, 'subsample': 0.54927995571739, 'colsample_bytree': 0.699981308298919, 'max_depth': 9, 'min_child_weight': 5, 'eta': 0.22211495903092868, 'gamma': 2.7867227997496527e-06, 'grow_policy': 'lossguide'}. Best is trial 22 with value: 0.6408794788273615.\u001B[0m\n",
      "\u001B[32m[I 2022-06-08 20:45:51,227]\u001B[0m Trial 35 finished with value: 0.46824104234527686 and parameters: {'booster': 'gbtree', 'lambda': 4.996240211489601e-08, 'alpha': 2.0580409268759837e-06, 'subsample': 0.8583654170673968, 'colsample_bytree': 0.5026099621591416, 'max_depth': 3, 'min_child_weight': 3, 'eta': 0.013725084200595136, 'gamma': 2.959423771898104e-08, 'grow_policy': 'lossguide'}. Best is trial 22 with value: 0.6408794788273615.\u001B[0m\n",
      "\u001B[32m[I 2022-06-08 20:45:51,321]\u001B[0m Trial 36 finished with value: 0.31026058631921827 and parameters: {'booster': 'gblinear', 'lambda': 4.589920815746812e-05, 'alpha': 3.3050311845982447e-07, 'subsample': 0.9974188868286683, 'colsample_bytree': 0.9348502755154752, 'max_depth': 7, 'min_child_weight': 5, 'eta': 0.0001495349674051127, 'gamma': 2.3593478244318408e-07, 'grow_policy': 'lossguide'}. Best is trial 22 with value: 0.6408794788273615.\u001B[0m\n",
      "\u001B[32m[I 2022-06-08 20:45:51,477]\u001B[0m Trial 37 finished with value: 0.6376221498371335 and parameters: {'booster': 'gbtree', 'lambda': 1.2436291258271281e-05, 'alpha': 1.55309201988689e-05, 'subsample': 0.9237069825298835, 'colsample_bytree': 0.8568293183831598, 'max_depth': 9, 'min_child_weight': 4, 'eta': 0.9503482542844734, 'gamma': 4.3292785603529134e-05, 'grow_policy': 'depthwise'}. Best is trial 22 with value: 0.6408794788273615.\u001B[0m\n",
      "\u001B[32m[I 2022-06-08 20:45:51,634]\u001B[0m Trial 38 finished with value: 0.6099348534201955 and parameters: {'booster': 'gbtree', 'lambda': 2.562065254295648e-06, 'alpha': 1.941486219469091e-05, 'subsample': 0.7939574238018103, 'colsample_bytree': 0.7870151259795878, 'max_depth': 7, 'min_child_weight': 3, 'eta': 0.2408944789465409, 'gamma': 7.043310487863565e-05, 'grow_policy': 'depthwise'}. Best is trial 22 with value: 0.6408794788273615.\u001B[0m\n",
      "\u001B[32m[I 2022-06-08 20:45:51,712]\u001B[0m Trial 39 finished with value: 0.4763843648208469 and parameters: {'booster': 'gblinear', 'lambda': 1.2123208329158345e-05, 'alpha': 6.2119221408582104e-06, 'subsample': 0.7077105486602195, 'colsample_bytree': 0.854621375754634, 'max_depth': 9, 'min_child_weight': 4, 'eta': 0.052322771573269346, 'gamma': 4.0080578227483156e-05, 'grow_policy': 'depthwise'}. Best is trial 22 with value: 0.6408794788273615.\u001B[0m\n",
      "\u001B[32m[I 2022-06-08 20:45:51,868]\u001B[0m Trial 40 finished with value: 0.50814332247557 and parameters: {'booster': 'gbtree', 'lambda': 5.994013570043236e-07, 'alpha': 0.0004962339435097642, 'subsample': 0.9018324038160024, 'colsample_bytree': 0.9817030523096358, 'max_depth': 7, 'min_child_weight': 4, 'eta': 5.82712358613441e-08, 'gamma': 0.0005550708357938608, 'grow_policy': 'depthwise'}. Best is trial 22 with value: 0.6408794788273615.\u001B[0m\n",
      "\u001B[32m[I 2022-06-08 20:45:52,040]\u001B[0m Trial 41 finished with value: 0.6172638436482085 and parameters: {'booster': 'gbtree', 'lambda': 1.6923308072604567e-05, 'alpha': 4.2740933928439365e-08, 'subsample': 0.9258067926499147, 'colsample_bytree': 0.8229495854803751, 'max_depth': 9, 'min_child_weight': 4, 'eta': 0.8889948462924235, 'gamma': 0.00032696482046071045, 'grow_policy': 'depthwise'}. Best is trial 22 with value: 0.6408794788273615.\u001B[0m\n",
      "\u001B[32m[I 2022-06-08 20:45:52,243]\u001B[0m Trial 42 finished with value: 0.6009771986970684 and parameters: {'booster': 'gbtree', 'lambda': 1.6000696228478965e-05, 'alpha': 3.644921201263973e-08, 'subsample': 0.9521625760218784, 'colsample_bytree': 0.9046396452015244, 'max_depth': 9, 'min_child_weight': 4, 'eta': 0.3335815002568607, 'gamma': 0.000401968857626432, 'grow_policy': 'depthwise'}. Best is trial 22 with value: 0.6408794788273615.\u001B[0m\n",
      "\u001B[32m[I 2022-06-08 20:45:52,430]\u001B[0m Trial 43 finished with value: 0.6254071661237784 and parameters: {'booster': 'gbtree', 'lambda': 3.2920274767342257e-06, 'alpha': 6.784086807532882e-05, 'subsample': 0.8780008095573715, 'colsample_bytree': 0.806996239845048, 'max_depth': 9, 'min_child_weight': 3, 'eta': 0.36659590775728534, 'gamma': 1.3176683685059889e-05, 'grow_policy': 'depthwise'}. Best is trial 22 with value: 0.6408794788273615.\u001B[0m\n",
      "\u001B[32m[I 2022-06-08 20:45:52,602]\u001B[0m Trial 44 finished with value: 0.5855048859934854 and parameters: {'booster': 'gbtree', 'lambda': 2.723076468687718e-06, 'alpha': 7.421653610834077e-05, 'subsample': 0.841442623619172, 'colsample_bytree': 0.7000096496735511, 'max_depth': 9, 'min_child_weight': 3, 'eta': 0.09813054418505393, 'gamma': 1.956476595776467e-05, 'grow_policy': 'depthwise'}. Best is trial 22 with value: 0.6408794788273615.\u001B[0m\n",
      "\u001B[32m[I 2022-06-08 20:45:52,805]\u001B[0m Trial 45 finished with value: 0.5944625407166124 and parameters: {'booster': 'gbtree', 'lambda': 5.9259384487252635e-06, 'alpha': 3.8025081281367745e-06, 'subsample': 0.8892067899624884, 'colsample_bytree': 0.8790980297367398, 'max_depth': 9, 'min_child_weight': 6, 'eta': 0.29544971259594793, 'gamma': 6.088461917566358e-06, 'grow_policy': 'depthwise'}. Best is trial 22 with value: 0.6408794788273615.\u001B[0m\n",
      "\u001B[32m[I 2022-06-08 20:45:52,915]\u001B[0m Trial 46 finished with value: 0.5252442996742671 and parameters: {'booster': 'gbtree', 'lambda': 2.987345739648441e-07, 'alpha': 1.588864885325484e-05, 'subsample': 0.9827073950295823, 'colsample_bytree': 0.9521052124897953, 'max_depth': 5, 'min_child_weight': 3, 'eta': 0.07282743460022695, 'gamma': 8.937635930436505e-05, 'grow_policy': 'depthwise'}. Best is trial 22 with value: 0.6408794788273615.\u001B[0m\n",
      "\u001B[32m[I 2022-06-08 20:45:53,009]\u001B[0m Trial 47 finished with value: 0.510586319218241 and parameters: {'booster': 'gblinear', 'lambda': 1.5070986118056805e-06, 'alpha': 0.000228842078068091, 'subsample': 0.7816381055071553, 'colsample_bytree': 0.6131311342235418, 'max_depth': 7, 'min_child_weight': 4, 'eta': 0.30928222813277384, 'gamma': 2.6619530480784416e-06, 'grow_policy': 'depthwise'}. Best is trial 22 with value: 0.6408794788273615.\u001B[0m\n",
      "\u001B[32m[I 2022-06-08 20:45:53,149]\u001B[0m Trial 48 finished with value: 0.494299674267101 and parameters: {'booster': 'gbtree', 'lambda': 0.0001575293445923041, 'alpha': 0.0015582771127050788, 'subsample': 0.2606446406753492, 'colsample_bytree': 0.7867990048441088, 'max_depth': 9, 'min_child_weight': 6, 'eta': 0.005484198311621799, 'gamma': 0.02243702652952925, 'grow_policy': 'depthwise'}. Best is trial 22 with value: 0.6408794788273615.\u001B[0m\n",
      "\u001B[32m[I 2022-06-08 20:45:53,384]\u001B[0m Trial 49 finished with value: 0.5724755700325733 and parameters: {'booster': 'dart', 'lambda': 0.0018214444467553395, 'alpha': 7.08324462770829e-05, 'subsample': 0.42868680590822045, 'colsample_bytree': 0.8300916049387409, 'sample_type': 'uniform', 'normalize_type': 'forest', 'rate_drop': 0.0002453270736274292, 'skip_drop': 1.3949964058862197e-05}. Best is trial 22 with value: 0.6408794788273615.\u001B[0m\n",
      "\u001B[32m[I 2022-06-08 20:45:53,540]\u001B[0m Trial 50 finished with value: 0.5268729641693811 and parameters: {'booster': 'gbtree', 'lambda': 0.0004364299878341128, 'alpha': 4.694052433678683e-07, 'subsample': 0.6592225976062558, 'colsample_bytree': 0.6831175377097921, 'max_depth': 9, 'min_child_weight': 7, 'eta': 5.609582470727728e-06, 'gamma': 2.1763496847118516e-05, 'grow_policy': 'depthwise'}. Best is trial 22 with value: 0.6408794788273615.\u001B[0m\n",
      "\u001B[32m[I 2022-06-08 20:45:53,712]\u001B[0m Trial 51 finished with value: 0.6213355048859935 and parameters: {'booster': 'gbtree', 'lambda': 2.507008220847152e-05, 'alpha': 3.940787500552843e-08, 'subsample': 0.9229389592381331, 'colsample_bytree': 0.8120394395441906, 'max_depth': 9, 'min_child_weight': 4, 'eta': 0.5863958451516587, 'gamma': 0.00016155700460542677, 'grow_policy': 'depthwise'}. Best is trial 22 with value: 0.6408794788273615.\u001B[0m\n",
      "\u001B[32m[I 2022-06-08 20:45:53,884]\u001B[0m Trial 52 finished with value: 0.6172638436482085 and parameters: {'booster': 'gbtree', 'lambda': 7.664611670873767e-06, 'alpha': 1.223669909420215e-08, 'subsample': 0.8864036549147728, 'colsample_bytree': 0.7844260423886582, 'max_depth': 9, 'min_child_weight': 4, 'eta': 0.46221250487915083, 'gamma': 4.344416463585185e-08, 'grow_policy': 'depthwise'}. Best is trial 22 with value: 0.6408794788273615.\u001B[0m\n",
      "\u001B[32m[I 2022-06-08 20:45:54,087]\u001B[0m Trial 53 finished with value: 0.5789902280130294 and parameters: {'booster': 'gbtree', 'lambda': 2.9778163505362033e-05, 'alpha': 3.5598900588215825e-05, 'subsample': 0.8257023620768043, 'colsample_bytree': 0.7217639830720609, 'max_depth': 9, 'min_child_weight': 3, 'eta': 0.03205857818774426, 'gamma': 0.0001872917146406445, 'grow_policy': 'depthwise'}. Best is trial 22 with value: 0.6408794788273615.\u001B[0m\n",
      "\u001B[32m[I 2022-06-08 20:45:54,259]\u001B[0m Trial 54 finished with value: 0.5342019543973942 and parameters: {'booster': 'gbtree', 'lambda': 0.7844510501853337, 'alpha': 0.00018329432998631334, 'subsample': 0.9511072543711605, 'colsample_bytree': 0.8755452438210921, 'max_depth': 9, 'min_child_weight': 10, 'eta': 2.9281995631048294e-07, 'gamma': 1.0611236104378584e-08, 'grow_policy': 'depthwise'}. Best is trial 22 with value: 0.6408794788273615.\u001B[0m\n",
      "\u001B[32m[I 2022-06-08 20:45:54,430]\u001B[0m Trial 55 finished with value: 0.6115635179153095 and parameters: {'booster': 'gbtree', 'lambda': 9.595524098085262e-05, 'alpha': 2.9227334431247915e-06, 'subsample': 0.745702994493662, 'colsample_bytree': 0.766395586002555, 'max_depth': 9, 'min_child_weight': 5, 'eta': 0.5084253128942535, 'gamma': 0.0010130983648960284, 'grow_policy': 'depthwise'}. Best is trial 22 with value: 0.6408794788273615.\u001B[0m\n",
      "\u001B[32m[I 2022-06-08 20:45:54,634]\u001B[0m Trial 56 finished with value: 0.5871335504885994 and parameters: {'booster': 'gbtree', 'lambda': 3.4200713564144748e-06, 'alpha': 0.006032217459529142, 'subsample': 0.8645440438155203, 'colsample_bytree': 0.8446254078392333, 'max_depth': 9, 'min_child_weight': 4, 'eta': 0.16649320555773084, 'gamma': 1.3271458542035716e-07, 'grow_policy': 'depthwise'}. Best is trial 22 with value: 0.6408794788273615.\u001B[0m\n",
      "\u001B[32m[I 2022-06-08 20:45:54,868]\u001B[0m Trial 57 finished with value: 0.5969055374592834 and parameters: {'booster': 'dart', 'lambda': 4.076078991883462e-07, 'alpha': 8.422139388396504e-06, 'subsample': 0.9221121125444355, 'colsample_bytree': 0.9317449906263837, 'sample_type': 'weighted', 'normalize_type': 'forest', 'rate_drop': 0.0040027260872890595, 'skip_drop': 0.946027281488694}. Best is trial 22 with value: 0.6408794788273615.\u001B[0m\n",
      "\u001B[32m[I 2022-06-08 20:45:55,071]\u001B[0m Trial 58 finished with value: 0.5309446254071661 and parameters: {'booster': 'gbtree', 'lambda': 1.8719479284073712e-06, 'alpha': 1.0345641939700112e-06, 'subsample': 0.5547716854144094, 'colsample_bytree': 0.9976836126184804, 'max_depth': 9, 'min_child_weight': 5, 'eta': 0.0008593642720861395, 'gamma': 0.00015458823579933139, 'grow_policy': 'depthwise'}. Best is trial 22 with value: 0.6408794788273615.\u001B[0m\n",
      "\u001B[32m[I 2022-06-08 20:45:55,212]\u001B[0m Trial 59 finished with value: 0.6107491856677525 and parameters: {'booster': 'gbtree', 'lambda': 1.0859233578837764e-05, 'alpha': 0.0008587614053156831, 'subsample': 0.9713392390650514, 'colsample_bytree': 0.6544992123428203, 'max_depth': 7, 'min_child_weight': 6, 'eta': 0.46516149720184513, 'gamma': 3.703602042155393e-05, 'grow_policy': 'lossguide'}. Best is trial 22 with value: 0.6408794788273615.\u001B[0m\n",
      "\u001B[32m[I 2022-06-08 20:45:55,384]\u001B[0m Trial 60 finished with value: 0.5659609120521173 and parameters: {'booster': 'gbtree', 'lambda': 1.070636807782549e-06, 'alpha': 0.00035927939423401056, 'subsample': 0.9320808752949873, 'colsample_bytree': 0.5876497991423829, 'max_depth': 9, 'min_child_weight': 8, 'eta': 0.052749483777722934, 'gamma': 2.7728827878471796e-06, 'grow_policy': 'lossguide'}. Best is trial 22 with value: 0.6408794788273615.\u001B[0m\n",
      "\u001B[32m[I 2022-06-08 20:45:55,587]\u001B[0m Trial 61 finished with value: 0.6254071661237784 and parameters: {'booster': 'gbtree', 'lambda': 7.743143079873235e-06, 'alpha': 1.9263084779641023e-08, 'subsample': 0.8851737026003089, 'colsample_bytree': 0.7984855850809569, 'max_depth': 9, 'min_child_weight': 4, 'eta': 0.510050074298763, 'gamma': 5.0149149256352006e-08, 'grow_policy': 'depthwise'}. Best is trial 22 with value: 0.6408794788273615.\u001B[0m\n",
      "\u001B[32m[I 2022-06-08 20:45:55,774]\u001B[0m Trial 62 finished with value: 0.6311074918566775 and parameters: {'booster': 'gbtree', 'lambda': 4.500576701777436e-06, 'alpha': 2.2164013986624275e-08, 'subsample': 0.8445789745466579, 'colsample_bytree': 0.8100333480156171, 'max_depth': 9, 'min_child_weight': 3, 'eta': 0.922906582014799, 'gamma': 0.7761851016214589, 'grow_policy': 'depthwise'}. Best is trial 22 with value: 0.6408794788273615.\u001B[0m\n",
      "\u001B[32m[I 2022-06-08 20:45:55,899]\u001B[0m Trial 63 finished with value: 0.5374592833876222 and parameters: {'booster': 'gbtree', 'lambda': 4.808979787247599e-06, 'alpha': 1.4922292240473997e-08, 'subsample': 0.8519679231251112, 'colsample_bytree': 0.20149858239994978, 'max_depth': 9, 'min_child_weight': 2, 'eta': 0.9810890873339603, 'gamma': 1.5931677020920033e-08, 'grow_policy': 'depthwise'}. Best is trial 22 with value: 0.6408794788273615.\u001B[0m\n",
      "\u001B[32m[I 2022-06-08 20:45:56,102]\u001B[0m Trial 64 finished with value: 0.6091205211726385 and parameters: {'booster': 'gbtree', 'lambda': 7.963920209370157e-07, 'alpha': 2.0493456611166273e-08, 'subsample': 0.8873494734443123, 'colsample_bytree': 0.764154646446368, 'max_depth': 9, 'min_child_weight': 3, 'eta': 0.14888011808764057, 'gamma': 0.5556216410292507, 'grow_policy': 'depthwise'}. Best is trial 22 with value: 0.6408794788273615.\u001B[0m\n",
      "\u001B[32m[I 2022-06-08 20:45:56,274]\u001B[0m Trial 65 finished with value: 0.6099348534201955 and parameters: {'booster': 'gbtree', 'lambda': 4.610498628216431e-05, 'alpha': 5.17739920845223e-08, 'subsample': 0.8261057530543513, 'colsample_bytree': 0.7352516114013526, 'max_depth': 9, 'min_child_weight': 3, 'eta': 0.13774276520839862, 'gamma': 7.006995244037444e-08, 'grow_policy': 'depthwise'}. Best is trial 22 with value: 0.6408794788273615.\u001B[0m\n",
      "\u001B[32m[I 2022-06-08 20:45:56,399]\u001B[0m Trial 66 finished with value: 0.500814332247557 and parameters: {'booster': 'gbtree', 'lambda': 2.741285083374831e-07, 'alpha': 2.735948359696838e-07, 'subsample': 0.7774102481737155, 'colsample_bytree': 0.8017174678012958, 'max_depth': 5, 'min_child_weight': 5, 'eta': 0.02389713657239069, 'gamma': 0.03378716951587074, 'grow_policy': 'lossguide'}. Best is trial 22 with value: 0.6408794788273615.\u001B[0m\n",
      "\u001B[32m[I 2022-06-08 20:45:56,618]\u001B[0m Trial 67 finished with value: 0.5977198697068404 and parameters: {'booster': 'dart', 'lambda': 8.831863403302552e-06, 'alpha': 0.00012743796890488633, 'subsample': 0.881825916921034, 'colsample_bytree': 0.860662806624084, 'sample_type': 'uniform', 'normalize_type': 'tree', 'rate_drop': 1.366815146272529e-06, 'skip_drop': 0.002658936612698363}. Best is trial 22 with value: 0.6408794788273615.\u001B[0m\n",
      "\u001B[32m[I 2022-06-08 20:45:56,712]\u001B[0m Trial 68 finished with value: 0.5228013029315961 and parameters: {'booster': 'gblinear', 'lambda': 8.266548819154899e-08, 'alpha': 8.226010134109833e-08, 'subsample': 0.7256060454726273, 'colsample_bytree': 0.8918012461442981, 'max_depth': 9, 'min_child_weight': 2, 'eta': 0.4668759852321997, 'gamma': 0.16660161835870974, 'grow_policy': 'lossguide'}. Best is trial 22 with value: 0.6408794788273615.\u001B[0m\n",
      "\u001B[32m[I 2022-06-08 20:45:56,805]\u001B[0m Trial 69 finished with value: 0.504071661237785 and parameters: {'booster': 'gbtree', 'lambda': 3.5389461072252445e-06, 'alpha': 6.21680525046737e-05, 'subsample': 0.8167602088391618, 'colsample_bytree': 0.7139607723863878, 'max_depth': 3, 'min_child_weight': 3, 'eta': 0.236849249612408, 'gamma': 1.5668408615438104e-07, 'grow_policy': 'depthwise'}. Best is trial 22 with value: 0.6408794788273615.\u001B[0m\n",
      "\u001B[32m[I 2022-06-08 20:45:56,993]\u001B[0m Trial 70 finished with value: 0.5846905537459284 and parameters: {'booster': 'gbtree', 'lambda': 0.0002981447987133085, 'alpha': 0.0026939864634877657, 'subsample': 0.9659524365174899, 'colsample_bytree': 0.9233293645105916, 'max_depth': 9, 'min_child_weight': 5, 'eta': 0.07138513175835337, 'gamma': 4.3241273949630527e-07, 'grow_policy': 'lossguide'}. Best is trial 22 with value: 0.6408794788273615.\u001B[0m\n",
      "\u001B[32m[I 2022-06-08 20:45:57,165]\u001B[0m Trial 71 finished with value: 0.6392508143322475 and parameters: {'booster': 'gbtree', 'lambda': 2.2756593785644494e-05, 'alpha': 2.8877546341048485e-08, 'subsample': 0.9143755333227248, 'colsample_bytree': 0.8171144567141753, 'max_depth': 9, 'min_child_weight': 4, 'eta': 0.5924073797248279, 'gamma': 0.007617496758104284, 'grow_policy': 'depthwise'}. Best is trial 22 with value: 0.6408794788273615.\u001B[0m\n",
      "\u001B[32m[I 2022-06-08 20:45:57,337]\u001B[0m Trial 72 finished with value: 0.6359934853420195 and parameters: {'booster': 'gbtree', 'lambda': 0.00012347144002561517, 'alpha': 2.6040442068722164e-08, 'subsample': 0.9137021607981474, 'colsample_bytree': 0.8368791048268577, 'max_depth': 9, 'min_child_weight': 4, 'eta': 0.9167406931199621, 'gamma': 0.28793262329822655, 'grow_policy': 'depthwise'}. Best is trial 22 with value: 0.6408794788273615.\u001B[0m\n",
      "\u001B[32m[I 2022-06-08 20:45:57,524]\u001B[0m Trial 73 finished with value: 0.6376221498371335 and parameters: {'booster': 'gbtree', 'lambda': 0.00013905970345084176, 'alpha': 2.882551140798961e-08, 'subsample': 0.9079217853813545, 'colsample_bytree': 0.8313153419724068, 'max_depth': 9, 'min_child_weight': 4, 'eta': 0.4924993164441186, 'gamma': 0.16134795475286715, 'grow_policy': 'depthwise'}. Best is trial 22 with value: 0.6408794788273615.\u001B[0m\n",
      "\u001B[32m[I 2022-06-08 20:45:57,696]\u001B[0m Trial 74 finished with value: 0.6042345276872965 and parameters: {'booster': 'gbtree', 'lambda': 0.000632841706866141, 'alpha': 1.784104800844308e-08, 'subsample': 0.9072027870132758, 'colsample_bytree': 0.8336759010893309, 'max_depth': 9, 'min_child_weight': 4, 'eta': 0.5152999679807095, 'gamma': 0.20770481711174654, 'grow_policy': 'depthwise'}. Best is trial 22 with value: 0.6408794788273615.\u001B[0m\n",
      "\u001B[32m[I 2022-06-08 20:45:57,868]\u001B[0m Trial 75 finished with value: 0.6270358306188925 and parameters: {'booster': 'gbtree', 'lambda': 0.00010285116518358729, 'alpha': 2.597844290376995e-08, 'subsample': 0.9069724641844953, 'colsample_bytree': 0.7985369013295, 'max_depth': 9, 'min_child_weight': 3, 'eta': 0.9051775586304726, 'gamma': 0.0955827613268944, 'grow_policy': 'depthwise'}. Best is trial 22 with value: 0.6408794788273615.\u001B[0m\n",
      "\u001B[32m[I 2022-06-08 20:45:58,024]\u001B[0m Trial 76 finished with value: 0.6221498371335505 and parameters: {'booster': 'gbtree', 'lambda': 0.0001330710953541012, 'alpha': 2.7546213683826115e-08, 'subsample': 0.8456206905324634, 'colsample_bytree': 0.8549843655789079, 'max_depth': 9, 'min_child_weight': 4, 'eta': 0.9334874297596696, 'gamma': 0.012368963547815515, 'grow_policy': 'depthwise'}. Best is trial 22 with value: 0.6408794788273615.\u001B[0m\n",
      "\u001B[32m[I 2022-06-08 20:45:58,196]\u001B[0m Trial 77 finished with value: 0.6237785016286646 and parameters: {'booster': 'gbtree', 'lambda': 0.0015608954677858754, 'alpha': 8.395911179832488e-08, 'subsample': 0.948684777617254, 'colsample_bytree': 0.7866461658122039, 'max_depth': 9, 'min_child_weight': 4, 'eta': 0.5800664440470208, 'gamma': 0.08859309176977023, 'grow_policy': 'depthwise'}. Best is trial 22 with value: 0.6408794788273615.\u001B[0m\n",
      "\u001B[32m[I 2022-06-08 20:45:58,368]\u001B[0m Trial 78 finished with value: 0.6107491856677525 and parameters: {'booster': 'gbtree', 'lambda': 9.606452543976167e-05, 'alpha': 1.0798285246773533e-08, 'subsample': 0.9980834471949376, 'colsample_bytree': 0.7538315546630474, 'max_depth': 9, 'min_child_weight': 3, 'eta': 0.22662025850384251, 'gamma': 0.8111386138130915, 'grow_policy': 'depthwise'}. Best is trial 22 with value: 0.6408794788273615.\u001B[0m\n",
      "\u001B[32m[I 2022-06-08 20:45:58,571]\u001B[0m Trial 79 finished with value: 0.6262214983713354 and parameters: {'booster': 'gbtree', 'lambda': 0.0002864438056775928, 'alpha': 5.205525245561572e-08, 'subsample': 0.9084259187413795, 'colsample_bytree': 0.8879986664556843, 'max_depth': 9, 'min_child_weight': 2, 'eta': 0.12294384675034135, 'gamma': 0.21169808218386577, 'grow_policy': 'depthwise'}. Best is trial 22 with value: 0.6408794788273615.\u001B[0m\n",
      "\u001B[32m[I 2022-06-08 20:45:58,727]\u001B[0m Trial 80 finished with value: 0.5643322475570033 and parameters: {'booster': 'gbtree', 'lambda': 0.000799631143153394, 'alpha': 6.051562889988244e-08, 'subsample': 0.909901898910707, 'colsample_bytree': 0.8979391354984589, 'max_depth': 7, 'min_child_weight': 2, 'eta': 0.1003514373860902, 'gamma': 0.3150246465714944, 'grow_policy': 'depthwise'}. Best is trial 22 with value: 0.6408794788273615.\u001B[0m\n",
      "\u001B[32m[I 2022-06-08 20:45:58,899]\u001B[0m Trial 81 finished with value: 0.6384364820846905 and parameters: {'booster': 'gbtree', 'lambda': 0.00027648377176503356, 'alpha': 2.4339803176594235e-08, 'subsample': 0.9029645138167133, 'colsample_bytree': 0.8754165517340404, 'max_depth': 9, 'min_child_weight': 2, 'eta': 0.930601357143894, 'gamma': 0.0866040362215796, 'grow_policy': 'depthwise'}. Best is trial 22 with value: 0.6408794788273615.\u001B[0m\n",
      "\u001B[32m[I 2022-06-08 20:45:59,087]\u001B[0m Trial 82 finished with value: 0.6449511400651465 and parameters: {'booster': 'gbtree', 'lambda': 0.00021527446317383612, 'alpha': 1.4386415310368946e-07, 'subsample': 0.9711069909022437, 'colsample_bytree': 0.9177989095052554, 'max_depth': 9, 'min_child_weight': 2, 'eta': 0.821817125624553, 'gamma': 0.09900327935193624, 'grow_policy': 'depthwise'}. Best is trial 82 with value: 0.6449511400651465.\u001B[0m\n",
      "\u001B[32m[I 2022-06-08 20:45:59,274]\u001B[0m Trial 83 finished with value: 0.6286644951140065 and parameters: {'booster': 'gbtree', 'lambda': 0.005155454132794279, 'alpha': 2.1463202256520963e-08, 'subsample': 0.9598164871184575, 'colsample_bytree': 0.9558389290262043, 'max_depth': 9, 'min_child_weight': 2, 'eta': 0.8708317150462492, 'gamma': 0.08240110624864604, 'grow_policy': 'depthwise'}. Best is trial 82 with value: 0.6449511400651465.\u001B[0m\n",
      "\u001B[32m[I 2022-06-08 20:45:59,462]\u001B[0m Trial 84 finished with value: 0.6302931596091205 and parameters: {'booster': 'gbtree', 'lambda': 0.016337782951285854, 'alpha': 1.473236564209586e-07, 'subsample': 0.9744279642704403, 'colsample_bytree': 0.9525262489465802, 'max_depth': 9, 'min_child_weight': 2, 'eta': 0.2957564105914148, 'gamma': 0.006374720969509409, 'grow_policy': 'depthwise'}. Best is trial 82 with value: 0.6449511400651465.\u001B[0m\n",
      "\u001B[32m[I 2022-06-08 20:45:59,555]\u001B[0m Trial 85 finished with value: 0.44462540716612375 and parameters: {'booster': 'gblinear', 'lambda': 0.09395564168484792, 'alpha': 7.270301362019744e-07, 'subsample': 0.9806937411378068, 'colsample_bytree': 0.9151950141310978, 'max_depth': 9, 'min_child_weight': 2, 'eta': 0.2978903996423871, 'gamma': 0.005871242887731535, 'grow_policy': 'depthwise'}. Best is trial 82 with value: 0.6449511400651465.\u001B[0m\n",
      "\u001B[32m[I 2022-06-08 20:45:59,759]\u001B[0m Trial 86 finished with value: 0.6123778501628665 and parameters: {'booster': 'gbtree', 'lambda': 0.01895509818590862, 'alpha': 1.747831989631754e-07, 'subsample': 0.9396965917551539, 'colsample_bytree': 0.9496098182354312, 'max_depth': 9, 'min_child_weight': 2, 'eta': 0.19331661129638805, 'gamma': 0.9954693768327403, 'grow_policy': 'depthwise'}. Best is trial 82 with value: 0.6449511400651465.\u001B[0m\n",
      "\u001B[32m[I 2022-06-08 20:45:59,977]\u001B[0m Trial 87 finished with value: 0.6188925081433225 and parameters: {'booster': 'gbtree', 'lambda': 3.029798692544685e-05, 'alpha': 1.630999065541691e-07, 'subsample': 0.9789262569886521, 'colsample_bytree': 0.9766229982301827, 'max_depth': 9, 'min_child_weight': 2, 'eta': 0.34307144072391416, 'gamma': 0.011769956323465907, 'grow_policy': 'depthwise'}. Best is trial 82 with value: 0.6449511400651465.\u001B[0m\n",
      "\u001B[32m[I 2022-06-08 20:46:00,180]\u001B[0m Trial 88 finished with value: 0.5838762214983714 and parameters: {'booster': 'dart', 'lambda': 0.0002256247284683115, 'alpha': 3.098098335651605e-07, 'subsample': 0.9411976929081893, 'colsample_bytree': 0.8700565302306259, 'sample_type': 'uniform', 'normalize_type': 'tree', 'rate_drop': 2.201710312289651e-06, 'skip_drop': 7.001586252530392e-07}. Best is trial 82 with value: 0.6449511400651465.\u001B[0m\n",
      "\u001B[32m[I 2022-06-08 20:46:00,352]\u001B[0m Trial 89 finished with value: 0.6286644951140065 and parameters: {'booster': 'gbtree', 'lambda': 0.0011608123119315442, 'alpha': 4.860669744082566e-07, 'subsample': 0.985228248640332, 'colsample_bytree': 0.8410151812055777, 'max_depth': 9, 'min_child_weight': 3, 'eta': 0.5965680284222583, 'gamma': 0.05033833285756946, 'grow_policy': 'depthwise'}. Best is trial 82 with value: 0.6449511400651465.\u001B[0m\n",
      "\u001B[32m[I 2022-06-08 20:46:00,555]\u001B[0m Trial 90 finished with value: 0.6156351791530945 and parameters: {'booster': 'gbtree', 'lambda': 0.0005332825817904815, 'alpha': 3.482317572734447e-08, 'subsample': 0.8675471020228642, 'colsample_bytree': 0.9143292001635055, 'max_depth': 9, 'min_child_weight': 2, 'eta': 0.3166889829256613, 'gamma': 0.3990630554902674, 'grow_policy': 'depthwise'}. Best is trial 82 with value: 0.6449511400651465.\u001B[0m\n",
      "\u001B[32m[I 2022-06-08 20:46:00,727]\u001B[0m Trial 91 finished with value: 0.6425081433224755 and parameters: {'booster': 'gbtree', 'lambda': 0.006939914833081571, 'alpha': 1.1443872502963409e-07, 'subsample': 0.9628114757970452, 'colsample_bytree': 0.9398867760248826, 'max_depth': 9, 'min_child_weight': 2, 'eta': 0.6827796712110927, 'gamma': 0.10618405160451544, 'grow_policy': 'depthwise'}. Best is trial 82 with value: 0.6449511400651465.\u001B[0m\n",
      "\u001B[32m[I 2022-06-08 20:46:00,899]\u001B[0m Trial 92 finished with value: 0.6294788273615635 and parameters: {'booster': 'gbtree', 'lambda': 0.0034445265661996543, 'alpha': 1.0968663744924657e-07, 'subsample': 0.9608651857119704, 'colsample_bytree': 0.9459409209368218, 'max_depth': 9, 'min_child_weight': 2, 'eta': 0.6392080747071399, 'gamma': 0.13170558941043936, 'grow_policy': 'depthwise'}. Best is trial 82 with value: 0.6449511400651465.\u001B[0m\n",
      "\u001B[32m[I 2022-06-08 20:46:01,102]\u001B[0m Trial 93 finished with value: 0.5960912052117264 and parameters: {'booster': 'gbtree', 'lambda': 0.010169978794396281, 'alpha': 7.448652371239923e-08, 'subsample': 0.9258953260447382, 'colsample_bytree': 0.8787930743724727, 'max_depth': 9, 'min_child_weight': 2, 'eta': 8.76417052021119e-05, 'gamma': 0.055771390370953515, 'grow_policy': 'depthwise'}. Best is trial 82 with value: 0.6449511400651465.\u001B[0m\n",
      "\u001B[32m[I 2022-06-08 20:46:01,274]\u001B[0m Trial 94 finished with value: 0.6384364820846905 and parameters: {'booster': 'gbtree', 'lambda': 0.02873882833871205, 'alpha': 3.0675527091183356e-08, 'subsample': 0.9378813618845764, 'colsample_bytree': 0.9079186502400679, 'max_depth': 9, 'min_child_weight': 3, 'eta': 0.9951543277043853, 'gamma': 0.002317250037250796, 'grow_policy': 'depthwise'}. Best is trial 82 with value: 0.6449511400651465.\u001B[0m\n",
      "\u001B[32m[I 2022-06-08 20:46:01,446]\u001B[0m Trial 95 finished with value: 0.6286644951140065 and parameters: {'booster': 'gbtree', 'lambda': 0.34658212332030086, 'alpha': 3.502720567920946e-08, 'subsample': 0.9429627665123614, 'colsample_bytree': 0.8573484485343895, 'max_depth': 9, 'min_child_weight': 3, 'eta': 0.7106354832388605, 'gamma': 0.021461997685661205, 'grow_policy': 'depthwise'}. Best is trial 82 with value: 0.6449511400651465.\u001B[0m\n",
      "\u001B[32m[I 2022-06-08 20:46:01,618]\u001B[0m Trial 96 finished with value: 0.6229641693811075 and parameters: {'booster': 'gbtree', 'lambda': 0.07782717787060695, 'alpha': 5.650059519078237e-08, 'subsample': 0.8958108888265017, 'colsample_bytree': 0.8242635235719131, 'max_depth': 9, 'min_child_weight': 4, 'eta': 0.9877912577121551, 'gamma': 0.3265230552660479, 'grow_policy': 'depthwise'}. Best is trial 82 with value: 0.6449511400651465.\u001B[0m\n",
      "\u001B[32m[I 2022-06-08 20:46:01,805]\u001B[0m Trial 97 finished with value: 0.6237785016286646 and parameters: {'booster': 'gbtree', 'lambda': 0.03519487999683395, 'alpha': 1.0074381254358939e-08, 'subsample': 0.9187744998872337, 'colsample_bytree': 0.9049002585899767, 'max_depth': 9, 'min_child_weight': 3, 'eta': 0.2013479410575894, 'gamma': 0.5952855473879636, 'grow_policy': 'depthwise'}. Best is trial 82 with value: 0.6449511400651465.\u001B[0m\n",
      "\u001B[32m[I 2022-06-08 20:46:01,992]\u001B[0m Trial 98 finished with value: 0.6107491856677525 and parameters: {'booster': 'gbtree', 'lambda': 7.475933126535391e-05, 'alpha': 2.385474104035632e-08, 'subsample': 0.8672676387850684, 'colsample_bytree': 0.936039369785265, 'max_depth': 9, 'min_child_weight': 4, 'eta': 0.39433026008723715, 'gamma': 0.0014360262843056788, 'grow_policy': 'depthwise'}. Best is trial 82 with value: 0.6449511400651465.\u001B[0m\n",
      "\u001B[32m[I 2022-06-08 20:46:02,195]\u001B[0m Trial 99 finished with value: 0.5610749185667753 and parameters: {'booster': 'gbtree', 'lambda': 1.6785188348771332e-05, 'alpha': 1.5170155189238184e-08, 'subsample': 0.8436140901838138, 'colsample_bytree': 0.9692614964551808, 'max_depth': 9, 'min_child_weight': 3, 'eta': 1.5854022474584054e-05, 'gamma': 0.05053908523472201, 'grow_policy': 'depthwise'}. Best is trial 82 with value: 0.6449511400651465.\u001B[0m\n"
     ]
    },
    {
     "name": "stdout",
     "output_type": "stream",
     "text": [
      "Number of finished trials:  100\n",
      "Best trial:\n",
      "  Value: 0.6449511400651465\n",
      "  Params: \n",
      "    booster: gbtree\n",
      "    lambda: 0.00021527446317383612\n",
      "    alpha: 1.4386415310368946e-07\n",
      "    subsample: 0.9711069909022437\n",
      "    colsample_bytree: 0.9177989095052554\n",
      "    max_depth: 9\n",
      "    min_child_weight: 2\n",
      "    eta: 0.821817125624553\n",
      "    gamma: 0.09900327935193624\n",
      "    grow_policy: depthwise\n"
     ]
    }
   ],
   "source": [
    "# study = optuna.create_study(direction=\"maximize\",study_name='xgb_optuna')\n",
    "# study.optimize(obj_xgb, n_trials=100, timeout=600)\n",
    "#\n",
    "# print(\"Number of finished trials: \", len(study.trials))\n",
    "# print(\"Best trial:\")\n",
    "# trial = study.best_trial\n",
    "#\n",
    "# print(\"  Value: {}\".format(trial.value))\n",
    "# print(\"  Params: \")\n",
    "# for key, value in trial.params.items():\n",
    "#     print(\"    {}: {}\".format(key, value))\n"
   ],
   "metadata": {
    "collapsed": false,
    "pycharm": {
     "name": "#%%\n"
    }
   }
  },
  {
   "cell_type": "code",
   "execution_count": 11,
   "outputs": [
    {
     "name": "stdout",
     "output_type": "stream",
     "text": [
      "[(0, 64), (1, 262), (2, 4674)]\n",
      "Counter({1: 4381, 0: 4060, 2: 3502})\n"
     ]
    }
   ],
   "source": [
    "from sklearn.datasets import make_classification\n",
    "from collections import Counter\n",
    "X, y = make_classification(n_samples=10000, n_features=2, n_informative=2,\n",
    "                           n_redundant=0, n_repeated=0, n_classes=3,\n",
    "                           n_clusters_per_class=1,\n",
    "                           weights=[0.01, 0.05, 0.94], class_sep=0.8,\n",
    "                           random_state=0)\n",
    "from sklearn.model_selection import train_test_split\n",
    "from sklearn.metrics import balanced_accuracy_score\n",
    "from sklearn.ensemble import BaggingClassifier\n",
    "from sklearn.tree import DecisionTreeClassifier\n",
    "X, y = make_classification(n_samples=5000, n_features=2, n_informative=2,\n",
    "                           n_redundant=0, n_repeated=0, n_classes=3,\n",
    "                           n_clusters_per_class=1,\n",
    "                           weights=[0.01, 0.05, 0.94],\n",
    "                           class_sep=0.8, random_state=0)\n",
    "print(sorted(Counter(y).items()))\n",
    "from imblearn.combine import SMOTEENN\n",
    "smote_enn = SMOTEENN(random_state=0)\n",
    "X,y = smote_enn.fit_resample(X,y)\n",
    "print(Counter(y))\n"
   ],
   "metadata": {
    "collapsed": false,
    "pycharm": {
     "name": "#%%\n"
    }
   }
  }
 ],
 "metadata": {
  "interpreter": {
   "hash": "397224b3cdb3a23561542feed94c5cf45952f2aadda9fa59ec57fed9311c625f"
  },
  "kernelspec": {
   "display_name": "Python 3.9.7 ('base')",
   "language": "python",
   "name": "python3"
  },
  "language_info": {
   "codemirror_mode": {
    "name": "ipython",
    "version": 3
   },
   "file_extension": ".py",
   "mimetype": "text/x-python",
   "name": "python",
   "nbconvert_exporter": "python",
   "pygments_lexer": "ipython3",
   "version": "3.9.7"
  },
  "papermill": {
   "default_parameters": {},
   "duration": 144.865149,
   "end_time": "2021-10-24T13:32:17.599731",
   "environment_variables": {},
   "exception": null,
   "input_path": "__notebook__.ipynb",
   "output_path": "__notebook__.ipynb",
   "parameters": {},
   "start_time": "2021-10-24T13:29:52.734582",
   "version": "2.3.3"
  }
 },
 "nbformat": 4,
 "nbformat_minor": 5
}