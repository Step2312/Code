{
 "cells": [
  {
   "cell_type": "markdown",
   "metadata": {},
   "source": [
    "## 数据预处理"
   ]
  },
  {
   "cell_type": "code",
   "execution_count": null,
   "metadata": {
    "pycharm": {
     "is_executing": true
    }
   },
   "outputs": [],
   "source": [
    "import pandas as pd\n",
    "import numpy as np\n",
    "from collections import Counter\n",
    "import warnings\n",
    "warnings.filterwarnings('ignore')\n",
    "dpn = pd.read_excel('../input/DPN/10.25-DPN患者信息表.xlsx',sheet_name='总表')\n",
    "dpn.loc[0,'分组（1=DPN组，0=非DPN组）'] = '分组'\n",
    "dpn.columns = dpn.loc[0]\n",
    "dpn.drop(index=0,axis=0,inplace=True)\n",
    "dpn.reset_index(drop=True,inplace=True)\n",
    "dpn.columns"
   ]
  },
  {
   "cell_type": "code",
   "execution_count": 3,
   "metadata": {},
   "outputs": [
    {
     "name": "stdout",
     "output_type": "stream",
     "text": [
      "粉色的有:50列\n",
      "红色的有:5列\n",
      "追加的有:3列\n"
     ]
    }
   ],
   "source": [
    "pink = ['性别','年龄','身高','体重','糖尿病性肾病','糖尿病性视网膜病变','高脂血症','高血压','动脉粥样硬化','血常规_白细胞计数','血红蛋白','单核细胞绝对值','嗜酸性粒细胞绝对值','嗜碱性粒细胞绝对值','血小板平均体积','天冬氨酸氨基转移酶','丙氨酸氨基转移酶','白蛋白','总胆红素','尿素','肌酐','血清碳酸氢盐','尿酸','脂肪酶','总胆固醇','甘油三酯','高密度脂蛋白胆固醇','载脂蛋白A1','载脂蛋白B','载脂蛋白E','低密度脂蛋白胆固醇','脂蛋白a','糖化血清蛋白','糖化血红蛋白','促甲状腺激素','凝血酶原时间（PT）','活化部分凝血活酶时间（APTT）','白细胞','尿蛋白','葡萄糖','尿蛋白定量','24h尿蛋白定量','24小时尿量','餐后30分钟C肽','餐后30分钟胰岛素','餐后60分钟C肽','餐后60分钟胰岛素','餐后120分钟胰岛素','病程','C2/C0']\n",
    "red = ['血小板','中性粒细胞绝对值','淋巴细胞绝对值','糖','空腹胰岛素']\n",
    "end = ['NLR','PLR','胰岛素抵抗指数']\n",
    "y = ['分组']\n",
    "print(f'粉色的有:{len(pink)}列')\n",
    "print(f'红色的有:{len(red)}列')\n",
    "print(f'追加的有:{len(end)}列')"
   ]
  },
  {
   "cell_type": "code",
   "execution_count": 4,
   "metadata": {},
   "outputs": [],
   "source": [
    "zh2en = {\n",
    "    '分组':'Category',\n",
    "    '性别':'gender',\n",
    "    '年龄':'age',\n",
    "    '身高':'height',\n",
    "    '体重':'weight',\n",
    "    '糖尿病性肾病':'diabetic nephropathy',\n",
    "    '糖尿病性视网膜病变':'diabetic retinopathy',\n",
    "    '高脂血症':'hyperlipemia',\n",
    "    '高血压':'hypertension',\n",
    "    '动脉粥样硬化':'atherosclerosis',\n",
    "    '血常规_白细胞计数':'white blood cell count',\n",
    "    '血红蛋白':'hemoglobin',\n",
    "    '单核细胞绝对值':'Monocyte absolute values',\n",
    "    '嗜酸性粒细胞绝对值':'Eosinophils absolute value',\n",
    "    '嗜碱性粒细胞绝对值':'Basophils absolute value',\n",
    "    '血小板平均体积':'mean platelets volume',\n",
    "    '天冬氨酸氨基转移酶':'aspartate transaminase',\n",
    "    '丙氨酸氨基转移酶':'alanine aminotransferase',\n",
    "    '白蛋白':'albumin',\n",
    "    '总胆红素':'total bilirubin',\n",
    "    '尿素':'urea',\n",
    "    '肌酐':'creatinine',\n",
    "    '血清碳酸氢盐':'Serum bicarbonate',\n",
    "    '尿酸':'Uric Acid',\n",
    "    '脂肪酶':'lipase',\n",
    "    '总胆固醇':'total cholesterol',\n",
    "    '甘油三酯':'triglyceride',\n",
    "    '高密度脂蛋白胆固醇':'hdl-cholesterol',\n",
    "    '载脂蛋白A1':'Apolipoprotein A1',\n",
    "    '载脂蛋白B':'Apolipoprotein B',\n",
    "    '载脂蛋白E':'Apolipoprotein E',\n",
    "    '低密度脂蛋白胆固醇':'LDL Cholesterol',\n",
    "    '脂蛋白a':'Lipoprotein a',\n",
    "    '糖化血清蛋白':'glycated serum protein',\n",
    "    '糖化血红蛋白':'glycosylated hemoglobin',\n",
    "    '促甲状腺激素':'thyrotropic hormone',\n",
    "    '凝血酶原时间（PT）':'prothrombin time',\n",
    "    '活化部分凝血活酶时间（APTT）':'activated partial thromboplastin time',\n",
    "    '白细胞':'leucocyte',\n",
    "    '尿蛋白':'urine protein',\n",
    "    '葡萄糖':'glucose',\n",
    "    '尿蛋白定量':'urine protein quantity',\n",
    "    '24h尿蛋白定量':'24h urine protein quantity',\n",
    "    '24小时尿量':'24-hour urine output',\n",
    "    '餐后30分钟C肽':'C-peptide 30 minutes after meal',\n",
    "    '餐后30分钟胰岛素':'Insulin 30 minutes after a meal',\n",
    "    '餐后60分钟C肽':'C-peptide 60 minutes after a meal',\n",
    "    '餐后60分钟胰岛素':'Insulin 60 minutes after a meal',\n",
    "    '餐后120分钟胰岛素':'Insulin 120 minutes after a meal',\n",
    "    '病程':'Diabetes duration',\n",
    "    'C2/C0':'C2/C0',\n",
    "    'NLR':'NLR',\n",
    "    'PLR':'PLR',\n",
    "    '胰岛素抵抗指数':'HOMA-IR'\n",
    "}"
   ]
  },
  {
   "cell_type": "code",
   "execution_count": 5,
   "metadata": {},
   "outputs": [],
   "source": [
    "dpn = dpn[y+pink+end]\n",
    "dpn.replace('-----',np.nan,inplace=True)\n",
    "dpn.replace('/',np.nan,inplace=True)\n",
    "dpn.rename(columns=zh2en,inplace=True)\n",
    "dpn.columns\n",
    "dpn['height']=dpn['height'].copy().replace('未测',np.nan)\n",
    "dpn['weight']=dpn['weight'].copy().replace('未测',np.nan)\n"
   ]
  },
  {
   "cell_type": "code",
   "execution_count": 6,
   "metadata": {},
   "outputs": [],
   "source": [
    "# dpn['U/C']=dpn['urine protein quantity'].astype(float)/dpn['creatinine'].astype(float)\n",
    "# dpn['U/C'].value_counts()\n",
    "# dpn"
   ]
  },
  {
   "cell_type": "code",
   "execution_count": 6,
   "metadata": {},
   "outputs": [],
   "source": [
    "import matplotlib.pyplot as plt\n",
    "import numpy as np\n",
    "import missingno as msno\n",
    "# plt.rcParams[\"font.sans-serif\"]=[\"SimHei\"] \n",
    "plt.rcParams[\"axes.unicode_minus\"]=False \n",
    "\n",
    "# msno.bar(dpn,labels=True,sort='descending')"
   ]
  },
  {
   "cell_type": "code",
   "execution_count": 7,
   "metadata": {},
   "outputs": [
    {
     "data": {
      "text/plain": [
       "Counter({1.0: 748, 0.0: 530})"
      ]
     },
     "execution_count": 7,
     "metadata": {},
     "output_type": "execute_result"
    }
   ],
   "source": [
    "dpn.drop(columns=[zh2en['餐后30分钟C肽'],zh2en['餐后30分钟胰岛素']],inplace=True)\n",
    "dpn.drop(columns=[zh2en['餐后60分钟C肽'],zh2en['餐后60分钟胰岛素'],zh2en['糖化血清蛋白'],zh2en['脂蛋白a'],zh2en['载脂蛋白E'],zh2en['载脂蛋白B'],zh2en['载脂蛋白A1'],zh2en['餐后120分钟胰岛素']],inplace=True)\n",
    "dpn.replace(to_replace=r'<',value=0,regex=True,inplace=True) # < 0.01 ===> 0\n",
    "dpn.replace(to_replace=r'>',value=1000,regex=True,inplace=True) # > 1000.00 ===> 1000\n",
    "from collections import Counter\n",
    "Counter(dpn['Category'])"
   ]
  },
  {
   "cell_type": "code",
   "execution_count": 8,
   "metadata": {},
   "outputs": [
    {
     "name": "stdout",
     "output_type": "stream",
     "text": [
      "性别 类别： ['女' '男']\n",
      "白细胞 类别 ['阳性(+)' '阴性(-)' nan]\n",
      "尿蛋白 类别 ['-' '阳性(+)' '阴性(-)' nan]\n",
      "Counter({'阳性(+)': 569, '阴性(-)': 498, nan: 211})\n",
      "葡萄糖 类别 ['阳性(+)' '阴性(-)' nan]\n"
     ]
    }
   ],
   "source": [
    "from sklearn.preprocessing import LabelEncoder\n",
    "le = LabelEncoder()\n",
    "\n",
    "dpn['gender']=le.fit_transform(dpn['gender'])\n",
    "print('性别 类别：',le.classes_)\n",
    "\n",
    "\n",
    "\n",
    "dpn['leucocyte'] = dpn['leucocyte'].copy().replace(['+','++','+++','0-1','2-3','弱阳性'],'阳性(+)')\n",
    "dpn['leucocyte'] = dpn['leucocyte'].replace(['未见'],'阴性(-)')\n",
    "dpn['leucocyte']=le.fit_transform(dpn['leucocyte'])\n",
    "print('白细胞 类别',le.classes_)\n",
    "\n",
    "dpn['urine protein'] = dpn['urine protein'].copy().replace(['+','++','+++','++++','弱阳性'],'阳性(+)')\n",
    "# dpn['urine protein'] = dpn['urine protein'].copy().replace(['-'],'阴性(-)')\n",
    "dpn['urine protein']=le.fit_transform(dpn['urine protein'])\n",
    "print('尿蛋白 类别',le.classes_)\n",
    "\n",
    "dpn['glucose'] = dpn['glucose'].copy().replace(['+','++','+++','++++','15.4','18.5','19.7','21.0','6.9','弱阳性'],'阳性(+)')\n",
    "print(Counter(dpn['glucose']))\n",
    "dpn['glucose']=le.fit_transform(dpn['glucose'])\n",
    "print('葡萄糖 类别',le.classes_)\n",
    "\n",
    "\n",
    "for col in dpn.columns:\n",
    "    dpn[col]=dpn[col].astype(float)"
   ]
  },
  {
   "cell_type": "code",
   "execution_count": 9,
   "metadata": {},
   "outputs": [],
   "source": [
    "# dpn['creatinine'][(dpn['creatinine']<10)| (dpn['creatinine']>110)] = 1\n",
    "# dpn['creatinine'][(dpn['creatinine']>=10) & (dpn['creatinine']<=110)] = 0\n",
    "# msno.bar(dpn,sort='descending')\n",
    "# dpn"
   ]
  },
  {
   "cell_type": "code",
   "execution_count": 10,
   "metadata": {},
   "outputs": [],
   "source": [
    "# dpn.to_excel('../output/dpn/data/dpn_before_filled.xlsx',index=False)"
   ]
  },
  {
   "cell_type": "code",
   "execution_count": 11,
   "metadata": {},
   "outputs": [
    {
     "data": {
      "text/plain": [
       "0"
      ]
     },
     "execution_count": 11,
     "metadata": {},
     "output_type": "execute_result"
    }
   ],
   "source": [
    "from sklearn.impute import SimpleImputer \n",
    "imp_mean = SimpleImputer(strategy='mean')\n",
    "imp_most_frequent = SimpleImputer(strategy='most_frequent')\n",
    "dpn_con = dpn.drop(columns=['gender','diabetic nephropathy','diabetic retinopathy','hyperlipemia','hypertension','atherosclerosis','leucocyte','urine protein','glucose','Category'])\n",
    "dpn_cate = dpn[['Category','gender','diabetic nephropathy','diabetic retinopathy','hyperlipemia','hypertension','atherosclerosis','leucocyte','urine protein','glucose']]\n",
    "dpn_impute_con = imp_mean.fit_transform(dpn_con)\n",
    "dpn_impute_cate = imp_most_frequent.fit_transform(dpn_cate)\n",
    "dpn_cate = pd.DataFrame(dpn_impute_cate,columns=dpn_cate.columns)\n",
    "dpn_con = pd.DataFrame(dpn_impute_con,columns=dpn_con.columns)\n",
    "dpn = pd.concat([dpn_cate,dpn_con],axis=1)\n",
    "dpn.to_csv('../output/dpn/data/dpn_preprocress.csv',index=False)\n",
    "\n",
    "dpn.to_csv('../output/dpn/data/dpn_preprocress.csv',index=False)\n",
    "dpn.isna().sum().sum()"
   ]
  },
  {
   "cell_type": "markdown",
   "metadata": {},
   "source": [
    "## 特征筛选和数据平衡"
   ]
  },
  {
   "cell_type": "code",
   "execution_count": 12,
   "metadata": {},
   "outputs": [
    {
     "name": "stderr",
     "output_type": "stream",
     "text": [
      "2023-02-22 14:59:39.604 | INFO     | __main__:<module>:80 - 使用嵌入法 RandomForestClassifier 进行特征选择,剩余(1278, 16)个特征\n",
      "2023-02-22 14:59:39.605 | INFO     | __main__:<module>:90 - 剩余的特征是：['age', 'alanine aminotransferase', 'albumin', 'total bilirubin', 'urea', 'creatinine', 'Uric Acid', 'total cholesterol', 'glycosylated hemoglobin', 'activated partial thromboplastin time', 'urine protein quantity', '24h urine protein quantity', 'Diabetes duration', 'C2/C0', 'NLR', 'HOMA-IR']\n",
      "2023-02-22 14:59:39.622 | INFO     | __main__:<module>:111 - 使用 SMOTETomek 混合采样\n",
      "2023-02-22 14:59:39.624 | INFO     | __main__:<module>:115 - 数据平衡前：非DPN组有530条,DPN组有748条\n"
     ]
    },
    {
     "name": "stdout",
     "output_type": "stream",
     "text": [
      "[0.08195795 0.02474175 0.03297601 0.02654909 0.03065755 0.02814892\n",
      " 0.02584564 0.02335051 0.03850815 0.02952407 0.04463334 0.04561257\n",
      " 0.06100619 0.03488445 0.03077276 0.02415228]\n"
     ]
    },
    {
     "name": "stderr",
     "output_type": "stream",
     "text": [
      "2023-02-22 14:59:39.783 | INFO     | __main__:<module>:117 - 数据平衡后：非DPN组有702条,DPN组有702条\n"
     ]
    }
   ],
   "source": [
    "from sklearn.feature_selection import chi2, SelectKBest, f_classif, mutual_info_classif\n",
    "from sklearn.preprocessing import StandardScaler\n",
    "from imblearn.under_sampling import RandomUnderSampler, TomekLinks\n",
    "from imblearn.over_sampling import SMOTE, RandomOverSampler, ADASYN\n",
    "from loguru import logger\n",
    "from sklearn.model_selection import StratifiedKFold\n",
    "import optuna\n",
    "import xgboost as xgb\n",
    "from sklearn.feature_selection import SelectFromModel\n",
    "from sklearn.model_selection import train_test_split\n",
    "from sklearn.metrics import accuracy_score, precision_score, recall_score, f1_score\n",
    "import numpy as np\n",
    "import pandas as pd\n",
    "from sklearn.preprocessing import LabelEncoder\n",
    "import shap\n",
    "from collections import Counter\n",
    "import matplotlib.pyplot as plt\n",
    "from imblearn.combine import SMOTETomek\n",
    "import warnings\n",
    "from sklearn.preprocessing import StandardScaler\n",
    "import matplotlib.pyplot as plt\n",
    "plt.rcParams[\"font.sans-serif\"]=[\"SimHei\"] #设置中易黑体字体\n",
    "plt.rcParams[\"axes.unicode_minus\"]=False #该语句解决图像中的“-”负号的乱码问题\n",
    "warnings.filterwarnings('ignore')\n",
    "\n",
    "optuna.logging.set_verbosity(optuna.logging.CRITICAL)\n",
    "id2feature = {\n",
    "    0:'非DPN组',\n",
    "    1:'DPN组'\n",
    "}\n",
    "dpn = pd.read_csv('../output/dpn/data/dpn_preprocress.csv')\n",
    "X = dpn.drop(columns='Category')\n",
    "scaler = StandardScaler()\n",
    "X = pd.DataFrame(scaler.fit_transform(X),columns=X.columns)\n",
    "y = dpn['Category'].astype(int)\n",
    "# X_train,X_test,y_train,y_test = train_test_split(X,y,test_size=0.2,random_state=43)\n",
    "# print(Counter(y_train),Counter(y_test))\n",
    "logger.add('./log/dpn/{time}_end.log')\n",
    "USE_chi2, USE_f_classif, USE_mutual_info_classif = False, False, False\n",
    "USE_LSVC,USE_EXTRATREE,USE_LR = False,True,True\n",
    "k = 15\n",
    "C = 0.025\n",
    "penality = 'l2'\n",
    "random_state = 64\n",
    "if USE_chi2:\n",
    "    chi2_model = SelectKBest(chi2, k=k)\n",
    "    X = pd.DataFrame(chi2_model.fit_transform(\n",
    "        X, y), columns=X.columns[chi2_model.get_support()])\n",
    "    logger.info(f'使用 卡方检验 k={k} 进行特征筛选,剩余{X.shape}个特征')\n",
    "elif USE_f_classif:\n",
    "    f_classif_model = SelectKBest(f_classif, k=k)\n",
    "    X = pd.DataFrame(f_classif_model.fit_transform(\n",
    "        X, y), columns=X.columns[f_classif_model.get_support()])\n",
    "    logger.info(f'使用 F检验 k={k} 进行特征筛选,剩余{X.shape}个特征')\n",
    "elif USE_mutual_info_classif:\n",
    "    mutual_info_classif_model = SelectKBest(mutual_info_classif, k=k)\n",
    "    X = pd.DataFrame(mutual_info_classif_model.fit_transform(X, y),\n",
    "                     columns=X.columns[mutual_info_classif_model.get_support()])\n",
    "    logger.info(f'使用 互信息法 k={k} 进行特征筛选,剩余{X.shape}个特征')\n",
    "elif USE_LSVC:\n",
    "    from sklearn.svm import LinearSVC\n",
    "    from sklearn.feature_selection import SelectFromModel\n",
    "    lsvc = LinearSVC(C=C, penalty=penality, dual=False,\n",
    "                     random_state=random_state)\n",
    "    model = SelectFromModel(lsvc, prefit=True)\n",
    "    X = pd.DataFrame(model.fit_transform(X,y),columns=X.columns[model.get_support()])\n",
    "    logger.info(f'使用嵌入法 LinearSVC 进行特征选择,剩余{X.shape}个特征')\n",
    "elif USE_EXTRATREE:\n",
    "    from sklearn.ensemble import RandomForestClassifier\n",
    "    from sklearn.feature_selection import SelectFromModel\n",
    "    etclf =  RandomForestClassifier(n_estimators=200,max_depth=8,random_state=43).fit(X,y)\n",
    "    model = SelectFromModel(etclf,prefit=True)\n",
    "    # fig = plt.figure(figsize=(20,4))\n",
    "    # print(len(X.columns),len(model.estimator.feature_importances_))\n",
    "    # plt.bar(x=X.columns,height=model.estimator.feature_importances_)\n",
    "    # plt.xticks(rotation=-45)\n",
    "    # plt.show()\n",
    "    print(model.estimator.feature_importances_[model.get_support()])\n",
    "    X = pd.DataFrame(model.transform(X),columns=X.columns[model.get_support()])\n",
    "    logger.info(f'使用嵌入法 RandomForestClassifier 进行特征选择,剩余{X.shape}个特征')\n",
    "elif USE_LR:\n",
    "    from sklearn.linear_model import LogisticRegression\n",
    "    from sklearn.feature_selection import SelectFromModel\n",
    "    lr = LogisticRegression(penalty='l1',C=C,solver='liblinear')\n",
    "    model = SelectFromModel(lr)\n",
    "    X = pd.DataFrame(model.fit_transform(X,y),columns=X.columns[model.get_support()])\n",
    "    logger.info(f'使用嵌入法 LogisticRegression 进行特征选择,剩余{X.shape}个特征')\n",
    "\n",
    "cols_selected = X.columns.to_list()\n",
    "logger.info(f'剩余的特征是：{cols_selected}')\n",
    "dpn[cols_selected+['Category']].to_csv('../output/dpn/data/dpn_selected.csv',index=False)\n",
    "# 数据平衡\n",
    "USE_randomDownSample, USE_Tomek_links, USE_ADASYN, USE_randomOverSample, USE_SMOTE, USE_SMOTETomek = False, False, False, False, False, True\n",
    "\n",
    "if USE_randomDownSample:\n",
    "    logger.info('使用 randomDownSample 下采样')\n",
    "    sampler = RandomUnderSampler(random_state=64)\n",
    "elif USE_Tomek_links:\n",
    "    logger.info('使用 TomekLinks 下采样')\n",
    "    sampler = TomekLinks()\n",
    "elif USE_ADASYN:\n",
    "    logger.info('使用 ADASYN 上采样')\n",
    "    sampler = ADASYN(random_state=64)\n",
    "elif USE_randomOverSample:\n",
    "    logger.info('使用 randomOverSample 上采样')\n",
    "    sampler = RandomOverSampler(random_state=64)\n",
    "elif USE_SMOTE:\n",
    "    logger.info('使用 SMOTE 上采样')\n",
    "    sampler = SMOTE(random_state=64)\n",
    "elif USE_SMOTETomek:\n",
    "    logger.info('使用 SMOTETomek 混合采样')\n",
    "    sampler = SMOTETomek(random_state=43)\n",
    "else:\n",
    "    assert False, '没有平衡数据'\n",
    "logger.info(f'数据平衡前：{id2feature[0]}有{Counter(y)[0]}条,{id2feature[1]}有{Counter(y)[1]}条')\n",
    "X_resampled, y_resampled = sampler.fit_resample(X, y)\n",
    "logger.info(f'数据平衡后：{id2feature[0]}有{Counter(y_resampled)[0]}条,{id2feature[1]}有{Counter(y_resampled)[1]}条')\n",
    "dpn_resampled = pd.concat([y_resampled,X_resampled],axis=1)\n",
    "dpn_resampled.to_excel('../output/dpn/data/dpn_resampled.xlsx',index=False)\n"
   ]
  },
  {
   "cell_type": "markdown",
   "metadata": {},
   "source": [
    "## 模型对比"
   ]
  },
  {
   "cell_type": "markdown",
   "metadata": {},
   "source": [
    "### XGBoost"
   ]
  },
  {
   "cell_type": "code",
   "execution_count": 13,
   "metadata": {},
   "outputs": [],
   "source": [
    "TRAIN_XGB = False\n",
    "def objective(trial):\n",
    "    train_x, valid_x, train_y, valid_y = train_test_split(\n",
    "        X_resampled, y_resampled, test_size=0.3, random_state=43)\n",
    "    param = {\n",
    "        'verbosity': 0,\n",
    "        'eval_metric': 'logloss',\n",
    "        'objective': 'binary:logistic',\n",
    "        'tree_method': 'exact',\n",
    "        'booster': 'dart',\n",
    "        'n_estimators':trial.suggest_int('n_estimators',100,500,step=50),\n",
    "        'max_depth': trial.suggest_int(\"max_depth\", 8,20,step=2),\n",
    "        'grow_policy': trial.suggest_categorical(\"grow_policy\", ['depthwise', 'lossguide']),\n",
    "        'learning_rate': trial.suggest_float(\"learning_rate\", 1e-8, 1, log=True),\n",
    "        'gamma': trial.suggest_float(\"gamma\", 1e-8, 1.0, log=True),\n",
    "        'reg_lambda': trial.suggest_float('reg_lambda', 1e-8, 1, log=True),\n",
    "        'reg_alpha': trial.suggest_float('reg_alpha', 1e-8, 1, log=True),\n",
    "        'subsample': trial.suggest_float('subsample', 0.1, 1),\n",
    "        'colsample_bytree': trial.suggest_float('colsample_bytree', 0.1, 1),\n",
    "        'random_state': 43\n",
    "    }\n",
    "    clf_xgb = xgb.XGBClassifier(**param).fit(train_x, train_y)\n",
    "    preds = clf_xgb.predict(valid_x)\n",
    "    return accuracy_score(valid_y, preds)\n",
    "study = optuna.create_study(direction=\"maximize\")\n",
    "if TRAIN_XGB:\n",
    "    study.optimize(objective, n_trials=100, timeout=600)\n",
    "    logger.info(f'调参结束，最佳结果为:{study.best_value}')\n",
    "    logger.info(f'调参结束，最佳参数为:{study.best_params}')"
   ]
  },
  {
   "cell_type": "code",
   "execution_count": 14,
   "metadata": {},
   "outputs": [
    {
     "name": "stderr",
     "output_type": "stream",
     "text": [
      "2023-02-22 14:59:53.982 | WARNING  | __main__:<module>:26 - {'objective': 'binary:logistic', 'use_label_encoder': None, 'base_score': None, 'booster': None, 'callbacks': None, 'colsample_bylevel': None, 'colsample_bynode': None, 'colsample_bytree': 0.661037320664513, 'early_stopping_rounds': None, 'enable_categorical': False, 'eval_metric': 'logloss', 'feature_types': None, 'gamma': 1.2214671674376956e-05, 'gpu_id': None, 'grow_policy': 'lossguide', 'importance_type': None, 'interaction_constraints': None, 'learning_rate': 0.04690250747972388, 'max_bin': None, 'max_cat_threshold': None, 'max_cat_to_onehot': None, 'max_delta_step': None, 'max_depth': 12, 'max_leaves': None, 'min_child_weight': None, 'missing': nan, 'monotone_constraints': None, 'n_estimators': 350, 'n_jobs': None, 'num_parallel_tree': None, 'predictor': None, 'random_state': 43, 'reg_alpha': 1.6642675952811388e-07, 'reg_lambda': 2.592776397904034e-05, 'sampling_method': None, 'scale_pos_weight': None, 'subsample': 0.897341255267949, 'tree_method': 'exact', 'validate_parameters': None, 'verbosity': 0}\n",
      "2023-02-22 14:59:55.194 | WARNING  | __main__:<module>:40 - 0.794\t0.818\t0.761\t0.788\n",
      "2023-02-22 14:59:55.637 | WARNING  | __main__:<module>:40 - 0.759\t0.776\t0.732\t0.754\n",
      "2023-02-22 14:59:56.076 | WARNING  | __main__:<module>:40 - 0.801\t0.8\t0.8\t0.8\n",
      "2023-02-22 14:59:56.535 | WARNING  | __main__:<module>:40 - 0.738\t0.72\t0.771\t0.745\n",
      "2023-02-22 14:59:57.014 | WARNING  | __main__:<module>:40 - 0.714\t0.721\t0.7\t0.71\n",
      "2023-02-22 14:59:57.499 | WARNING  | __main__:<module>:40 - 0.779\t0.8\t0.743\t0.77\n",
      "2023-02-22 14:59:57.945 | WARNING  | __main__:<module>:40 - 0.757\t0.781\t0.714\t0.746\n",
      "2023-02-22 14:59:58.397 | WARNING  | __main__:<module>:40 - 0.7\t0.733\t0.629\t0.677\n",
      "2023-02-22 14:59:58.836 | WARNING  | __main__:<module>:40 - 0.771\t0.839\t0.671\t0.746\n",
      "2023-02-22 14:59:59.322 | WARNING  | __main__:<module>:40 - 0.714\t0.759\t0.629\t0.688\n",
      "2023-02-22 14:59:59.323 | WARNING  | __main__:<module>:42 - accuracy\t\tmean:0.753\tstd:0.033\n",
      "2023-02-22 14:59:59.324 | WARNING  | __main__:<module>:43 - precision\t\tmean:0.775\tstd:0.039\n",
      "2023-02-22 14:59:59.326 | WARNING  | __main__:<module>:44 - recall\t\tmean:0.715\tstd:0.055\n",
      "2023-02-22 14:59:59.327 | WARNING  | __main__:<module>:45 - f1\t\tmean:0.742\tstd:0.038\n"
     ]
    }
   ],
   "source": [
    "from joblib import dump\n",
    "fixed_params = {\n",
    "        'verbosity': 0,\n",
    "        'eval_metric': 'logloss',\n",
    "        'objective': 'binary:logistic',\n",
    "        'tree_method': 'exact',\n",
    "        'n_estimators':350,\n",
    "        'max_depth': 12,\n",
    "        'grow_policy': 'lossguide',\n",
    "        'learning_rate': 0.04690250747972388,\n",
    "        'gamma': 1.2214671674376956e-05,\n",
    "        'reg_lambda':  2.592776397904034e-05,\n",
    "        'reg_alpha': 1.6642675952811388e-07,\n",
    "        'subsample':  0.897341255267949,\n",
    "        'colsample_bytree': 0.661037320664513,\n",
    "        'random_state': 43\n",
    "}\n",
    "Accuracy = []\n",
    "Precision = []\n",
    "Recall = []\n",
    "F1 = []\n",
    "if TRAIN_XGB:\n",
    "    clf_xgb = xgb.XGBClassifier(**study.best_params)\n",
    "else:\n",
    "    clf_xgb = xgb.XGBClassifier(**fixed_params)\n",
    "logger.warning(clf_xgb.get_params())\n",
    "clf_xgb.fit(X_resampled,y_resampled)\n",
    "kf = StratifiedKFold(n_splits=10,shuffle=True,random_state=43)\n",
    "for train_index, test_index in kf.split(X_resampled,y_resampled):\n",
    "    clf_xgb.fit(X_resampled.loc[train_index], y_resampled[train_index])\n",
    "    preds = clf_xgb.predict(X_resampled.loc[test_index])\n",
    "    accuracy = accuracy_score(y_resampled[test_index], preds)\n",
    "    Accuracy.append(accuracy)\n",
    "    precision = precision_score(y_resampled[test_index], preds)\n",
    "    Precision.append(precision)\n",
    "    recall = recall_score(y_resampled[test_index], preds)\n",
    "    Recall.append(recall)\n",
    "    f1 = f1_score(y_resampled[test_index], preds)\n",
    "    F1.append(f1)\n",
    "    logger.warning(f'{round(np.mean(accuracy), 3)}\\t{round(np.mean(precision), 3)}\\t'\n",
    "                   f'{round(np.mean(recall), 3)}\\t{round(np.mean(f1), 3)}')\n",
    "logger.warning(f'accuracy\\t\\tmean:{round(np.mean(Accuracy), 3)}\\tstd:{round(np.std(Accuracy), 3)}')\n",
    "logger.warning(f'precision\\t\\tmean:{round(np.mean(Precision), 3)}\\tstd:{round(np.std(Precision), 3)}')\n",
    "logger.warning(f'recall\\t\\tmean:{round(np.mean(Recall), 3)}\\tstd:{round(np.std(Recall), 3)}')\n",
    "logger.warning(f'f1\\t\\tmean:{round(np.mean(F1), 3)}\\tstd:{round(np.std(F1), 3)}')\n",
    "if round(np.mean(Accuracy), 3) >=0.8:\n",
    "    from joblib import dump\n",
    "    print('准确率>=0.8,保存模型...')\n",
    "    dump(model,'./output/dpn/model/'+'XGB_'+str(round(np.mean(Accuracy), 3))+'.joblib')"
   ]
  },
  {
   "cell_type": "markdown",
   "metadata": {},
   "source": [
    "#### SHAP"
   ]
  },
  {
   "cell_type": "code",
   "execution_count": 15,
   "metadata": {},
   "outputs": [
    {
     "data": {
      "image/png": "[encoded data removed]",
      "text/plain": [
       "<Figure size 800x790 with 2 Axes>"
      ]
     },
     "metadata": {},
     "output_type": "display_data"
    }
   ],
   "source": [
    "from sklearn.model_selection import train_test_split\n",
    "data = pd.read_excel('../output/dpn/data/dpn_resampled.xlsx')\n",
    "X_shap = data.drop(columns='Category')\n",
    "y_shap = data['Category']\n",
    "X_shap_train,X_shap_test,y_shap_train,y_shap_test = train_test_split(X_shap,y_shap,test_size=0.3,random_state=43)\n",
    "clf_xgb.fit(X_shap_train,y_shap_train)\n",
    "explainer = shap.TreeExplainer(clf_xgb)\n",
    "shap_values_XGBoost_test = explainer.shap_values(X_shap_test)\n",
    "shap.summary_plot(shap_values_XGBoost_test, X_shap_test)"
   ]
  },
  {
   "cell_type": "markdown",
   "metadata": {},
   "source": [
    "#### Confusion matrix"
   ]
  },
  {
   "cell_type": "code",
   "execution_count": null,
   "metadata": {},
   "outputs": [
    {
     "ename": "",
     "evalue": "",
     "output_type": "error",
     "traceback": [
      "\u001b[1;31m无法启动 Kernel。 \n",
      "\u001b[1;31mValueError: bad marshal data (unknown type code). \n",
      "\u001b[1;31m有关更多详细信息，请查看 Jupyter <a href='command:jupyter.viewOutput'>log</a>。"
     ]
    }
   ],
   "source": [
    "from sklearn.metrics import plot_confusion_matrix,roc_curve\n",
    "clf_xgb_pred = clf_xgb.predict_proba(X_shap_test)[:,1]\n",
    "xgb_fpr,xgb_tpr,_ = roc_curve(y_shap_test,clf_xgb_pred)\n",
    "plot_confusion_matrix(clf_xgb,X_shap_test,y_shap_test)\n",
    "plt.title('XGBoost')"
   ]
  },
  {
   "cell_type": "markdown",
   "metadata": {},
   "source": [
    "#### ROC 曲线"
   ]
  },
  {
   "cell_type": "code",
   "execution_count": null,
   "metadata": {},
   "outputs": [
    {
     "ename": "",
     "evalue": "",
     "output_type": "error",
     "traceback": [
      "\u001b[1;31m无法启动 Kernel。 \n",
      "\u001b[1;31mValueError: bad marshal data (unknown type code). \n",
      "\u001b[1;31m有关更多详细信息，请查看 Jupyter <a href='command:jupyter.viewOutput'>log</a>。"
     ]
    }
   ],
   "source": [
    "from sklearn.metrics import plot_roc_curve,roc_auc_score\n",
    "xgb_score = round(roc_auc_score(y_shap_test,clf_xgb_pred),3)\n",
    "# plot_roc_curve(clf_xgb,X_shap_test,y_shap_test)\n",
    "xgb_score"
   ]
  },
  {
   "cell_type": "markdown",
   "metadata": {},
   "source": [
    "### SVM"
   ]
  },
  {
   "cell_type": "code",
   "execution_count": null,
   "metadata": {},
   "outputs": [
    {
     "ename": "",
     "evalue": "",
     "output_type": "error",
     "traceback": [
      "\u001b[1;31m无法启动 Kernel。 \n",
      "\u001b[1;31mValueError: bad marshal data (unknown type code). \n",
      "\u001b[1;31m有关更多详细信息，请查看 Jupyter <a href='command:jupyter.viewOutput'>log</a>。"
     ]
    }
   ],
   "source": [
    "TRAIN_SVC = False\n",
    "from sklearn.svm import SVC\n",
    "def objective(trial):\n",
    "    train_x, valid_x, train_y, valid_y = train_test_split(\n",
    "        X_resampled, y_resampled, test_size=0.3, random_state=43)\n",
    "    param = {\n",
    "        # 'random_state':43,\n",
    "        'C':trial.suggest_float('C',1e-8,1,log=True),\n",
    "        'gamma':trial.suggest_float('gamma',1e-8,1,log=True),\n",
    "        # 'probability':True\n",
    "    }\n",
    "    model = SVC(**param,random_state=43,probability=True).fit(train_x, train_y)\n",
    "    preds = model.predict(valid_x)\n",
    "    return accuracy_score(valid_y, preds)\n",
    "Accuracy = []\n",
    "Precision = []\n",
    "Recall = []\n",
    "F1 = []\n",
    "study = optuna.create_study(direction=\"maximize\")\n",
    "if TRAIN_SVC:\n",
    "    study.optimize(objective, n_trials=100, timeout=600)\n",
    "    logger.info(f'调参结束，最佳结果为:{study.best_value}')\n",
    "    logger.info(f'调参结束，最佳参数为:{study.best_params}')"
   ]
  },
  {
   "cell_type": "code",
   "execution_count": null,
   "metadata": {},
   "outputs": [
    {
     "ename": "",
     "evalue": "",
     "output_type": "error",
     "traceback": [
      "\u001b[1;31m无法启动 Kernel。 \n",
      "\u001b[1;31mValueError: bad marshal data (unknown type code). \n",
      "\u001b[1;31m有关更多详细信息，请查看 Jupyter <a href='command:jupyter.viewOutput'>log</a>。"
     ]
    }
   ],
   "source": [
    "fixed_params = {'C': 0.9899203552790449, 'break_ties': False, 'cache_size': 200, 'class_weight': None, 'coef0': 0.0, 'decision_function_shape': 'ovr', 'degree': 3, 'gamma': 0.8098439704037791, 'kernel': 'rbf', 'max_iter': -1, 'probability': True, 'random_state': 43, 'shrinking': True, 'tol': 0.001, 'verbose': False}\n",
    "if TRAIN_SVC:\n",
    "    clf_svc = SVC(**study.best_params,random_state=43,probability=True)\n",
    "else:\n",
    "    clf_svc = SVC(**fixed_params)\n",
    "logger.warning(clf_svc.get_params())\n",
    "kf = StratifiedKFold(n_splits=10,shuffle=True,random_state=32)\n",
    "for train_index, test_index in kf.split(X_resampled,y_resampled):\n",
    "    clf_svc.fit(X_resampled.loc[train_index], y_resampled[train_index])\n",
    "    preds = clf_svc.predict(X_resampled.loc[test_index])\n",
    "    accuracy = accuracy_score(y_resampled[test_index], preds)\n",
    "    Accuracy.append(accuracy)\n",
    "    precision = precision_score(y_resampled[test_index], preds)\n",
    "    Precision.append(precision)\n",
    "    recall = recall_score(y_resampled[test_index], preds)\n",
    "    Recall.append(recall)\n",
    "    f1 = f1_score(y_resampled[test_index], preds)\n",
    "    F1.append(f1)\n",
    "    logger.warning(f'{round(np.mean(accuracy), 3)}\\t{round(np.mean(precision), 3)}\\t'\n",
    "                   f'{round(np.mean(recall), 3)}\\t{round(np.mean(f1), 3)}')\n",
    "logger.warning(f'accuracy\\t\\tmean:{round(np.mean(Accuracy), 3)}\\tstd:{round(np.std(Accuracy), 3)}')\n",
    "logger.warning(f'precision\\t\\tmean:{round(np.mean(Precision), 3)}\\tstd:{round(np.std(Precision), 3)}')\n",
    "logger.warning(f'recall\\t\\tmean:{round(np.mean(Recall), 3)}\\tstd:{round(np.std(Recall), 3)}')\n",
    "logger.warning(f'f1\\t\\tmean:{round(np.mean(F1), 3)}\\tstd:{round(np.std(F1), 3)}')\n",
    "if round(np.mean(Accuracy), 3) >=0.8:\n",
    "    from joblib import dump\n",
    "    print('准确率>=0.8,保存模型...')\n",
    "    dump(model,'./output/dpn/model/'+'SVC_'+str(round(np.mean(Accuracy), 3))+'.joblib')"
   ]
  },
  {
   "cell_type": "markdown",
   "metadata": {},
   "source": [
    "#### SHAP"
   ]
  },
  {
   "cell_type": "code",
   "execution_count": null,
   "metadata": {},
   "outputs": [
    {
     "ename": "",
     "evalue": "",
     "output_type": "error",
     "traceback": [
      "\u001b[1;31m无法启动 Kernel。 \n",
      "\u001b[1;31mValueError: bad marshal data (unknown type code). \n",
      "\u001b[1;31m有关更多详细信息，请查看 Jupyter <a href='command:jupyter.viewOutput'>log</a>。"
     ]
    }
   ],
   "source": [
    "# from sklearn.model_selection import train_test_split\n",
    "# import pandas as pd\n",
    "# data = pd.read_excel('../output/dpn/data/dpn_resampled.xlsx')\n",
    "# X_shap = data.drop(columns='Category')\n",
    "# X_shap.rename(columns=zh2en,inplace=True)\n",
    "# y_shap = data['Category']\n",
    "# X_shap_train,X_shap_test,y_shap_train,y_shap_test = train_test_split(X_shap,y_shap,test_size=0.7,random_state=43)\n",
    "# clf_svc.fit(X_shap_train,y_shap_train)\n",
    "# explainer = shap.KernelExplainer(clf_svc.predict,shap.sample(X_shap_train, 50,random_state=43))\n",
    "# shap_values_SVC_test = explainer.shap_values(X_shap_test)\n",
    "# shap.summary_plot(shap_values_SVC_test, X_shap_test)"
   ]
  },
  {
   "cell_type": "markdown",
   "metadata": {},
   "source": [
    "#### Confusion maxtrix"
   ]
  },
  {
   "cell_type": "code",
   "execution_count": null,
   "metadata": {},
   "outputs": [
    {
     "ename": "",
     "evalue": "",
     "output_type": "error",
     "traceback": [
      "\u001b[1;31m无法启动 Kernel。 \n",
      "\u001b[1;31mValueError: bad marshal data (unknown type code). \n",
      "\u001b[1;31m有关更多详细信息，请查看 Jupyter <a href='command:jupyter.viewOutput'>log</a>。"
     ]
    }
   ],
   "source": [
    "from sklearn.metrics import plot_confusion_matrix,roc_curve\n",
    "clf_svc.fit(X_shap_train,y_shap_train)\n",
    "clf_svc_pred = clf_svc.predict_proba(X_shap_test)[:,1]\n",
    "svc_fpr,svc_tpr,_ = roc_curve(y_shap_test,clf_svc_pred)\n",
    "plot_confusion_matrix(clf_svc,X_shap_test,y_shap_test)\n",
    "plt.title('SVM')"
   ]
  },
  {
   "cell_type": "markdown",
   "metadata": {},
   "source": [
    "#### ROC 曲线"
   ]
  },
  {
   "cell_type": "code",
   "execution_count": null,
   "metadata": {},
   "outputs": [
    {
     "ename": "",
     "evalue": "",
     "output_type": "error",
     "traceback": [
      "\u001b[1;31m无法启动 Kernel。 \n",
      "\u001b[1;31mValueError: bad marshal data (unknown type code). \n",
      "\u001b[1;31m有关更多详细信息，请查看 Jupyter <a href='command:jupyter.viewOutput'>log</a>。"
     ]
    }
   ],
   "source": [
    "from sklearn.metrics import plot_roc_curve\n",
    "svc_score = round(roc_auc_score(y_shap_test,clf_svc_pred),3)\n",
    "# plot_roc_curve(clf_svc,X_shap_test,y_shap_test)\n",
    "svc_score"
   ]
  },
  {
   "cell_type": "markdown",
   "metadata": {},
   "source": [
    "### LogisticRegression"
   ]
  },
  {
   "cell_type": "code",
   "execution_count": null,
   "metadata": {},
   "outputs": [
    {
     "ename": "",
     "evalue": "",
     "output_type": "error",
     "traceback": [
      "\u001b[1;31m无法启动 Kernel。 \n",
      "\u001b[1;31mValueError: bad marshal data (unknown type code). \n",
      "\u001b[1;31m有关更多详细信息，请查看 Jupyter <a href='command:jupyter.viewOutput'>log</a>。"
     ]
    }
   ],
   "source": [
    "TRAIN_LR = False\n",
    "from sklearn.linear_model import LogisticRegression\n",
    "def objective(trial):\n",
    "    train_x, valid_x, train_y, valid_y = train_test_split(\n",
    "        X_resampled, y_resampled, test_size=0.3, random_state=43)\n",
    "    param = {\n",
    "        'random_state':43,\n",
    "        'penalty':trial.suggest_categorical(\"penalty\", ['l2','none']),\n",
    "        'C':trial.suggest_float('C',1e-8,1,log=True),\n",
    "        'max_iter':trial.suggest_int('max_iter',100,5000)\n",
    "    }\n",
    "    model = LogisticRegression(**param).fit(train_x, train_y)\n",
    "    preds = model.predict(valid_x)\n",
    "    return accuracy_score(valid_y, preds)\n",
    "study = optuna.create_study(direction=\"maximize\")\n",
    "if TRAIN_LR:\n",
    "    study.optimize(objective, n_trials=100, timeout=600)\n",
    "    logger.info(f'调参结束，最佳结果为:{study.best_value}')\n",
    "    logger.info(f'调参结束，最佳参数为:{study.best_params}')\n"
   ]
  },
  {
   "cell_type": "code",
   "execution_count": null,
   "metadata": {},
   "outputs": [
    {
     "ename": "",
     "evalue": "",
     "output_type": "error",
     "traceback": [
      "\u001b[1;31m无法启动 Kernel。 \n",
      "\u001b[1;31mValueError: bad marshal data (unknown type code). \n",
      "\u001b[1;31m有关更多详细信息，请查看 Jupyter <a href='command:jupyter.viewOutput'>log</a>。"
     ]
    }
   ],
   "source": [
    "fixed_params = {\n",
    "    'random_state':43,\n",
    "    'penalty':'l2',\n",
    "    'C':0.1192450312489694,\n",
    "    'max_iter':3448\n",
    "}\n",
    "Accuracy = []\n",
    "Precision = []\n",
    "Recall = []\n",
    "F1 = []\n",
    "if TRAIN_LR:\n",
    "    clf_lr = LogisticRegression(**study.best_params)\n",
    "else:\n",
    "    clf_lr = LogisticRegression(**fixed_params)\n",
    "logger.warning(clf_lr.get_params())\n",
    "kf = StratifiedKFold(n_splits=10,shuffle=True,random_state=43)\n",
    "for train_index, test_index in kf.split(X_resampled,y_resampled):\n",
    "    clf_lr.fit(X_resampled.loc[train_index], y_resampled[train_index])\n",
    "    preds = clf_lr.predict(X_resampled.loc[test_index])\n",
    "    accuracy = accuracy_score(y_resampled[test_index], preds)\n",
    "    Accuracy.append(accuracy)\n",
    "    precision = precision_score(y_resampled[test_index], preds)\n",
    "    Precision.append(precision)\n",
    "    recall = recall_score(y_resampled[test_index], preds)\n",
    "    Recall.append(recall)\n",
    "    f1 = f1_score(y_resampled[test_index], preds)\n",
    "    F1.append(f1)\n",
    "    logger.warning(f'{round(np.mean(accuracy), 3)}\\t{round(np.mean(precision), 3)}\\t'\n",
    "                   f'{round(np.mean(recall), 3)}\\t{round(np.mean(f1), 3)}')\n",
    "logger.warning(f'accuracy\\t\\tmean:{round(np.mean(Accuracy), 3)}\\tstd:{round(np.std(Accuracy), 3)}')\n",
    "logger.warning(f'precision\\t\\tmean:{round(np.mean(Precision), 3)}\\tstd:{round(np.std(Precision), 3)}')\n",
    "logger.warning(f'recall\\t\\tmean:{round(np.mean(Recall), 3)}\\tstd:{round(np.std(Recall), 3)}')\n",
    "logger.warning(f'f1\\t\\tmean:{round(np.mean(F1), 3)}\\tstd:{round(np.std(F1), 3)}')\n",
    "if round(np.mean(Accuracy), 3) >=0.8:\n",
    "    from joblib import dump\n",
    "    print('准确率>=0.8,保存模型...')\n",
    "    dump(model,'./output/dpn/model/'+'LR_'+str(round(np.mean(Accuracy), 3))+'.joblib')"
   ]
  },
  {
   "cell_type": "markdown",
   "metadata": {},
   "source": [
    "#### Confusion matrix"
   ]
  },
  {
   "cell_type": "code",
   "execution_count": null,
   "metadata": {},
   "outputs": [
    {
     "ename": "",
     "evalue": "",
     "output_type": "error",
     "traceback": [
      "\u001b[1;31m无法启动 Kernel。 \n",
      "\u001b[1;31mValueError: bad marshal data (unknown type code). \n",
      "\u001b[1;31m有关更多详细信息，请查看 Jupyter <a href='command:jupyter.viewOutput'>log</a>。"
     ]
    }
   ],
   "source": [
    "from sklearn.metrics import plot_confusion_matrix,roc_curve\n",
    "clf_lr.fit(X_shap_train,y_shap_train)\n",
    "clf_lr_pred = clf_lr.predict_proba(X_shap_test)[:,1]\n",
    "lr_fpr,lr_tpr,_ = roc_curve(y_shap_test,clf_lr_pred)\n",
    "plot_confusion_matrix(clf_lr,X_shap_test,y_shap_test)\n",
    "plt.title('LR')"
   ]
  },
  {
   "cell_type": "markdown",
   "metadata": {},
   "source": [
    "#### ROC曲线"
   ]
  },
  {
   "cell_type": "code",
   "execution_count": null,
   "metadata": {},
   "outputs": [
    {
     "ename": "",
     "evalue": "",
     "output_type": "error",
     "traceback": [
      "\u001b[1;31m无法启动 Kernel。 \n",
      "\u001b[1;31mValueError: bad marshal data (unknown type code). \n",
      "\u001b[1;31m有关更多详细信息，请查看 Jupyter <a href='command:jupyter.viewOutput'>log</a>。"
     ]
    }
   ],
   "source": [
    "from sklearn.metrics import plot_roc_curve,roc_auc_score\n",
    "lr_score = round(roc_auc_score(y_shap_test,clf_lr_pred),3)\n",
    "# plot_roc_curve(clf_lr,X_shap_test,y_shap_test)\n",
    "lr_score"
   ]
  },
  {
   "cell_type": "markdown",
   "metadata": {},
   "source": [
    "### RandomForest"
   ]
  },
  {
   "cell_type": "code",
   "execution_count": null,
   "metadata": {},
   "outputs": [
    {
     "ename": "",
     "evalue": "",
     "output_type": "error",
     "traceback": [
      "\u001b[1;31m无法启动 Kernel。 \n",
      "\u001b[1;31mValueError: bad marshal data (unknown type code). \n",
      "\u001b[1;31m有关更多详细信息，请查看 Jupyter <a href='command:jupyter.viewOutput'>log</a>。"
     ]
    }
   ],
   "source": [
    "TRAIN_RF = False\n",
    "from sklearn.ensemble import RandomForestClassifier\n",
    "def objective(trial):\n",
    "    train_x, valid_x, train_y, valid_y = train_test_split(\n",
    "        X_resampled, y_resampled, test_size=0.3, random_state=43)\n",
    "    param = {\n",
    "        'n_estimators':trial.suggest_int('n_estimators',200,500),\n",
    "        'max_depth': trial.suggest_int(\"max_depth\", 2, 10, step=2),\n",
    "        'min_samples_split':trial.suggest_int(\"min_samples_split\", 2, 10, step=1),\n",
    "        'random_state':43,\n",
    "    }\n",
    "    model = RandomForestClassifier(**param).fit(train_x, train_y)\n",
    "    preds = model.predict(valid_x)\n",
    "    return accuracy_score(valid_y, preds)\n",
    "\n",
    "Accuracy = []\n",
    "Precision = []\n",
    "Recall = []\n",
    "F1 = []\n",
    "study = optuna.create_study(direction=\"maximize\")\n",
    "if TRAIN_RF:\n",
    "    study.optimize(objective, n_trials=100, timeout=600)\n",
    "    logger.info(f'调参结束，最佳结果为:{study.best_value}')\n",
    "    logger.info(f'调参结束，最佳参数为:{study.best_params}')"
   ]
  },
  {
   "cell_type": "code",
   "execution_count": null,
   "metadata": {},
   "outputs": [
    {
     "ename": "",
     "evalue": "",
     "output_type": "error",
     "traceback": [
      "\u001b[1;31m无法启动 Kernel。 \n",
      "\u001b[1;31mValueError: bad marshal data (unknown type code). \n",
      "\u001b[1;31m有关更多详细信息，请查看 Jupyter <a href='command:jupyter.viewOutput'>log</a>。"
     ]
    }
   ],
   "source": [
    "fixed_params = {\n",
    "    'n_estimators':209,\n",
    "    'max_depth': 10,\n",
    "    'min_samples_split': 9,\n",
    "    'random_state':43,\n",
    "}\n",
    "if TRAIN_RF:\n",
    "    clf_rf = RandomForestClassifier(**study.best_params)\n",
    "else:\n",
    "    clf_rf = RandomForestClassifier(**fixed_params)\n",
    "logger.warning(model.get_params())\n",
    "kf = StratifiedKFold(n_splits=10,shuffle=True,random_state=43)\n",
    "for train_index, test_index in kf.split(X_resampled,y_resampled):\n",
    "    clf_rf.fit(X_resampled.loc[train_index], y_resampled[train_index])\n",
    "    preds = clf_rf.predict(X_resampled.loc[test_index])\n",
    "    accuracy = accuracy_score(y_resampled[test_index], preds)\n",
    "    Accuracy.append(accuracy)\n",
    "    precision = precision_score(y_resampled[test_index], preds)\n",
    "    Precision.append(precision)\n",
    "    recall = recall_score(y_resampled[test_index], preds)\n",
    "    Recall.append(recall)\n",
    "    f1 = f1_score(y_resampled[test_index], preds)\n",
    "    F1.append(f1)\n",
    "    logger.warning(f'{round(np.mean(accuracy), 3)}\\t{round(np.mean(precision), 3)}\\t'\n",
    "                   f'{round(np.mean(recall), 3)}\\t{round(np.mean(f1), 3)}')\n",
    "logger.warning(f'accuracy\\t\\tmean:{round(np.mean(Accuracy), 3)}\\tstd:{round(np.std(Accuracy), 3)}')\n",
    "logger.warning(f'precision\\t\\tmean:{round(np.mean(Precision), 3)}\\tstd:{round(np.std(Precision), 3)}')\n",
    "logger.warning(f'recall\\t\\tmean:{round(np.mean(Recall), 3)}\\tstd:{round(np.std(Recall), 3)}')\n",
    "logger.warning(f'f1\\t\\tmean:{round(np.mean(F1), 3)}\\tstd:{round(np.std(F1), 3)}')\n",
    "\n",
    "if round(np.mean(Accuracy), 3) >=0.8:\n",
    "    from joblib import dump\n",
    "    print('准确率>=0.8,保存模型...')\n",
    "    dump(model,'./output/dpn/model/'+'RF_'+str(round(np.mean(Accuracy), 3))+'.joblib')"
   ]
  },
  {
   "cell_type": "markdown",
   "metadata": {},
   "source": [
    "#### Confusion matrix"
   ]
  },
  {
   "cell_type": "code",
   "execution_count": null,
   "metadata": {},
   "outputs": [
    {
     "ename": "",
     "evalue": "",
     "output_type": "error",
     "traceback": [
      "\u001b[1;31m无法启动 Kernel。 \n",
      "\u001b[1;31mValueError: bad marshal data (unknown type code). \n",
      "\u001b[1;31m有关更多详细信息，请查看 Jupyter <a href='command:jupyter.viewOutput'>log</a>。"
     ]
    }
   ],
   "source": [
    "from sklearn.metrics import plot_confusion_matrix,roc_curve\n",
    "clf_rf.fit(X_shap_train,y_shap_train)\n",
    "clf_rf_pred = clf_rf.predict_proba(X_shap_test)[:,1]\n",
    "rf_fpr,rf_tpr,_ = roc_curve(y_shap_test,clf_rf_pred)\n",
    "plot_confusion_matrix(clf_rf,X_shap_test,y_shap_test)\n",
    "plt.title('RF')"
   ]
  },
  {
   "cell_type": "markdown",
   "metadata": {},
   "source": [
    "#### ROC 曲线"
   ]
  },
  {
   "cell_type": "code",
   "execution_count": null,
   "metadata": {},
   "outputs": [
    {
     "ename": "",
     "evalue": "",
     "output_type": "error",
     "traceback": [
      "\u001b[1;31m无法启动 Kernel。 \n",
      "\u001b[1;31mValueError: bad marshal data (unknown type code). \n",
      "\u001b[1;31m有关更多详细信息，请查看 Jupyter <a href='command:jupyter.viewOutput'>log</a>。"
     ]
    }
   ],
   "source": [
    "from sklearn.metrics import plot_roc_curve,roc_auc_score\n",
    "rf_score = round(roc_auc_score(y_shap_test,clf_rf_pred),3)\n",
    "# plot_roc_curve(clf_rf,X_shap_test,y_shap_test)\n",
    "rf_score"
   ]
  },
  {
   "cell_type": "markdown",
   "metadata": {},
   "source": [
    "### Decision Tree"
   ]
  },
  {
   "cell_type": "code",
   "execution_count": null,
   "metadata": {},
   "outputs": [
    {
     "ename": "",
     "evalue": "",
     "output_type": "error",
     "traceback": [
      "\u001b[1;31m无法启动 Kernel。 \n",
      "\u001b[1;31mValueError: bad marshal data (unknown type code). \n",
      "\u001b[1;31m有关更多详细信息，请查看 Jupyter <a href='command:jupyter.viewOutput'>log</a>。"
     ]
    }
   ],
   "source": [
    "TRAIN_DT = False\n",
    "from sklearn.tree import DecisionTreeClassifier\n",
    "def objective(trial):\n",
    "    train_x, valid_x, train_y, valid_y = train_test_split(\n",
    "        X_resampled, y_resampled, test_size=0.3, random_state=43)\n",
    "    param = {\n",
    "        'random_state':43,\n",
    "        'criterion':trial.suggest_categorical(\"criterion\", ['gini','entropy']),\n",
    "        'max_depth':trial.suggest_int('max_depth',8,18)\n",
    "    }\n",
    "    model = DecisionTreeClassifier(**param).fit(train_x, train_y)\n",
    "    preds = model.predict(valid_x)\n",
    "    return accuracy_score(valid_y, preds)\n",
    "study = optuna.create_study(direction=\"maximize\")\n",
    "if TRAIN_DT:\n",
    "    study.optimize(objective, n_trials=100, timeout=600)\n",
    "    logger.info(f'调参结束，最佳结果为:{study.best_value}')\n",
    "    logger.info(f'调参结束，最佳参数为:{study.best_params}')\n"
   ]
  },
  {
   "cell_type": "code",
   "execution_count": null,
   "metadata": {},
   "outputs": [
    {
     "ename": "",
     "evalue": "",
     "output_type": "error",
     "traceback": [
      "\u001b[1;31m无法启动 Kernel。 \n",
      "\u001b[1;31mValueError: bad marshal data (unknown type code). \n",
      "\u001b[1;31m有关更多详细信息，请查看 Jupyter <a href='command:jupyter.viewOutput'>log</a>。"
     ]
    }
   ],
   "source": [
    "fixed_params = {\n",
    "    'random_state':43,\n",
    "    'criterion':'gini',\n",
    "    'max_depth':14\n",
    "}\n",
    "Accuracy = []\n",
    "Precision = []\n",
    "Recall = []\n",
    "F1 = []\n",
    "if TRAIN_DT:\n",
    "    clf_dt = DecisionTreeClassifier(**study.best_params)\n",
    "else:\n",
    "    clf_dt = DecisionTreeClassifier(**fixed_params)\n",
    "logger.warning(clf_dt.get_params())\n",
    "kf = StratifiedKFold(n_splits=10,shuffle=True,random_state=43)\n",
    "for train_index, test_index in kf.split(X_resampled,y_resampled):\n",
    "    clf_dt.fit(X_resampled.loc[train_index], y_resampled[train_index])\n",
    "    preds = clf_dt.predict(X_resampled.loc[test_index])\n",
    "    accuracy = accuracy_score(y_resampled[test_index], preds)\n",
    "    Accuracy.append(accuracy)\n",
    "    precision = precision_score(y_resampled[test_index], preds)\n",
    "    Precision.append(precision)\n",
    "    recall = recall_score(y_resampled[test_index], preds)\n",
    "    Recall.append(recall)\n",
    "    f1 = f1_score(y_resampled[test_index], preds)\n",
    "    F1.append(f1)\n",
    "    logger.warning(f'{round(np.mean(accuracy), 3)}\\t{round(np.mean(precision), 3)}\\t'\n",
    "                   f'{round(np.mean(recall), 3)}\\t{round(np.mean(f1), 3)}')\n",
    "logger.warning(f'accuracy\\t\\tmean:{round(np.mean(Accuracy), 3)}\\tstd:{round(np.std(Accuracy), 3)}')\n",
    "logger.warning(f'precision\\t\\tmean:{round(np.mean(Precision), 3)}\\tstd:{round(np.std(Precision), 3)}')\n",
    "logger.warning(f'recall\\t\\tmean:{round(np.mean(Recall), 3)}\\tstd:{round(np.std(Recall), 3)}')\n",
    "logger.warning(f'f1\\t\\tmean:{round(np.mean(F1), 3)}\\tstd:{round(np.std(F1), 3)}')\n",
    "if round(np.mean(Accuracy), 3) >=0.8:\n",
    "    from joblib import dump\n",
    "    print('准确率>=0.8,保存模型...')\n",
    "    dump(model,'./output/dpn/model/'+'LR_'+str(round(np.mean(Accuracy), 3))+'.joblib')"
   ]
  },
  {
   "cell_type": "markdown",
   "metadata": {},
   "source": [
    "#### Confusion matrix"
   ]
  },
  {
   "cell_type": "code",
   "execution_count": null,
   "metadata": {},
   "outputs": [
    {
     "ename": "",
     "evalue": "",
     "output_type": "error",
     "traceback": [
      "\u001b[1;31m无法启动 Kernel。 \n",
      "\u001b[1;31mValueError: bad marshal data (unknown type code). \n",
      "\u001b[1;31m有关更多详细信息，请查看 Jupyter <a href='command:jupyter.viewOutput'>log</a>。"
     ]
    }
   ],
   "source": [
    "from sklearn.metrics import plot_confusion_matrix,roc_curve\n",
    "clf_dt.fit(X_shap_train,y_shap_train)\n",
    "clf_dt_pred = clf_dt.predict_proba(X_shap_test)[:,1]\n",
    "dt_fpr,dt_tpr,_ = roc_curve(y_shap_test,clf_dt_pred)\n",
    "print(clf_dt_pred)\n",
    "plot_confusion_matrix(clf_dt,X_shap_test,y_shap_test)\n",
    "plt.title('DT')"
   ]
  },
  {
   "cell_type": "markdown",
   "metadata": {},
   "source": [
    "#### ROC曲线"
   ]
  },
  {
   "cell_type": "code",
   "execution_count": null,
   "metadata": {},
   "outputs": [
    {
     "ename": "",
     "evalue": "",
     "output_type": "error",
     "traceback": [
      "\u001b[1;31m无法启动 Kernel。 \n",
      "\u001b[1;31mValueError: bad marshal data (unknown type code). \n",
      "\u001b[1;31m有关更多详细信息，请查看 Jupyter <a href='command:jupyter.viewOutput'>log</a>。"
     ]
    }
   ],
   "source": [
    "from sklearn.metrics import plot_roc_curve,roc_auc_score\n",
    "dt_score = round(roc_auc_score(y_shap_test,clf_dt_pred),3)\n",
    "\n",
    "# plot_roc_curve(clf_dt,X_shap_test,y_shap_test)\n",
    "dt_score"
   ]
  },
  {
   "cell_type": "markdown",
   "metadata": {},
   "source": [
    "### KNN"
   ]
  },
  {
   "cell_type": "code",
   "execution_count": null,
   "metadata": {},
   "outputs": [
    {
     "ename": "",
     "evalue": "",
     "output_type": "error",
     "traceback": [
      "\u001b[1;31m无法启动 Kernel。 \n",
      "\u001b[1;31mValueError: bad marshal data (unknown type code). \n",
      "\u001b[1;31m有关更多详细信息，请查看 Jupyter <a href='command:jupyter.viewOutput'>log</a>。"
     ]
    }
   ],
   "source": [
    "from sklearn.neighbors import KNeighborsClassifier\n",
    "Accuracy = []\n",
    "Precision = []\n",
    "Recall = []\n",
    "F1 = []\n",
    "clf_knn = KNeighborsClassifier(n_neighbors=2)\n",
    "kf = StratifiedKFold(n_splits=10,shuffle=True,random_state=43)\n",
    "for train_index, test_index in kf.split(X_resampled,y_resampled):\n",
    "    clf_knn.fit(X_resampled.loc[train_index], y_resampled[train_index])\n",
    "    preds = clf_knn.predict(X_resampled.loc[test_index])\n",
    "    accuracy = accuracy_score(y_resampled[test_index], preds)\n",
    "    Accuracy.append(accuracy)\n",
    "    precision = precision_score(y_resampled[test_index], preds)\n",
    "    Precision.append(precision)\n",
    "    recall = recall_score(y_resampled[test_index], preds)\n",
    "    Recall.append(recall)\n",
    "    f1 = f1_score(y_resampled[test_index], preds)\n",
    "    F1.append(f1)\n",
    "    logger.warning(f'{round(np.mean(accuracy), 3)}\\t{round(np.mean(precision), 3)}\\t'\n",
    "                   f'{round(np.mean(recall), 3)}\\t{round(np.mean(f1), 3)}')\n",
    "logger.warning(f'accuracy\\t\\tmean:{round(np.mean(Accuracy), 3)}\\tstd:{round(np.std(Accuracy), 3)}')\n",
    "logger.warning(f'precision\\t\\tmean:{round(np.mean(Precision), 3)}\\tstd:{round(np.std(Precision), 3)}')\n",
    "logger.warning(f'recall\\t\\tmean:{round(np.mean(Recall), 3)}\\tstd:{round(np.std(Recall), 3)}')\n",
    "logger.warning(f'f1\\t\\tmean:{round(np.mean(F1), 3)}\\tstd:{round(np.std(F1), 3)}')\n",
    "if round(np.mean(Accuracy), 3) >=0.8:\n",
    "    from joblib import dump\n",
    "    print('准确率>=0.8,保存模型...')\n",
    "    dump(model,'./output/dpn/model/'+'KNN_'+str(round(np.mean(Accuracy), 3))+'.joblib')"
   ]
  },
  {
   "cell_type": "markdown",
   "metadata": {},
   "source": [
    "#### Confusion matrix"
   ]
  },
  {
   "cell_type": "code",
   "execution_count": null,
   "metadata": {},
   "outputs": [
    {
     "ename": "",
     "evalue": "",
     "output_type": "error",
     "traceback": [
      "\u001b[1;31m无法启动 Kernel。 \n",
      "\u001b[1;31mValueError: bad marshal data (unknown type code). \n",
      "\u001b[1;31m有关更多详细信息，请查看 Jupyter <a href='command:jupyter.viewOutput'>log</a>。"
     ]
    }
   ],
   "source": [
    "from sklearn.metrics import plot_confusion_matrix,roc_curve\n",
    "clf_knn.fit(X_shap_train,y_shap_train)\n",
    "clf_knn_pred = clf_knn.predict_proba(X_shap_test)[:,1]\n",
    "# print(clf_knn_pred)\n",
    "knn_fpr,knn_tpr,_ = roc_curve(y_shap_test,clf_knn_pred)\n",
    "\n",
    "plot_confusion_matrix(clf_knn,X_shap_test,y_shap_test)\n",
    "plt.title('KNN')"
   ]
  },
  {
   "cell_type": "markdown",
   "metadata": {},
   "source": [
    "#### ROC 曲线"
   ]
  },
  {
   "cell_type": "code",
   "execution_count": null,
   "metadata": {},
   "outputs": [
    {
     "ename": "",
     "evalue": "",
     "output_type": "error",
     "traceback": [
      "\u001b[1;31m无法启动 Kernel。 \n",
      "\u001b[1;31mValueError: bad marshal data (unknown type code). \n",
      "\u001b[1;31m有关更多详细信息，请查看 Jupyter <a href='command:jupyter.viewOutput'>log</a>。"
     ]
    }
   ],
   "source": [
    "from sklearn.metrics import plot_roc_curve,roc_auc_score\n",
    "knn_score = round(roc_auc_score(y_shap_test,clf_knn_pred),3)\n",
    "# plot_roc_curve(clf_knn,X_shap_test,y_shap_test)\n",
    "knn_score"
   ]
  },
  {
   "cell_type": "markdown",
   "metadata": {},
   "source": [
    "### NB"
   ]
  },
  {
   "cell_type": "code",
   "execution_count": null,
   "metadata": {},
   "outputs": [
    {
     "ename": "",
     "evalue": "",
     "output_type": "error",
     "traceback": [
      "\u001b[1;31m无法启动 Kernel。 \n",
      "\u001b[1;31mValueError: bad marshal data (unknown type code). \n",
      "\u001b[1;31m有关更多详细信息，请查看 Jupyter <a href='command:jupyter.viewOutput'>log</a>。"
     ]
    }
   ],
   "source": [
    "from sklearn.naive_bayes import GaussianNB\n",
    "Accuracy = []\n",
    "Precision = []\n",
    "Recall = []\n",
    "F1 = []\n",
    "clf_nb = GaussianNB()\n",
    "kf = StratifiedKFold(n_splits=10,shuffle=True,random_state=43)\n",
    "for train_index, test_index in kf.split(X_resampled,y_resampled):\n",
    "    clf_nb.fit(X_resampled.loc[train_index], y_resampled[train_index])\n",
    "    preds = clf_nb.predict(X_resampled.loc[test_index])\n",
    "    accuracy = accuracy_score(y_resampled[test_index], preds)\n",
    "    Accuracy.append(accuracy)\n",
    "    precision = precision_score(y_resampled[test_index], preds)\n",
    "    Precision.append(precision)\n",
    "    recall = recall_score(y_resampled[test_index], preds)\n",
    "    Recall.append(recall)\n",
    "    f1 = f1_score(y_resampled[test_index], preds)\n",
    "    F1.append(f1)\n",
    "    logger.warning(f'{round(np.mean(accuracy), 3)}\\t{round(np.mean(precision), 3)}\\t'\n",
    "                   f'{round(np.mean(recall), 3)}\\t{round(np.mean(f1), 3)}')\n",
    "logger.warning(f'accuracy\\t\\tmean:{round(np.mean(Accuracy), 3)}\\tstd:{round(np.std(Accuracy), 3)}')\n",
    "logger.warning(f'precision\\t\\tmean:{round(np.mean(Precision), 3)}\\tstd:{round(np.std(Precision), 3)}')\n",
    "logger.warning(f'recall\\t\\tmean:{round(np.mean(Recall), 3)}\\tstd:{round(np.std(Recall), 3)}')\n",
    "logger.warning(f'f1\\t\\tmean:{round(np.mean(F1), 3)}\\tstd:{round(np.std(F1), 3)}')\n",
    "if round(np.mean(Accuracy), 3) >=0.8:\n",
    "    from joblib import dump\n",
    "    print('准确率>=0.8,保存模型...')\n",
    "    dump(model,'./output/dpn/model/'+'KNN_'+str(round(np.mean(Accuracy), 3))+'.joblib')"
   ]
  },
  {
   "cell_type": "markdown",
   "metadata": {},
   "source": [
    "#### Confusion matrix"
   ]
  },
  {
   "cell_type": "code",
   "execution_count": null,
   "metadata": {},
   "outputs": [
    {
     "ename": "",
     "evalue": "",
     "output_type": "error",
     "traceback": [
      "\u001b[1;31m无法启动 Kernel。 \n",
      "\u001b[1;31mValueError: bad marshal data (unknown type code). \n",
      "\u001b[1;31m有关更多详细信息，请查看 Jupyter <a href='command:jupyter.viewOutput'>log</a>。"
     ]
    }
   ],
   "source": [
    "from sklearn.metrics import plot_confusion_matrix,roc_curve\n",
    "clf_nb.fit(X_shap_train,y_shap_train)\n",
    "clf_nb_pred = clf_nb.predict_proba(X_shap_test)[:,1]\n",
    "nb_fpr,nb_tpr,_ = roc_curve(y_shap_test,clf_nb_pred)\n",
    "\n",
    "plot_confusion_matrix(clf_nb,X_shap_test,y_shap_test)\n",
    "plt.title('NB')"
   ]
  },
  {
   "cell_type": "markdown",
   "metadata": {},
   "source": [
    "#### ROC曲线"
   ]
  },
  {
   "cell_type": "code",
   "execution_count": null,
   "metadata": {},
   "outputs": [
    {
     "ename": "",
     "evalue": "",
     "output_type": "error",
     "traceback": [
      "\u001b[1;31m无法启动 Kernel。 \n",
      "\u001b[1;31mValueError: bad marshal data (unknown type code). \n",
      "\u001b[1;31m有关更多详细信息，请查看 Jupyter <a href='command:jupyter.viewOutput'>log</a>。"
     ]
    }
   ],
   "source": [
    "from sklearn.metrics import plot_roc_curve,roc_auc_score\n",
    "nb_score = round(roc_auc_score(y_shap_test,clf_nb_pred),3)\n",
    "# plot_roc_curve(clf_nb,X_shap_test,y_shap_test)\n",
    "nb_score"
   ]
  },
  {
   "cell_type": "markdown",
   "metadata": {},
   "source": [
    "## 实验结果"
   ]
  },
  {
   "cell_type": "markdown",
   "metadata": {},
   "source": [
    "#### ROC曲线"
   ]
  },
  {
   "cell_type": "code",
   "execution_count": null,
   "metadata": {},
   "outputs": [
    {
     "ename": "",
     "evalue": "",
     "output_type": "error",
     "traceback": [
      "\u001b[1;31m无法启动 Kernel。 \n",
      "\u001b[1;31mValueError: bad marshal data (unknown type code). \n",
      "\u001b[1;31m有关更多详细信息，请查看 Jupyter <a href='command:jupyter.viewOutput'>log</a>。"
     ]
    }
   ],
   "source": [
    "import matplotlib.pyplot as plt\n",
    "auc_score = {\n",
    "    'XGBoost':[xgb_fpr,xgb_tpr,xgb_score],\n",
    "    # 'SVM':[svc_fpr,svc_tpr,svc_score],\n",
    "    'Logistic Regression':[lr_fpr,lr_tpr,lr_score],\n",
    "    'Random Forest':[rf_fpr,rf_tpr,rf_score],\n",
    "    'KNN':[knn_fpr,knn_tpr,knn_score],\n",
    "    'Decision Tree':[dt_fpr,dt_tpr,dt_score],\n",
    "    'Naive Bayes':[nb_fpr,nb_tpr,nb_score]\n",
    "}\n",
    "auc_score = sorted(auc_score.items(),key=lambda x:x[1][2],reverse=True)\n",
    "\n",
    "for name,value in auc_score:\n",
    "    plt.plot(value[0],value[1],label=f'{name} = {value[2]}')\n",
    "plt.plot([0,1],[0,1],'b--')\n",
    "plt.ylabel('True positive rate')\n",
    "plt.xlabel('False positive rate')\n",
    "plt.legend()\n",
    "plt.show()"
   ]
  }
 ],
 "metadata": {
  "kernelspec": {
   "display_name": "dpn",
   "language": "python",
   "name": "python3"
  },
  "language_info": {
   "codemirror_mode": {
    "name": "ipython",
    "version": 3
   },
   "file_extension": ".py",
   "mimetype": "text/x-python",
   "name": "python",
   "nbconvert_exporter": "python",
   "pygments_lexer": "ipython3",
   "version": "3.10.9"
  },
  "orig_nbformat": 4,
  "vscode": {
   "interpreter": {
    "hash": "660cafdc9f0388d9daa0c61bc802a05e2c264bcf8ff26b3d77fddf5d8babd6d9"
   }
  }
 },
 "nbformat": 4,
 "nbformat_minor": 2
}
